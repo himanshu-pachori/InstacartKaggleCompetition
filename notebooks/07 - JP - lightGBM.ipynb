{
 "cells": [
  {
   "cell_type": "code",
   "execution_count": 1,
   "metadata": {
    "collapsed": false,
    "deletable": true,
    "editable": true
   },
   "outputs": [],
   "source": [
    "import numpy as np\n",
    "import pandas as pd\n",
    "import scipy as sp\n",
    "import lightgbm as lgb\n",
    "import gc"
   ]
  },
  {
   "cell_type": "code",
   "execution_count": 2,
   "metadata": {
    "collapsed": false,
    "deletable": true,
    "editable": true
   },
   "outputs": [],
   "source": [
    "import gensim\n",
    "import pickle"
   ]
  },
  {
   "cell_type": "code",
   "execution_count": 3,
   "metadata": {
    "collapsed": false,
    "deletable": true,
    "editable": true
   },
   "outputs": [],
   "source": [
    "from sklearn.model_selection import train_test_split"
   ]
  },
  {
   "cell_type": "markdown",
   "metadata": {
    "deletable": true,
    "editable": true
   },
   "source": [
    "### Load Data"
   ]
  },
  {
   "cell_type": "code",
   "execution_count": 4,
   "metadata": {
    "collapsed": false,
    "deletable": true,
    "editable": true
   },
   "outputs": [
    {
     "name": "stdout",
     "output_type": "stream",
     "text": [
      "loading prior\n",
      "loading train\n",
      "loading orders\n",
      "loading products\n",
      "priors (32434489, 4): order_id, product_id, add_to_cart_order, reordered\n",
      "orders (3421083, 7): order_id, user_id, eval_set, order_number, order_dow, order_hour_of_day, days_since_prior_order\n",
      "train (1384617, 4): order_id, product_id, add_to_cart_order, reordered\n",
      "train (1384617, 4): product_id, aisle_id, department_id\n"
     ]
    }
   ],
   "source": [
    "IDIR = '../data/raw/'\n",
    "print('loading prior')\n",
    "priors = pd.read_csv(IDIR + 'order_products__prior.csv', dtype={\n",
    "            'order_id': np.int32,\n",
    "            'product_id': np.uint16,\n",
    "            'add_to_cart_order': np.int16,\n",
    "            'reordered': np.int8})\n",
    "\n",
    "print('loading train')\n",
    "train = pd.read_csv(IDIR + 'order_products__train.csv', dtype={\n",
    "            'order_id': np.int32,\n",
    "            'product_id': np.uint16,\n",
    "            'add_to_cart_order': np.int16,\n",
    "            'reordered': np.int8})\n",
    "\n",
    "print('loading orders')\n",
    "orders = pd.read_csv(IDIR + 'orders.csv', dtype={\n",
    "        'order_id': np.int32,\n",
    "        'user_id': np.int32,\n",
    "        'order_number': np.int16,\n",
    "        'order_dow': np.int8,\n",
    "        'order_hour_of_day': np.int8,\n",
    "        'days_since_prior_order': np.float32})\n",
    "\n",
    "print('loading products')\n",
    "products = pd.read_csv(IDIR + 'products.csv', dtype={\n",
    "        'product_id': np.uint16,\n",
    "        'order_id': np.int32,\n",
    "        'aisle_id': np.uint8,\n",
    "        'department_id': np.uint8},\n",
    "        usecols=['product_id', 'aisle_id', 'department_id'])\n",
    "\n",
    "print('priors {}: {}'.format(priors.shape, ', '.join(priors.columns)))\n",
    "print('orders {}: {}'.format(orders.shape, ', '.join(orders.columns)))\n",
    "print('train {}: {}'.format(train.shape, ', '.join(train.columns)))\n",
    "print('train {}: {}'.format(train.shape, ', '.join(products.columns)))"
   ]
  },
  {
   "cell_type": "code",
   "execution_count": 5,
   "metadata": {
    "collapsed": false,
    "deletable": true,
    "editable": true
   },
   "outputs": [
    {
     "name": "stdout",
     "output_type": "stream",
     "text": [
      "computing product f\n"
     ]
    },
    {
     "data": {
      "text/plain": [
       "62"
      ]
     },
     "execution_count": 5,
     "metadata": {},
     "output_type": "execute_result"
    }
   ],
   "source": [
    "print('computing product f')\n",
    "prods = pd.DataFrame()\n",
    "prods['orders'] = priors.groupby(priors.product_id).size().astype(np.int32)\n",
    "prods['reorders'] = priors['reordered'].groupby(priors.product_id).sum().astype(np.float32)\n",
    "prods['reorder_rate'] = (prods.reorders / prods.orders).astype(np.float32)\n",
    "products = products.join(prods, on='product_id')\n",
    "products.set_index('product_id', drop=False, inplace=True)\n",
    "del prods\n",
    "gc.collect()"
   ]
  },
  {
   "cell_type": "code",
   "execution_count": 6,
   "metadata": {
    "collapsed": false,
    "deletable": true,
    "editable": true
   },
   "outputs": [
    {
     "name": "stdout",
     "output_type": "stream",
     "text": [
      "add order info to priors\n"
     ]
    }
   ],
   "source": [
    "print('add order info to priors')\n",
    "orders.set_index('order_id', inplace=True, drop=False)\n",
    "priors = priors.join(orders, on='order_id', rsuffix='_')\n",
    "priors.drop('order_id_', inplace=True, axis=1)"
   ]
  },
  {
   "cell_type": "code",
   "execution_count": 7,
   "metadata": {
    "collapsed": false,
    "deletable": true,
    "editable": true
   },
   "outputs": [
    {
     "name": "stdout",
     "output_type": "stream",
     "text": [
      "computing user f\n",
      "('user f', (206209, 6))\n"
     ]
    },
    {
     "data": {
      "text/plain": [
       "57"
      ]
     },
     "execution_count": 7,
     "metadata": {},
     "output_type": "execute_result"
    }
   ],
   "source": [
    "### user features\n",
    "print('computing user f')\n",
    "usr = pd.DataFrame()\n",
    "usr['average_days_between_orders'] = orders[orders.eval_set == \"prior\"].groupby('user_id')['days_since_prior_order'].mean().astype(np.float32)\n",
    "usr['nb_orders'] = orders[orders.eval_set == \"prior\"].groupby('user_id').size().astype(np.int16)\n",
    "\n",
    "users = pd.DataFrame()\n",
    "users['total_items'] = priors.groupby('user_id').size().astype(np.int16)\n",
    "users['all_products'] = priors.groupby('user_id')['product_id'].apply(set)\n",
    "users['total_distinct_items'] = (users.all_products.map(len)).astype(np.int16)\n",
    "\n",
    "users = users.join(usr)\n",
    "users['average_basket'] = (users.total_items / users.nb_orders).astype(np.float32)\n",
    "print('user f', users.shape)\n",
    "\n",
    "del usr, priors\n",
    "gc.collect()"
   ]
  },
  {
   "cell_type": "code",
   "execution_count": 35,
   "metadata": {
    "collapsed": true,
    "deletable": true,
    "editable": true
   },
   "outputs": [],
   "source": [
    "### build list of candidate products to reorder, with features ###\n",
    "def features(selected_orders, labels_given=False):\n",
    "    print('build candidate list')\n",
    "    order_list = []\n",
    "    product_list = []\n",
    "    labels = []\n",
    "    i=0\n",
    "    for row in selected_orders.itertuples():\n",
    "        i+=1\n",
    "        if i%10000 == 0: print('order row',i)\n",
    "        order_id = row.order_id\n",
    "        user_id = row.user_id\n",
    "        user_products = users.all_products[user_id]\n",
    "        product_list += user_products\n",
    "        order_list += [order_id] * len(user_products)\n",
    "        if labels_given:\n",
    "            labels += [(order_id, product) in train.index for product in user_products]\n",
    "        \n",
    "    df = pd.DataFrame({'order_id':order_list, 'product_id':product_list}, dtype=np.int32)\n",
    "    labels = np.array(labels, dtype=np.int8)\n",
    "    del order_list\n",
    "    del product_list\n",
    "    \n",
    "    print('user related features')\n",
    "    df['user_id'] = df.order_id.map(orders.user_id)\n",
    "    df['user_total_orders'] = df.user_id.map(users.nb_orders)\n",
    "    df['user_total_items'] = df.user_id.map(users.total_items)\n",
    "    df['total_distinct_items'] = df.user_id.map(users.total_distinct_items)\n",
    "    df['user_average_days_between_orders'] = df.user_id.map(users.average_days_between_orders)\n",
    "    df['user_average_basket'] =  df.user_id.map(users.average_basket)\n",
    "    \n",
    "    print('order related features')\n",
    "    df['dow'] = df.order_id.map(orders.order_dow)\n",
    "    df['order_hour_of_day'] = df.order_id.map(orders.order_hour_of_day)\n",
    "    df['days_since_prior_order'] = df.order_id.map(orders.days_since_prior_order)\n",
    "    df['days_since_ratio'] = df.days_since_prior_order / df.user_average_days_between_orders\n",
    "    \n",
    "    print('product related features')\n",
    "    df['aisle_id'] = df.product_id.map(products.aisle_id)\n",
    "    df['department_id'] = df.product_id.map(products.department_id)\n",
    "    df['product_orders'] = df.product_id.map(products.orders).astype(np.int32)\n",
    "    df['product_reorders'] = df.product_id.map(products.reorders)\n",
    "    df['product_reorder_rate'] = df.product_id.map(products.reorder_rate)\n",
    "\n",
    "    print(df.dtypes)\n",
    "    print(df.memory_usage())\n",
    "    return (df, labels)"
   ]
  },
  {
   "cell_type": "code",
   "execution_count": 32,
   "metadata": {
    "collapsed": false,
    "deletable": true,
    "editable": true
   },
   "outputs": [
    {
     "name": "stdout",
     "output_type": "stream",
     "text": [
      "split orders : train, test\n"
     ]
    }
   ],
   "source": [
    "### train / test orders ###\n",
    "print('split orders : train, test')\n",
    "train_orders = orders[orders.eval_set == 'train']\n",
    "test_orders = orders[orders.eval_set == 'test']\n",
    "\n",
    "train.set_index(['order_id', 'product_id'], inplace=True, drop=False)"
   ]
  },
  {
   "cell_type": "code",
   "execution_count": 10,
   "metadata": {
    "collapsed": false,
    "deletable": true,
    "editable": true
   },
   "outputs": [
    {
     "name": "stdout",
     "output_type": "stream",
     "text": [
      "build candidate list\n",
      "('order row', 10000)\n",
      "('order row', 20000)\n",
      "('order row', 30000)\n",
      "('order row', 40000)\n",
      "('order row', 50000)\n",
      "('order row', 60000)\n",
      "('order row', 70000)\n",
      "('order row', 80000)\n",
      "('order row', 90000)\n",
      "('order row', 100000)\n",
      "('order row', 110000)\n",
      "('order row', 120000)\n",
      "('order row', 130000)\n",
      "user related features\n",
      "order related features\n",
      "product related features\n",
      "order_id                              int32\n",
      "product_id                            int32\n",
      "user_id                               int32\n",
      "user_total_orders                     int16\n",
      "user_total_items                      int16\n",
      "total_distinct_items                  int16\n",
      "user_average_days_between_orders    float32\n",
      "user_average_basket                 float32\n",
      "dow                                    int8\n",
      "order_hour_of_day                      int8\n",
      "days_since_prior_order              float32\n",
      "days_since_ratio                    float32\n",
      "aisle_id                              uint8\n",
      "department_id                         uint8\n",
      "product_orders                        int32\n",
      "product_reorders                    float32\n",
      "product_reorder_rate                float32\n",
      "dtype: object\n",
      "Index                                     72\n",
      "order_id                            33898644\n",
      "product_id                          33898644\n",
      "user_id                             33898644\n",
      "user_total_orders                   16949322\n",
      "user_total_items                    16949322\n",
      "total_distinct_items                16949322\n",
      "user_average_days_between_orders    33898644\n",
      "user_average_basket                 33898644\n",
      "dow                                  8474661\n",
      "order_hour_of_day                    8474661\n",
      "days_since_prior_order              33898644\n",
      "days_since_ratio                    33898644\n",
      "aisle_id                             8474661\n",
      "department_id                        8474661\n",
      "product_orders                      33898644\n",
      "product_reorders                    33898644\n",
      "product_reorder_rate                33898644\n",
      "dtype: int64\n"
     ]
    }
   ],
   "source": [
    "df_train, labels = features(train_orders, labels_given=True)"
   ]
  },
  {
   "cell_type": "code",
   "execution_count": 11,
   "metadata": {
    "collapsed": false,
    "deletable": true,
    "editable": true
   },
   "outputs": [
    {
     "data": {
      "text/plain": [
       "92"
      ]
     },
     "execution_count": 11,
     "metadata": {},
     "output_type": "execute_result"
    }
   ],
   "source": [
    "del train_orders\n",
    "gc.collect()"
   ]
  },
  {
   "cell_type": "code",
   "execution_count": 12,
   "metadata": {
    "collapsed": false,
    "deletable": true,
    "editable": true
   },
   "outputs": [
    {
     "data": {
      "text/plain": [
       "(8474661, 17)"
      ]
     },
     "execution_count": 12,
     "metadata": {},
     "output_type": "execute_result"
    }
   ],
   "source": [
    "df_train.shape"
   ]
  },
  {
   "cell_type": "code",
   "execution_count": 13,
   "metadata": {
    "collapsed": false,
    "deletable": true,
    "editable": true
   },
   "outputs": [
    {
     "data": {
      "text/html": [
       "<div>\n",
       "<style>\n",
       "    .dataframe thead tr:only-child th {\n",
       "        text-align: right;\n",
       "    }\n",
       "\n",
       "    .dataframe thead th {\n",
       "        text-align: left;\n",
       "    }\n",
       "\n",
       "    .dataframe tbody tr th {\n",
       "        vertical-align: top;\n",
       "    }\n",
       "</style>\n",
       "<table border=\"1\" class=\"dataframe\">\n",
       "  <thead>\n",
       "    <tr style=\"text-align: right;\">\n",
       "      <th></th>\n",
       "      <th>order_id</th>\n",
       "      <th>product_id</th>\n",
       "      <th>user_id</th>\n",
       "      <th>user_total_orders</th>\n",
       "      <th>user_total_items</th>\n",
       "      <th>total_distinct_items</th>\n",
       "      <th>user_average_days_between_orders</th>\n",
       "      <th>user_average_basket</th>\n",
       "      <th>dow</th>\n",
       "      <th>order_hour_of_day</th>\n",
       "      <th>days_since_prior_order</th>\n",
       "      <th>days_since_ratio</th>\n",
       "      <th>aisle_id</th>\n",
       "      <th>department_id</th>\n",
       "      <th>product_orders</th>\n",
       "      <th>product_reorders</th>\n",
       "      <th>product_reorder_rate</th>\n",
       "    </tr>\n",
       "  </thead>\n",
       "  <tbody>\n",
       "    <tr>\n",
       "      <th>0</th>\n",
       "      <td>1187899</td>\n",
       "      <td>17122</td>\n",
       "      <td>1</td>\n",
       "      <td>10</td>\n",
       "      <td>59</td>\n",
       "      <td>18</td>\n",
       "      <td>19.555555</td>\n",
       "      <td>5.9</td>\n",
       "      <td>4</td>\n",
       "      <td>8</td>\n",
       "      <td>14.0</td>\n",
       "      <td>0.715909</td>\n",
       "      <td>24</td>\n",
       "      <td>4</td>\n",
       "      <td>13880</td>\n",
       "      <td>9377.0</td>\n",
       "      <td>0.675576</td>\n",
       "    </tr>\n",
       "    <tr>\n",
       "      <th>1</th>\n",
       "      <td>1187899</td>\n",
       "      <td>196</td>\n",
       "      <td>1</td>\n",
       "      <td>10</td>\n",
       "      <td>59</td>\n",
       "      <td>18</td>\n",
       "      <td>19.555555</td>\n",
       "      <td>5.9</td>\n",
       "      <td>4</td>\n",
       "      <td>8</td>\n",
       "      <td>14.0</td>\n",
       "      <td>0.715909</td>\n",
       "      <td>77</td>\n",
       "      <td>7</td>\n",
       "      <td>35791</td>\n",
       "      <td>27791.0</td>\n",
       "      <td>0.776480</td>\n",
       "    </tr>\n",
       "    <tr>\n",
       "      <th>2</th>\n",
       "      <td>1187899</td>\n",
       "      <td>26405</td>\n",
       "      <td>1</td>\n",
       "      <td>10</td>\n",
       "      <td>59</td>\n",
       "      <td>18</td>\n",
       "      <td>19.555555</td>\n",
       "      <td>5.9</td>\n",
       "      <td>4</td>\n",
       "      <td>8</td>\n",
       "      <td>14.0</td>\n",
       "      <td>0.715909</td>\n",
       "      <td>54</td>\n",
       "      <td>17</td>\n",
       "      <td>1214</td>\n",
       "      <td>536.0</td>\n",
       "      <td>0.441516</td>\n",
       "    </tr>\n",
       "    <tr>\n",
       "      <th>3</th>\n",
       "      <td>1187899</td>\n",
       "      <td>13032</td>\n",
       "      <td>1</td>\n",
       "      <td>10</td>\n",
       "      <td>59</td>\n",
       "      <td>18</td>\n",
       "      <td>19.555555</td>\n",
       "      <td>5.9</td>\n",
       "      <td>4</td>\n",
       "      <td>8</td>\n",
       "      <td>14.0</td>\n",
       "      <td>0.715909</td>\n",
       "      <td>121</td>\n",
       "      <td>14</td>\n",
       "      <td>3751</td>\n",
       "      <td>2465.0</td>\n",
       "      <td>0.657158</td>\n",
       "    </tr>\n",
       "    <tr>\n",
       "      <th>4</th>\n",
       "      <td>1187899</td>\n",
       "      <td>39657</td>\n",
       "      <td>1</td>\n",
       "      <td>10</td>\n",
       "      <td>59</td>\n",
       "      <td>18</td>\n",
       "      <td>19.555555</td>\n",
       "      <td>5.9</td>\n",
       "      <td>4</td>\n",
       "      <td>8</td>\n",
       "      <td>14.0</td>\n",
       "      <td>0.715909</td>\n",
       "      <td>45</td>\n",
       "      <td>19</td>\n",
       "      <td>5019</td>\n",
       "      <td>3846.0</td>\n",
       "      <td>0.766288</td>\n",
       "    </tr>\n",
       "  </tbody>\n",
       "</table>\n",
       "</div>"
      ],
      "text/plain": [
       "   order_id  product_id  user_id  user_total_orders  user_total_items  \\\n",
       "0   1187899       17122        1                 10                59   \n",
       "1   1187899         196        1                 10                59   \n",
       "2   1187899       26405        1                 10                59   \n",
       "3   1187899       13032        1                 10                59   \n",
       "4   1187899       39657        1                 10                59   \n",
       "\n",
       "   total_distinct_items  user_average_days_between_orders  \\\n",
       "0                    18                         19.555555   \n",
       "1                    18                         19.555555   \n",
       "2                    18                         19.555555   \n",
       "3                    18                         19.555555   \n",
       "4                    18                         19.555555   \n",
       "\n",
       "   user_average_basket  dow  order_hour_of_day  days_since_prior_order  \\\n",
       "0                  5.9    4                  8                    14.0   \n",
       "1                  5.9    4                  8                    14.0   \n",
       "2                  5.9    4                  8                    14.0   \n",
       "3                  5.9    4                  8                    14.0   \n",
       "4                  5.9    4                  8                    14.0   \n",
       "\n",
       "   days_since_ratio  aisle_id  department_id  product_orders  \\\n",
       "0          0.715909        24              4           13880   \n",
       "1          0.715909        77              7           35791   \n",
       "2          0.715909        54             17            1214   \n",
       "3          0.715909       121             14            3751   \n",
       "4          0.715909        45             19            5019   \n",
       "\n",
       "   product_reorders  product_reorder_rate  \n",
       "0            9377.0              0.675576  \n",
       "1           27791.0              0.776480  \n",
       "2             536.0              0.441516  \n",
       "3            2465.0              0.657158  \n",
       "4            3846.0              0.766288  "
      ]
     },
     "execution_count": 13,
     "metadata": {},
     "output_type": "execute_result"
    }
   ],
   "source": [
    "df_train.head()"
   ]
  },
  {
   "cell_type": "markdown",
   "metadata": {
    "deletable": true,
    "editable": true
   },
   "source": [
    "## Load other pre-calculated user features and product embedding features"
   ]
  },
  {
   "cell_type": "code",
   "execution_count": 12,
   "metadata": {
    "collapsed": false,
    "deletable": true,
    "editable": true
   },
   "outputs": [],
   "source": [
    "# all user feature(others) \n",
    "all_users_features_df = pd.read_pickle(\"../data/processed/cleaned_all_users_features.pickle\")"
   ]
  },
  {
   "cell_type": "code",
   "execution_count": 14,
   "metadata": {
    "collapsed": false,
    "deletable": true,
    "editable": true
   },
   "outputs": [],
   "source": [
    "cols = all_users_features_df.columns\n",
    "dow_cols = cols[cols.str.startswith('dow_')].tolist() + cols[cols.str.startswith('daytime_')].tolist()\n",
    "most_cols = cols[cols.str.startswith('most_')].tolist()\n",
    "top_cols = cols[cols.str.startswith('top')].tolist()\n",
    "emb_cols = cols[cols.str.startswith('emb_')].tolist()"
   ]
  },
  {
   "cell_type": "code",
   "execution_count": 15,
   "metadata": {
    "collapsed": false,
    "deletable": true,
    "editable": true
   },
   "outputs": [
    {
     "name": "stdout",
     "output_type": "stream",
     "text": [
      "join with the user features\n"
     ]
    }
   ],
   "source": [
    "print(\"join with the user features\")\n",
    "to_join = [\"user_id\", 'user_avg_reordered', 'user_perc_reordered'] + most_cols + dow_cols + emb_cols + top_cols\n",
    "df_train = pd.merge(df_train, all_users_features_df[to_join], on =\"user_id\")"
   ]
  },
  {
   "cell_type": "code",
   "execution_count": 16,
   "metadata": {
    "collapsed": false,
    "deletable": true,
    "editable": true
   },
   "outputs": [
    {
     "data": {
      "text/plain": [
       "21"
      ]
     },
     "execution_count": 16,
     "metadata": {},
     "output_type": "execute_result"
    }
   ],
   "source": [
    "gc.collect()"
   ]
  },
  {
   "cell_type": "code",
   "execution_count": 17,
   "metadata": {
    "collapsed": false,
    "deletable": true,
    "editable": true
   },
   "outputs": [
    {
     "name": "stdout",
     "output_type": "stream",
     "text": [
      "<class 'pandas.core.frame.DataFrame'>\n",
      "Int64Index: 8474661 entries, 0 to 8474660\n",
      "Columns: 137 entries, order_id to top3_reordered_pid\n",
      "dtypes: float32(108), int16(3), int32(7), int8(2), uint8(17)\n",
      "memory usage: 3.9 GB\n"
     ]
    }
   ],
   "source": [
    "df_train.info()"
   ]
  },
  {
   "cell_type": "code",
   "execution_count": 15,
   "metadata": {
    "collapsed": true,
    "deletable": true,
    "editable": true
   },
   "outputs": [],
   "source": [
    "#product_emd = gensim.models.Word2Vec.load(\"../data/interim/product2vec.model\")"
   ]
  },
  {
   "cell_type": "code",
   "execution_count": 16,
   "metadata": {
    "collapsed": false,
    "deletable": true,
    "editable": true
   },
   "outputs": [],
   "source": [
    "#product_emd_dict = {k: product_emd[k]  for k in product_emd.wv.vocab.keys()}"
   ]
  },
  {
   "cell_type": "code",
   "execution_count": 17,
   "metadata": {
    "collapsed": false,
    "deletable": true,
    "editable": true
   },
   "outputs": [],
   "source": [
    "# product_emd_df = np.round(pd.DataFrame.from_dict(product_emd_dict, orient='index', dtype = np.float32),2).\\\n",
    "#                     add_prefix('prod2vec_').reset_index().\\\n",
    "#                     rename(columns = {'index': 'product_id'})"
   ]
  },
  {
   "cell_type": "code",
   "execution_count": 23,
   "metadata": {
    "collapsed": false,
    "deletable": true,
    "editable": true
   },
   "outputs": [
    {
     "data": {
      "text/html": [
       "<div>\n",
       "<table border=\"1\" class=\"dataframe\">\n",
       "  <thead>\n",
       "    <tr style=\"text-align: right;\">\n",
       "      <th></th>\n",
       "      <th>product_id</th>\n",
       "      <th>prod2vec_0</th>\n",
       "      <th>prod2vec_1</th>\n",
       "      <th>prod2vec_2</th>\n",
       "      <th>prod2vec_3</th>\n",
       "      <th>prod2vec_4</th>\n",
       "      <th>prod2vec_5</th>\n",
       "      <th>prod2vec_6</th>\n",
       "      <th>prod2vec_7</th>\n",
       "      <th>prod2vec_8</th>\n",
       "      <th>...</th>\n",
       "      <th>prod2vec_90</th>\n",
       "      <th>prod2vec_91</th>\n",
       "      <th>prod2vec_92</th>\n",
       "      <th>prod2vec_93</th>\n",
       "      <th>prod2vec_94</th>\n",
       "      <th>prod2vec_95</th>\n",
       "      <th>prod2vec_96</th>\n",
       "      <th>prod2vec_97</th>\n",
       "      <th>prod2vec_98</th>\n",
       "      <th>prod2vec_99</th>\n",
       "    </tr>\n",
       "  </thead>\n",
       "  <tbody>\n",
       "    <tr>\n",
       "      <th>0</th>\n",
       "      <td>13357</td>\n",
       "      <td>-0.00</td>\n",
       "      <td>-0.22</td>\n",
       "      <td>0.19</td>\n",
       "      <td>-0.32</td>\n",
       "      <td>0.16</td>\n",
       "      <td>-0.17</td>\n",
       "      <td>-0.24</td>\n",
       "      <td>0.11</td>\n",
       "      <td>0.19</td>\n",
       "      <td>...</td>\n",
       "      <td>0.13</td>\n",
       "      <td>-0.13</td>\n",
       "      <td>-0.27</td>\n",
       "      <td>0.15</td>\n",
       "      <td>-0.43</td>\n",
       "      <td>0.07</td>\n",
       "      <td>-0.15</td>\n",
       "      <td>0.28</td>\n",
       "      <td>0.02</td>\n",
       "      <td>0.12</td>\n",
       "    </tr>\n",
       "    <tr>\n",
       "      <th>1</th>\n",
       "      <td>11542</td>\n",
       "      <td>0.12</td>\n",
       "      <td>0.29</td>\n",
       "      <td>-0.02</td>\n",
       "      <td>-0.07</td>\n",
       "      <td>-0.12</td>\n",
       "      <td>-0.02</td>\n",
       "      <td>-0.22</td>\n",
       "      <td>0.17</td>\n",
       "      <td>0.09</td>\n",
       "      <td>...</td>\n",
       "      <td>-0.21</td>\n",
       "      <td>0.07</td>\n",
       "      <td>-0.19</td>\n",
       "      <td>-0.02</td>\n",
       "      <td>-0.18</td>\n",
       "      <td>0.20</td>\n",
       "      <td>-0.13</td>\n",
       "      <td>-0.02</td>\n",
       "      <td>-0.26</td>\n",
       "      <td>0.18</td>\n",
       "    </tr>\n",
       "    <tr>\n",
       "      <th>2</th>\n",
       "      <td>11543</td>\n",
       "      <td>0.77</td>\n",
       "      <td>-0.30</td>\n",
       "      <td>0.90</td>\n",
       "      <td>-0.74</td>\n",
       "      <td>0.47</td>\n",
       "      <td>0.93</td>\n",
       "      <td>0.88</td>\n",
       "      <td>-0.38</td>\n",
       "      <td>0.26</td>\n",
       "      <td>...</td>\n",
       "      <td>-1.75</td>\n",
       "      <td>0.18</td>\n",
       "      <td>-1.21</td>\n",
       "      <td>-1.28</td>\n",
       "      <td>-0.60</td>\n",
       "      <td>0.36</td>\n",
       "      <td>1.37</td>\n",
       "      <td>1.58</td>\n",
       "      <td>-1.18</td>\n",
       "      <td>0.82</td>\n",
       "    </tr>\n",
       "    <tr>\n",
       "      <th>3</th>\n",
       "      <td>11540</td>\n",
       "      <td>0.77</td>\n",
       "      <td>-0.38</td>\n",
       "      <td>-0.62</td>\n",
       "      <td>-0.80</td>\n",
       "      <td>0.26</td>\n",
       "      <td>-1.03</td>\n",
       "      <td>-0.77</td>\n",
       "      <td>0.50</td>\n",
       "      <td>-0.51</td>\n",
       "      <td>...</td>\n",
       "      <td>-0.47</td>\n",
       "      <td>-0.02</td>\n",
       "      <td>-0.26</td>\n",
       "      <td>1.60</td>\n",
       "      <td>0.46</td>\n",
       "      <td>0.93</td>\n",
       "      <td>-0.12</td>\n",
       "      <td>-0.64</td>\n",
       "      <td>0.43</td>\n",
       "      <td>-0.51</td>\n",
       "    </tr>\n",
       "    <tr>\n",
       "      <th>4</th>\n",
       "      <td>11541</td>\n",
       "      <td>-0.23</td>\n",
       "      <td>-0.08</td>\n",
       "      <td>0.20</td>\n",
       "      <td>-0.07</td>\n",
       "      <td>0.04</td>\n",
       "      <td>-0.36</td>\n",
       "      <td>0.01</td>\n",
       "      <td>0.34</td>\n",
       "      <td>-0.00</td>\n",
       "      <td>...</td>\n",
       "      <td>-0.15</td>\n",
       "      <td>-0.08</td>\n",
       "      <td>0.02</td>\n",
       "      <td>0.37</td>\n",
       "      <td>0.18</td>\n",
       "      <td>-0.37</td>\n",
       "      <td>-0.41</td>\n",
       "      <td>-0.01</td>\n",
       "      <td>0.07</td>\n",
       "      <td>0.38</td>\n",
       "    </tr>\n",
       "  </tbody>\n",
       "</table>\n",
       "<p>5 rows × 101 columns</p>\n",
       "</div>"
      ],
      "text/plain": [
       "  product_id  prod2vec_0  prod2vec_1  prod2vec_2  prod2vec_3  prod2vec_4  \\\n",
       "0      13357       -0.00       -0.22        0.19       -0.32        0.16   \n",
       "1      11542        0.12        0.29       -0.02       -0.07       -0.12   \n",
       "2      11543        0.77       -0.30        0.90       -0.74        0.47   \n",
       "3      11540        0.77       -0.38       -0.62       -0.80        0.26   \n",
       "4      11541       -0.23       -0.08        0.20       -0.07        0.04   \n",
       "\n",
       "   prod2vec_5  prod2vec_6  prod2vec_7  prod2vec_8     ...       prod2vec_90  \\\n",
       "0       -0.17       -0.24        0.11        0.19     ...              0.13   \n",
       "1       -0.02       -0.22        0.17        0.09     ...             -0.21   \n",
       "2        0.93        0.88       -0.38        0.26     ...             -1.75   \n",
       "3       -1.03       -0.77        0.50       -0.51     ...             -0.47   \n",
       "4       -0.36        0.01        0.34       -0.00     ...             -0.15   \n",
       "\n",
       "   prod2vec_91  prod2vec_92  prod2vec_93  prod2vec_94  prod2vec_95  \\\n",
       "0        -0.13        -0.27         0.15        -0.43         0.07   \n",
       "1         0.07        -0.19        -0.02        -0.18         0.20   \n",
       "2         0.18        -1.21        -1.28        -0.60         0.36   \n",
       "3        -0.02        -0.26         1.60         0.46         0.93   \n",
       "4        -0.08         0.02         0.37         0.18        -0.37   \n",
       "\n",
       "   prod2vec_96  prod2vec_97  prod2vec_98  prod2vec_99  \n",
       "0        -0.15         0.28         0.02         0.12  \n",
       "1        -0.13        -0.02        -0.26         0.18  \n",
       "2         1.37         1.58        -1.18         0.82  \n",
       "3        -0.12        -0.64         0.43        -0.51  \n",
       "4        -0.41        -0.01         0.07         0.38  \n",
       "\n",
       "[5 rows x 101 columns]"
      ]
     },
     "execution_count": 23,
     "metadata": {},
     "output_type": "execute_result"
    }
   ],
   "source": [
    "product_emd_df.head()"
   ]
  },
  {
   "cell_type": "code",
   "execution_count": 22,
   "metadata": {
    "collapsed": false,
    "deletable": true,
    "editable": true
   },
   "outputs": [],
   "source": [
    "#prod2vec_cols = product_emd_df.columns[product_emd_df.columns.str.startswith('prod2vec')]"
   ]
  },
  {
   "cell_type": "code",
   "execution_count": 23,
   "metadata": {
    "collapsed": false,
    "deletable": true,
    "editable": true
   },
   "outputs": [],
   "source": [
    "# for col in prod2vec_cols:\n",
    "#     product_emd_df[col] = product_emd_df[col].astype('float32')"
   ]
  },
  {
   "cell_type": "code",
   "execution_count": 32,
   "metadata": {
    "collapsed": true,
    "deletable": true,
    "editable": true
   },
   "outputs": [],
   "source": [
    "#product_emd_df.to_pickle(\"../data/interim/prod2vec_df.pickle\")\n",
    "product_emd_df = pd.read_pickle(\"../data/interim/prod2vec_df.pickle\")"
   ]
  },
  {
   "cell_type": "code",
   "execution_count": 33,
   "metadata": {
    "collapsed": false,
    "deletable": true,
    "editable": true
   },
   "outputs": [
    {
     "data": {
      "text/html": [
       "<div>\n",
       "<style>\n",
       "    .dataframe thead tr:only-child th {\n",
       "        text-align: right;\n",
       "    }\n",
       "\n",
       "    .dataframe thead th {\n",
       "        text-align: left;\n",
       "    }\n",
       "\n",
       "    .dataframe tbody tr th {\n",
       "        vertical-align: top;\n",
       "    }\n",
       "</style>\n",
       "<table border=\"1\" class=\"dataframe\">\n",
       "  <thead>\n",
       "    <tr style=\"text-align: right;\">\n",
       "      <th></th>\n",
       "      <th>product_id</th>\n",
       "      <th>prod2vec_0</th>\n",
       "      <th>prod2vec_1</th>\n",
       "      <th>prod2vec_2</th>\n",
       "      <th>prod2vec_3</th>\n",
       "      <th>prod2vec_4</th>\n",
       "      <th>prod2vec_5</th>\n",
       "      <th>prod2vec_6</th>\n",
       "      <th>prod2vec_7</th>\n",
       "      <th>prod2vec_8</th>\n",
       "      <th>...</th>\n",
       "      <th>prod2vec_90</th>\n",
       "      <th>prod2vec_91</th>\n",
       "      <th>prod2vec_92</th>\n",
       "      <th>prod2vec_93</th>\n",
       "      <th>prod2vec_94</th>\n",
       "      <th>prod2vec_95</th>\n",
       "      <th>prod2vec_96</th>\n",
       "      <th>prod2vec_97</th>\n",
       "      <th>prod2vec_98</th>\n",
       "      <th>prod2vec_99</th>\n",
       "    </tr>\n",
       "  </thead>\n",
       "  <tbody>\n",
       "    <tr>\n",
       "      <th>0</th>\n",
       "      <td>13357</td>\n",
       "      <td>-0.00</td>\n",
       "      <td>-0.22</td>\n",
       "      <td>0.19</td>\n",
       "      <td>-0.32</td>\n",
       "      <td>0.16</td>\n",
       "      <td>-0.17</td>\n",
       "      <td>-0.24</td>\n",
       "      <td>0.11</td>\n",
       "      <td>0.19</td>\n",
       "      <td>...</td>\n",
       "      <td>0.13</td>\n",
       "      <td>-0.13</td>\n",
       "      <td>-0.27</td>\n",
       "      <td>0.15</td>\n",
       "      <td>-0.43</td>\n",
       "      <td>0.07</td>\n",
       "      <td>-0.15</td>\n",
       "      <td>0.28</td>\n",
       "      <td>0.02</td>\n",
       "      <td>0.12</td>\n",
       "    </tr>\n",
       "    <tr>\n",
       "      <th>1</th>\n",
       "      <td>11542</td>\n",
       "      <td>0.12</td>\n",
       "      <td>0.29</td>\n",
       "      <td>-0.02</td>\n",
       "      <td>-0.07</td>\n",
       "      <td>-0.12</td>\n",
       "      <td>-0.02</td>\n",
       "      <td>-0.22</td>\n",
       "      <td>0.17</td>\n",
       "      <td>0.09</td>\n",
       "      <td>...</td>\n",
       "      <td>-0.21</td>\n",
       "      <td>0.07</td>\n",
       "      <td>-0.19</td>\n",
       "      <td>-0.02</td>\n",
       "      <td>-0.18</td>\n",
       "      <td>0.20</td>\n",
       "      <td>-0.13</td>\n",
       "      <td>-0.02</td>\n",
       "      <td>-0.26</td>\n",
       "      <td>0.18</td>\n",
       "    </tr>\n",
       "    <tr>\n",
       "      <th>2</th>\n",
       "      <td>11543</td>\n",
       "      <td>0.77</td>\n",
       "      <td>-0.30</td>\n",
       "      <td>0.90</td>\n",
       "      <td>-0.74</td>\n",
       "      <td>0.47</td>\n",
       "      <td>0.93</td>\n",
       "      <td>0.88</td>\n",
       "      <td>-0.38</td>\n",
       "      <td>0.26</td>\n",
       "      <td>...</td>\n",
       "      <td>-1.75</td>\n",
       "      <td>0.18</td>\n",
       "      <td>-1.21</td>\n",
       "      <td>-1.28</td>\n",
       "      <td>-0.60</td>\n",
       "      <td>0.36</td>\n",
       "      <td>1.37</td>\n",
       "      <td>1.58</td>\n",
       "      <td>-1.18</td>\n",
       "      <td>0.82</td>\n",
       "    </tr>\n",
       "    <tr>\n",
       "      <th>3</th>\n",
       "      <td>11540</td>\n",
       "      <td>0.77</td>\n",
       "      <td>-0.38</td>\n",
       "      <td>-0.62</td>\n",
       "      <td>-0.80</td>\n",
       "      <td>0.26</td>\n",
       "      <td>-1.03</td>\n",
       "      <td>-0.77</td>\n",
       "      <td>0.50</td>\n",
       "      <td>-0.51</td>\n",
       "      <td>...</td>\n",
       "      <td>-0.47</td>\n",
       "      <td>-0.02</td>\n",
       "      <td>-0.26</td>\n",
       "      <td>1.60</td>\n",
       "      <td>0.46</td>\n",
       "      <td>0.93</td>\n",
       "      <td>-0.12</td>\n",
       "      <td>-0.64</td>\n",
       "      <td>0.43</td>\n",
       "      <td>-0.51</td>\n",
       "    </tr>\n",
       "    <tr>\n",
       "      <th>4</th>\n",
       "      <td>11541</td>\n",
       "      <td>-0.23</td>\n",
       "      <td>-0.08</td>\n",
       "      <td>0.20</td>\n",
       "      <td>-0.07</td>\n",
       "      <td>0.04</td>\n",
       "      <td>-0.36</td>\n",
       "      <td>0.01</td>\n",
       "      <td>0.34</td>\n",
       "      <td>-0.00</td>\n",
       "      <td>...</td>\n",
       "      <td>-0.15</td>\n",
       "      <td>-0.08</td>\n",
       "      <td>0.02</td>\n",
       "      <td>0.37</td>\n",
       "      <td>0.18</td>\n",
       "      <td>-0.37</td>\n",
       "      <td>-0.41</td>\n",
       "      <td>-0.01</td>\n",
       "      <td>0.07</td>\n",
       "      <td>0.38</td>\n",
       "    </tr>\n",
       "  </tbody>\n",
       "</table>\n",
       "<p>5 rows × 101 columns</p>\n",
       "</div>"
      ],
      "text/plain": [
       "  product_id  prod2vec_0  prod2vec_1  prod2vec_2  prod2vec_3  prod2vec_4  \\\n",
       "0      13357       -0.00       -0.22        0.19       -0.32        0.16   \n",
       "1      11542        0.12        0.29       -0.02       -0.07       -0.12   \n",
       "2      11543        0.77       -0.30        0.90       -0.74        0.47   \n",
       "3      11540        0.77       -0.38       -0.62       -0.80        0.26   \n",
       "4      11541       -0.23       -0.08        0.20       -0.07        0.04   \n",
       "\n",
       "   prod2vec_5  prod2vec_6  prod2vec_7  prod2vec_8     ...       prod2vec_90  \\\n",
       "0       -0.17       -0.24        0.11        0.19     ...              0.13   \n",
       "1       -0.02       -0.22        0.17        0.09     ...             -0.21   \n",
       "2        0.93        0.88       -0.38        0.26     ...             -1.75   \n",
       "3       -1.03       -0.77        0.50       -0.51     ...             -0.47   \n",
       "4       -0.36        0.01        0.34       -0.00     ...             -0.15   \n",
       "\n",
       "   prod2vec_91  prod2vec_92  prod2vec_93  prod2vec_94  prod2vec_95  \\\n",
       "0        -0.13        -0.27         0.15        -0.43         0.07   \n",
       "1         0.07        -0.19        -0.02        -0.18         0.20   \n",
       "2         0.18        -1.21        -1.28        -0.60         0.36   \n",
       "3        -0.02        -0.26         1.60         0.46         0.93   \n",
       "4        -0.08         0.02         0.37         0.18        -0.37   \n",
       "\n",
       "   prod2vec_96  prod2vec_97  prod2vec_98  prod2vec_99  \n",
       "0        -0.15         0.28         0.02         0.12  \n",
       "1        -0.13        -0.02        -0.26         0.18  \n",
       "2         1.37         1.58        -1.18         0.82  \n",
       "3        -0.12        -0.64         0.43        -0.51  \n",
       "4        -0.41        -0.01         0.07         0.38  \n",
       "\n",
       "[5 rows x 101 columns]"
      ]
     },
     "execution_count": 33,
     "metadata": {},
     "output_type": "execute_result"
    }
   ],
   "source": [
    "product_emd_df.head()"
   ]
  },
  {
   "cell_type": "code",
   "execution_count": 39,
   "metadata": {
    "collapsed": false,
    "deletable": true,
    "editable": true
   },
   "outputs": [],
   "source": [
    "product_emd_df['product_id'] = product_emd_df['product_id'].astype('int32')"
   ]
  },
  {
   "cell_type": "code",
   "execution_count": 42,
   "metadata": {
    "collapsed": false,
    "deletable": true,
    "editable": true
   },
   "outputs": [
    {
     "name": "stdout",
     "output_type": "stream",
     "text": [
      "joint product embedding\n"
     ]
    }
   ],
   "source": [
    "print(\"joint product embedding\")\n",
    "df_train = pd.merge(df_train, product_emd_df, on = \"product_id\", how = \"left\")"
   ]
  },
  {
   "cell_type": "code",
   "execution_count": 40,
   "metadata": {
    "collapsed": true,
    "deletable": true,
    "editable": true
   },
   "outputs": [],
   "source": [
    "#df_train.drop(prod2vec_cols, axis = 1, inplace=True)"
   ]
  },
  {
   "cell_type": "code",
   "execution_count": 44,
   "metadata": {
    "collapsed": false,
    "deletable": true,
    "editable": true
   },
   "outputs": [
    {
     "name": "stdout",
     "output_type": "stream",
     "text": [
      "<class 'pandas.core.frame.DataFrame'>\n",
      "Int64Index: 8474661 entries, 0 to 8474660\n",
      "Columns: 134 entries, order_id to prod2vec_99\n",
      "dtypes: float32(108), int16(3), int32(3), int8(2), object(1), uint8(17)\n",
      "memory usage: 3.8+ GB\n"
     ]
    }
   ],
   "source": [
    "df_train.info()"
   ]
  },
  {
   "cell_type": "code",
   "execution_count": 18,
   "metadata": {
    "collapsed": false,
    "deletable": true,
    "editable": true
   },
   "outputs": [
    {
     "data": {
      "text/plain": [
       "24"
      ]
     },
     "execution_count": 18,
     "metadata": {},
     "output_type": "execute_result"
    }
   ],
   "source": [
    "del all_users_features_df#, product_emd_df\n",
    "gc.collect()"
   ]
  },
  {
   "cell_type": "code",
   "execution_count": 47,
   "metadata": {
    "collapsed": false,
    "deletable": true,
    "editable": true
   },
   "outputs": [],
   "source": [
    "df_train[prod2vec_cols] = df_train[prod2vec_cols].fillna(df_train[prod2vec_cols].mean())"
   ]
  },
  {
   "cell_type": "code",
   "execution_count": 48,
   "metadata": {
    "collapsed": false,
    "deletable": true,
    "editable": true
   },
   "outputs": [
    {
     "data": {
      "text/plain": [
       "(8474661, 134)"
      ]
     },
     "execution_count": 48,
     "metadata": {},
     "output_type": "execute_result"
    }
   ],
   "source": [
    "df_train.shape"
   ]
  },
  {
   "cell_type": "markdown",
   "metadata": {
    "deletable": true,
    "editable": true
   },
   "source": [
    "## Train LightGBM"
   ]
  },
  {
   "cell_type": "markdown",
   "metadata": {
    "deletable": true,
    "editable": true
   },
   "source": [
    "### with less features"
   ]
  },
  {
   "cell_type": "code",
   "execution_count": 19,
   "metadata": {
    "collapsed": true,
    "deletable": true,
    "editable": true
   },
   "outputs": [],
   "source": [
    "features = df_train.columns\n",
    "dow_cols = features[features.str.startswith(\"dow_\")].tolist()\n",
    "daytime_cols = features[features.str.startswith(\"daytime_\")].tolist()\n",
    "emb_cols = features[features.str.startswith(\"emb_\")].tolist()\n",
    "#most_cols = features[features.str.startswith(\"most_\")].tolist()\n",
    "#top_cols = features[features.str.startswith(\"top_\")].tolist()\n",
    "#prod2vec_cols = features[features.str.startswith(\"prod2vec\")].tolist()\n",
    "f_to_use = ['user_total_orders', 'user_total_items', 'total_distinct_items', 'dow',\n",
    "       'user_average_days_between_orders', 'user_average_basket',\n",
    "       'order_hour_of_day', 'days_since_prior_order', 'days_since_ratio',\n",
    "       'aisle_id', 'department_id', 'product_orders', 'product_reorders',\n",
    "       'product_reorder_rate'] + dow_cols + daytime_cols  + emb_cols "
   ]
  },
  {
   "cell_type": "code",
   "execution_count": 26,
   "metadata": {
    "collapsed": false,
    "deletable": true,
    "editable": true
   },
   "outputs": [
    {
     "data": {
      "text/plain": [
       "7"
      ]
     },
     "execution_count": 26,
     "metadata": {},
     "output_type": "execute_result"
    }
   ],
   "source": [
    "gc.collect()"
   ]
  },
  {
   "cell_type": "code",
   "execution_count": 29,
   "metadata": {
    "collapsed": false,
    "deletable": true,
    "editable": true
   },
   "outputs": [
    {
     "name": "stdout",
     "output_type": "stream",
     "text": [
      "split the train and validation set\n"
     ]
    }
   ],
   "source": [
    "print(\"split the train and validation set\")\n",
    "X_train, X_valid, y_train, y_valid = train_test_split(df_train[f_to_use], labels, test_size = 0.3, random_state=2017)"
   ]
  },
  {
   "cell_type": "code",
   "execution_count": 30,
   "metadata": {
    "collapsed": false,
    "deletable": true,
    "editable": true
   },
   "outputs": [],
   "source": [
    "X_train = pd.DataFrame(X_train, columns = f_to_use)\n",
    "X_valid = pd.DataFrame(X_valid, columns = f_to_use)"
   ]
  },
  {
   "cell_type": "code",
   "execution_count": 31,
   "metadata": {
    "collapsed": false,
    "deletable": true,
    "editable": true
   },
   "outputs": [
    {
     "name": "stdout",
     "output_type": "stream",
     "text": [
      "formating training and validation dataset for lgb\n"
     ]
    }
   ],
   "source": [
    "print('formating training and validation dataset for lgb')\n",
    "d_train = lgb.Dataset(X_train,\n",
    "                      label=y_train,\n",
    "                      categorical_feature=['aisle_id', 'department_id'])  \n",
    "d_valid = lgb.Dataset(X_valid,\n",
    "                      label=y_valid,\n",
    "                      categorical_feature=['aisle_id', 'department_id'])  "
   ]
  },
  {
   "cell_type": "code",
   "execution_count": 32,
   "metadata": {
    "collapsed": false,
    "deletable": true,
    "editable": true
   },
   "outputs": [
    {
     "data": {
      "text/plain": [
       "19"
      ]
     },
     "execution_count": 32,
     "metadata": {},
     "output_type": "execute_result"
    }
   ],
   "source": [
    "#del df_train\n",
    "gc.collect()"
   ]
  },
  {
   "cell_type": "code",
   "execution_count": 33,
   "metadata": {
    "collapsed": true,
    "deletable": true,
    "editable": true
   },
   "outputs": [],
   "source": [
    "params = {\n",
    "    'task': 'train',\n",
    "    'boosting_type': 'gbdt',\n",
    "    'objective': 'binary',\n",
    "    'metric': {'binary_logloss'},\n",
    "    'num_leaves': 80,\n",
    "    'max_depth': 10,\n",
    "    'feature_fraction': 0.85,\n",
    "    'bagging_fraction': 0.9,\n",
    "    'bagging_freq': 8\n",
    "}\n",
    "ROUNDS = 300"
   ]
  },
  {
   "cell_type": "code",
   "execution_count": 34,
   "metadata": {
    "collapsed": false,
    "deletable": true,
    "editable": true
   },
   "outputs": [
    {
     "name": "stdout",
     "output_type": "stream",
     "text": [
      "Training light GBM ...\n",
      "[1]\tvalid_0's binary_logloss: 0.629905\n",
      "Train until valid scores didn't improve in 10 rounds.\n",
      "[2]\tvalid_0's binary_logloss: 0.578155\n",
      "[3]\tvalid_0's binary_logloss: 0.535303\n",
      "[4]\tvalid_0's binary_logloss: 0.499919\n",
      "[5]\tvalid_0's binary_logloss: 0.469775\n",
      "[6]\tvalid_0's binary_logloss: 0.444261\n",
      "[7]\tvalid_0's binary_logloss: 0.422744\n",
      "[8]\tvalid_0's binary_logloss: 0.404203\n",
      "[9]\tvalid_0's binary_logloss: 0.388396\n",
      "[10]\tvalid_0's binary_logloss: 0.374922\n",
      "[11]\tvalid_0's binary_logloss: 0.363287\n",
      "[12]\tvalid_0's binary_logloss: 0.353133\n",
      "[13]\tvalid_0's binary_logloss: 0.344392\n",
      "[14]\tvalid_0's binary_logloss: 0.33689\n",
      "[15]\tvalid_0's binary_logloss: 0.33057\n",
      "[16]\tvalid_0's binary_logloss: 0.325304\n",
      "[17]\tvalid_0's binary_logloss: 0.320519\n",
      "[18]\tvalid_0's binary_logloss: 0.316307\n",
      "[19]\tvalid_0's binary_logloss: 0.312849\n",
      "[20]\tvalid_0's binary_logloss: 0.309789\n",
      "[21]\tvalid_0's binary_logloss: 0.307106\n",
      "[22]\tvalid_0's binary_logloss: 0.304708\n",
      "[23]\tvalid_0's binary_logloss: 0.302734\n",
      "[24]\tvalid_0's binary_logloss: 0.301035\n",
      "[25]\tvalid_0's binary_logloss: 0.299465\n",
      "[26]\tvalid_0's binary_logloss: 0.298184\n",
      "[27]\tvalid_0's binary_logloss: 0.297019\n",
      "[28]\tvalid_0's binary_logloss: 0.296073\n",
      "[29]\tvalid_0's binary_logloss: 0.29515\n",
      "[30]\tvalid_0's binary_logloss: 0.294345\n",
      "[31]\tvalid_0's binary_logloss: 0.293653\n",
      "[32]\tvalid_0's binary_logloss: 0.293061\n",
      "[33]\tvalid_0's binary_logloss: 0.292538\n",
      "[34]\tvalid_0's binary_logloss: 0.292053\n",
      "[35]\tvalid_0's binary_logloss: 0.291642\n",
      "[36]\tvalid_0's binary_logloss: 0.291278\n",
      "[37]\tvalid_0's binary_logloss: 0.290982\n",
      "[38]\tvalid_0's binary_logloss: 0.290674\n",
      "[39]\tvalid_0's binary_logloss: 0.290398\n",
      "[40]\tvalid_0's binary_logloss: 0.290161\n",
      "[41]\tvalid_0's binary_logloss: 0.289955\n",
      "[42]\tvalid_0's binary_logloss: 0.289783\n",
      "[43]\tvalid_0's binary_logloss: 0.289583\n",
      "[44]\tvalid_0's binary_logloss: 0.289445\n",
      "[45]\tvalid_0's binary_logloss: 0.289304\n",
      "[46]\tvalid_0's binary_logloss: 0.289127\n",
      "[47]\tvalid_0's binary_logloss: 0.289007\n",
      "[48]\tvalid_0's binary_logloss: 0.288885\n",
      "[49]\tvalid_0's binary_logloss: 0.28875\n",
      "[50]\tvalid_0's binary_logloss: 0.288639\n",
      "[51]\tvalid_0's binary_logloss: 0.288534\n",
      "[52]\tvalid_0's binary_logloss: 0.288444\n",
      "[53]\tvalid_0's binary_logloss: 0.288353\n",
      "[54]\tvalid_0's binary_logloss: 0.288262\n",
      "[55]\tvalid_0's binary_logloss: 0.288177\n",
      "[56]\tvalid_0's binary_logloss: 0.288107\n",
      "[57]\tvalid_0's binary_logloss: 0.288022\n",
      "[58]\tvalid_0's binary_logloss: 0.287923\n",
      "[59]\tvalid_0's binary_logloss: 0.287859\n",
      "[60]\tvalid_0's binary_logloss: 0.287779\n",
      "[61]\tvalid_0's binary_logloss: 0.287707\n",
      "[62]\tvalid_0's binary_logloss: 0.287628\n",
      "[63]\tvalid_0's binary_logloss: 0.287563\n",
      "[64]\tvalid_0's binary_logloss: 0.287518\n",
      "[65]\tvalid_0's binary_logloss: 0.287465\n",
      "[66]\tvalid_0's binary_logloss: 0.287409\n",
      "[67]\tvalid_0's binary_logloss: 0.287356\n",
      "[68]\tvalid_0's binary_logloss: 0.287303\n",
      "[69]\tvalid_0's binary_logloss: 0.287244\n",
      "[70]\tvalid_0's binary_logloss: 0.287201\n",
      "[71]\tvalid_0's binary_logloss: 0.287153\n",
      "[72]\tvalid_0's binary_logloss: 0.287111\n",
      "[73]\tvalid_0's binary_logloss: 0.287061\n",
      "[74]\tvalid_0's binary_logloss: 0.287015\n",
      "[75]\tvalid_0's binary_logloss: 0.286974\n",
      "[76]\tvalid_0's binary_logloss: 0.286914\n",
      "[77]\tvalid_0's binary_logloss: 0.286877\n",
      "[78]\tvalid_0's binary_logloss: 0.286841\n",
      "[79]\tvalid_0's binary_logloss: 0.286808\n",
      "[80]\tvalid_0's binary_logloss: 0.28677\n",
      "[81]\tvalid_0's binary_logloss: 0.286738\n",
      "[82]\tvalid_0's binary_logloss: 0.286684\n",
      "[83]\tvalid_0's binary_logloss: 0.286652\n",
      "[84]\tvalid_0's binary_logloss: 0.286617\n",
      "[85]\tvalid_0's binary_logloss: 0.286581\n",
      "[86]\tvalid_0's binary_logloss: 0.286546\n",
      "[87]\tvalid_0's binary_logloss: 0.286517\n",
      "[88]\tvalid_0's binary_logloss: 0.286492\n",
      "[89]\tvalid_0's binary_logloss: 0.286467\n",
      "[90]\tvalid_0's binary_logloss: 0.286437\n",
      "[91]\tvalid_0's binary_logloss: 0.28641\n",
      "[92]\tvalid_0's binary_logloss: 0.286382\n",
      "[93]\tvalid_0's binary_logloss: 0.286353\n",
      "[94]\tvalid_0's binary_logloss: 0.286295\n",
      "[95]\tvalid_0's binary_logloss: 0.286267\n",
      "[96]\tvalid_0's binary_logloss: 0.286246\n",
      "[97]\tvalid_0's binary_logloss: 0.286203\n",
      "[98]\tvalid_0's binary_logloss: 0.286176\n",
      "[99]\tvalid_0's binary_logloss: 0.286148\n",
      "[100]\tvalid_0's binary_logloss: 0.286116\n",
      "[101]\tvalid_0's binary_logloss: 0.286092\n",
      "[102]\tvalid_0's binary_logloss: 0.28606\n",
      "[103]\tvalid_0's binary_logloss: 0.286033\n",
      "[104]\tvalid_0's binary_logloss: 0.286006\n",
      "[105]\tvalid_0's binary_logloss: 0.285979\n",
      "[106]\tvalid_0's binary_logloss: 0.28596\n",
      "[107]\tvalid_0's binary_logloss: 0.285936\n",
      "[108]\tvalid_0's binary_logloss: 0.285912\n",
      "[109]\tvalid_0's binary_logloss: 0.285892\n",
      "[110]\tvalid_0's binary_logloss: 0.285869\n",
      "[111]\tvalid_0's binary_logloss: 0.285847\n",
      "[112]\tvalid_0's binary_logloss: 0.285825\n",
      "[113]\tvalid_0's binary_logloss: 0.285801\n",
      "[114]\tvalid_0's binary_logloss: 0.28578\n",
      "[115]\tvalid_0's binary_logloss: 0.285747\n",
      "[116]\tvalid_0's binary_logloss: 0.285726\n",
      "[117]\tvalid_0's binary_logloss: 0.285702\n",
      "[118]\tvalid_0's binary_logloss: 0.285687\n",
      "[119]\tvalid_0's binary_logloss: 0.285652\n",
      "[120]\tvalid_0's binary_logloss: 0.285634\n",
      "[121]\tvalid_0's binary_logloss: 0.285613\n",
      "[122]\tvalid_0's binary_logloss: 0.28559\n",
      "[123]\tvalid_0's binary_logloss: 0.285574\n",
      "[124]\tvalid_0's binary_logloss: 0.285555\n",
      "[125]\tvalid_0's binary_logloss: 0.285539\n",
      "[126]\tvalid_0's binary_logloss: 0.285521\n",
      "[127]\tvalid_0's binary_logloss: 0.285501\n",
      "[128]\tvalid_0's binary_logloss: 0.285489\n",
      "[129]\tvalid_0's binary_logloss: 0.28547\n",
      "[130]\tvalid_0's binary_logloss: 0.285456\n",
      "[131]\tvalid_0's binary_logloss: 0.285439\n",
      "[132]\tvalid_0's binary_logloss: 0.28542\n",
      "[133]\tvalid_0's binary_logloss: 0.285396\n",
      "[134]\tvalid_0's binary_logloss: 0.285382\n",
      "[135]\tvalid_0's binary_logloss: 0.285364\n",
      "[136]\tvalid_0's binary_logloss: 0.285347\n",
      "[137]\tvalid_0's binary_logloss: 0.285333\n",
      "[138]\tvalid_0's binary_logloss: 0.285313\n",
      "[139]\tvalid_0's binary_logloss: 0.285292\n",
      "[140]\tvalid_0's binary_logloss: 0.285282\n",
      "[141]\tvalid_0's binary_logloss: 0.285267\n",
      "[142]\tvalid_0's binary_logloss: 0.28525\n",
      "[143]\tvalid_0's binary_logloss: 0.285231\n",
      "[144]\tvalid_0's binary_logloss: 0.285215\n",
      "[145]\tvalid_0's binary_logloss: 0.285205\n",
      "[146]\tvalid_0's binary_logloss: 0.28519\n",
      "[147]\tvalid_0's binary_logloss: 0.285177\n",
      "[148]\tvalid_0's binary_logloss: 0.285161\n",
      "[149]\tvalid_0's binary_logloss: 0.285147\n",
      "[150]\tvalid_0's binary_logloss: 0.285123\n",
      "[151]\tvalid_0's binary_logloss: 0.285111\n",
      "[152]\tvalid_0's binary_logloss: 0.285098\n",
      "[153]\tvalid_0's binary_logloss: 0.285084\n",
      "[154]\tvalid_0's binary_logloss: 0.285071\n",
      "[155]\tvalid_0's binary_logloss: 0.285065\n",
      "[156]\tvalid_0's binary_logloss: 0.285047\n",
      "[157]\tvalid_0's binary_logloss: 0.285039\n",
      "[158]\tvalid_0's binary_logloss: 0.28503\n",
      "[159]\tvalid_0's binary_logloss: 0.285021\n",
      "[160]\tvalid_0's binary_logloss: 0.285011\n",
      "[161]\tvalid_0's binary_logloss: 0.284993\n",
      "[162]\tvalid_0's binary_logloss: 0.284981\n",
      "[163]\tvalid_0's binary_logloss: 0.28497\n",
      "[164]\tvalid_0's binary_logloss: 0.284954\n",
      "[165]\tvalid_0's binary_logloss: 0.284939\n",
      "[166]\tvalid_0's binary_logloss: 0.284927\n",
      "[167]\tvalid_0's binary_logloss: 0.284919\n",
      "[168]\tvalid_0's binary_logloss: 0.284894\n",
      "[169]\tvalid_0's binary_logloss: 0.284883\n",
      "[170]\tvalid_0's binary_logloss: 0.28487\n",
      "[171]\tvalid_0's binary_logloss: 0.28486\n",
      "[172]\tvalid_0's binary_logloss: 0.284857\n",
      "[173]\tvalid_0's binary_logloss: 0.284844\n",
      "[174]\tvalid_0's binary_logloss: 0.284836\n",
      "[175]\tvalid_0's binary_logloss: 0.284822\n",
      "[176]\tvalid_0's binary_logloss: 0.284818\n",
      "[177]\tvalid_0's binary_logloss: 0.284815\n",
      "[178]\tvalid_0's binary_logloss: 0.284802\n",
      "[179]\tvalid_0's binary_logloss: 0.284785\n",
      "[180]\tvalid_0's binary_logloss: 0.284773\n",
      "[181]\tvalid_0's binary_logloss: 0.284758\n",
      "[182]\tvalid_0's binary_logloss: 0.284749\n",
      "[183]\tvalid_0's binary_logloss: 0.284736\n",
      "[184]\tvalid_0's binary_logloss: 0.284725\n",
      "[185]\tvalid_0's binary_logloss: 0.284712\n",
      "[186]\tvalid_0's binary_logloss: 0.284702\n",
      "[187]\tvalid_0's binary_logloss: 0.284682\n",
      "[188]\tvalid_0's binary_logloss: 0.284668\n",
      "[189]\tvalid_0's binary_logloss: 0.284661\n",
      "[190]\tvalid_0's binary_logloss: 0.284655\n",
      "[191]\tvalid_0's binary_logloss: 0.284644\n",
      "[192]\tvalid_0's binary_logloss: 0.284633\n",
      "[193]\tvalid_0's binary_logloss: 0.284613\n",
      "[194]\tvalid_0's binary_logloss: 0.284601\n",
      "[195]\tvalid_0's binary_logloss: 0.28459\n",
      "[196]\tvalid_0's binary_logloss: 0.284582\n",
      "[197]\tvalid_0's binary_logloss: 0.284579\n",
      "[198]\tvalid_0's binary_logloss: 0.284557\n",
      "[199]\tvalid_0's binary_logloss: 0.284543\n",
      "[200]\tvalid_0's binary_logloss: 0.284529\n",
      "[201]\tvalid_0's binary_logloss: 0.284517\n",
      "[202]\tvalid_0's binary_logloss: 0.284507\n",
      "[203]\tvalid_0's binary_logloss: 0.284496\n",
      "[204]\tvalid_0's binary_logloss: 0.284487\n",
      "[205]\tvalid_0's binary_logloss: 0.284476\n",
      "[206]\tvalid_0's binary_logloss: 0.284456\n",
      "[207]\tvalid_0's binary_logloss: 0.284448\n",
      "[208]\tvalid_0's binary_logloss: 0.284438\n",
      "[209]\tvalid_0's binary_logloss: 0.284434\n",
      "[210]\tvalid_0's binary_logloss: 0.284425\n",
      "[211]\tvalid_0's binary_logloss: 0.284404\n",
      "[212]\tvalid_0's binary_logloss: 0.284396\n",
      "[213]\tvalid_0's binary_logloss: 0.284383\n",
      "[214]\tvalid_0's binary_logloss: 0.284374\n",
      "[215]\tvalid_0's binary_logloss: 0.284362\n",
      "[216]\tvalid_0's binary_logloss: 0.284351\n",
      "[217]\tvalid_0's binary_logloss: 0.28434\n",
      "[218]\tvalid_0's binary_logloss: 0.284331\n",
      "[219]\tvalid_0's binary_logloss: 0.284316\n",
      "[220]\tvalid_0's binary_logloss: 0.284308\n",
      "[221]\tvalid_0's binary_logloss: 0.284298\n",
      "[222]\tvalid_0's binary_logloss: 0.284292\n",
      "[223]\tvalid_0's binary_logloss: 0.284282\n",
      "[224]\tvalid_0's binary_logloss: 0.284273\n",
      "[225]\tvalid_0's binary_logloss: 0.28426\n",
      "[226]\tvalid_0's binary_logloss: 0.284242\n",
      "[227]\tvalid_0's binary_logloss: 0.28423\n",
      "[228]\tvalid_0's binary_logloss: 0.284228\n",
      "[229]\tvalid_0's binary_logloss: 0.284214\n",
      "[230]\tvalid_0's binary_logloss: 0.284199\n",
      "[231]\tvalid_0's binary_logloss: 0.284182\n",
      "[232]\tvalid_0's binary_logloss: 0.284169\n",
      "[233]\tvalid_0's binary_logloss: 0.284155\n",
      "[234]\tvalid_0's binary_logloss: 0.284145\n",
      "[235]\tvalid_0's binary_logloss: 0.284136\n",
      "[236]\tvalid_0's binary_logloss: 0.284132\n",
      "[237]\tvalid_0's binary_logloss: 0.284123\n",
      "[238]\tvalid_0's binary_logloss: 0.284116\n",
      "[239]\tvalid_0's binary_logloss: 0.284106\n",
      "[240]\tvalid_0's binary_logloss: 0.284096\n",
      "[241]\tvalid_0's binary_logloss: 0.284088\n",
      "[242]\tvalid_0's binary_logloss: 0.28408\n",
      "[243]\tvalid_0's binary_logloss: 0.284071\n",
      "[244]\tvalid_0's binary_logloss: 0.284068\n",
      "[245]\tvalid_0's binary_logloss: 0.284057\n",
      "[246]\tvalid_0's binary_logloss: 0.284045\n",
      "[247]\tvalid_0's binary_logloss: 0.284027\n",
      "[248]\tvalid_0's binary_logloss: 0.284021\n",
      "[249]\tvalid_0's binary_logloss: 0.284017\n",
      "[250]\tvalid_0's binary_logloss: 0.28401\n",
      "[251]\tvalid_0's binary_logloss: 0.284\n",
      "[252]\tvalid_0's binary_logloss: 0.283993\n",
      "[253]\tvalid_0's binary_logloss: 0.283987\n",
      "[254]\tvalid_0's binary_logloss: 0.283973\n",
      "[255]\tvalid_0's binary_logloss: 0.283968\n",
      "[256]\tvalid_0's binary_logloss: 0.283957\n",
      "[257]\tvalid_0's binary_logloss: 0.283952\n",
      "[258]\tvalid_0's binary_logloss: 0.283946\n",
      "[259]\tvalid_0's binary_logloss: 0.28394\n",
      "[260]\tvalid_0's binary_logloss: 0.283934\n",
      "[261]\tvalid_0's binary_logloss: 0.283928\n",
      "[262]\tvalid_0's binary_logloss: 0.283921\n",
      "[263]\tvalid_0's binary_logloss: 0.283912\n",
      "[264]\tvalid_0's binary_logloss: 0.283904\n",
      "[265]\tvalid_0's binary_logloss: 0.283897\n",
      "[266]\tvalid_0's binary_logloss: 0.28389\n",
      "[267]\tvalid_0's binary_logloss: 0.28388\n",
      "[268]\tvalid_0's binary_logloss: 0.283874\n",
      "[269]\tvalid_0's binary_logloss: 0.283867\n",
      "[270]\tvalid_0's binary_logloss: 0.283861\n",
      "[271]\tvalid_0's binary_logloss: 0.28385\n",
      "[272]\tvalid_0's binary_logloss: 0.283841\n",
      "[273]\tvalid_0's binary_logloss: 0.283831\n",
      "[274]\tvalid_0's binary_logloss: 0.283823\n",
      "[275]\tvalid_0's binary_logloss: 0.28381\n",
      "[276]\tvalid_0's binary_logloss: 0.283797\n",
      "[277]\tvalid_0's binary_logloss: 0.283792\n",
      "[278]\tvalid_0's binary_logloss: 0.283779\n",
      "[279]\tvalid_0's binary_logloss: 0.283775\n",
      "[280]\tvalid_0's binary_logloss: 0.283767\n",
      "[281]\tvalid_0's binary_logloss: 0.283757\n",
      "[282]\tvalid_0's binary_logloss: 0.283752\n",
      "[283]\tvalid_0's binary_logloss: 0.283746\n",
      "[284]\tvalid_0's binary_logloss: 0.283742\n",
      "[285]\tvalid_0's binary_logloss: 0.283741\n",
      "[286]\tvalid_0's binary_logloss: 0.283729\n",
      "[287]\tvalid_0's binary_logloss: 0.283726\n",
      "[288]\tvalid_0's binary_logloss: 0.283723\n",
      "[289]\tvalid_0's binary_logloss: 0.283714\n",
      "[290]\tvalid_0's binary_logloss: 0.283707\n",
      "[291]\tvalid_0's binary_logloss: 0.283697\n",
      "[292]\tvalid_0's binary_logloss: 0.28369\n",
      "[293]\tvalid_0's binary_logloss: 0.283686\n",
      "[294]\tvalid_0's binary_logloss: 0.283677\n",
      "[295]\tvalid_0's binary_logloss: 0.283668\n",
      "[296]\tvalid_0's binary_logloss: 0.283658\n",
      "[297]\tvalid_0's binary_logloss: 0.283647\n",
      "[298]\tvalid_0's binary_logloss: 0.283638\n",
      "[299]\tvalid_0's binary_logloss: 0.283634\n",
      "[300]\tvalid_0's binary_logloss: 0.283627\n"
     ]
    }
   ],
   "source": [
    "print('Training light GBM ...')\n",
    "bst = lgb.train(params, d_train, valid_sets= [d_valid], num_boost_round= ROUNDS, early_stopping_rounds = 10)"
   ]
  },
  {
   "cell_type": "code",
   "execution_count": 35,
   "metadata": {
    "collapsed": true,
    "deletable": true,
    "editable": true
   },
   "outputs": [],
   "source": [
    "bst.save_model('../models/lightGBM_80_10.txt', num_iteration=bst.best_iteration)"
   ]
  },
  {
   "cell_type": "markdown",
   "metadata": {
    "collapsed": true,
    "deletable": true,
    "editable": true
   },
   "source": [
    "## add more features related to users purchase patterns"
   ]
  },
  {
   "cell_type": "code",
   "execution_count": 20,
   "metadata": {
    "collapsed": false,
    "deletable": true,
    "editable": true
   },
   "outputs": [
    {
     "name": "stdout",
     "output_type": "stream",
     "text": [
      "['user_total_orders', 'user_total_items', 'total_distinct_items', 'dow', 'user_average_days_between_orders', 'user_average_basket', 'order_hour_of_day', 'days_since_prior_order', 'days_since_ratio', 'aisle_id', 'department_id', 'product_orders', 'product_reorders', 'product_reorder_rate', u'dow_0', u'dow_1', u'dow_2', u'dow_3', u'dow_4', u'dow_5', u'dow_6', u'daytime_sleeping', u'daytime_morning', u'daytime_noon', u'daytime_afternoon', u'daytime_evening', u'daytime_night', u'emb_0', u'emb_1', u'emb_2', u'emb_3', u'emb_4', u'emb_5', u'emb_6', u'emb_7', u'emb_8', u'emb_9', u'emb_10', u'emb_11', u'emb_12', u'emb_13', u'emb_14', u'emb_15', u'emb_16', u'emb_17', u'emb_18', u'emb_19', u'emb_20', u'emb_21', u'emb_22', u'emb_23', u'emb_24', u'emb_25', u'emb_26', u'emb_27', u'emb_28', u'emb_29', u'emb_30', u'emb_31', u'emb_32', u'emb_33', u'emb_34', u'emb_35', u'emb_36', u'emb_37', u'emb_38', u'emb_39', u'emb_40', u'emb_41', u'emb_42', u'emb_43', u'emb_44', u'emb_45', u'emb_46', u'emb_47', u'emb_48', u'emb_49', u'emb_50', u'emb_51', u'emb_52', u'emb_53', u'emb_54', u'emb_55', u'emb_56', u'emb_57', u'emb_58', u'emb_59', u'emb_60', u'emb_61', u'emb_62', u'emb_63', u'emb_64', u'emb_65', u'emb_66', u'emb_67', u'emb_68', u'emb_69', u'emb_70', u'emb_71', u'emb_72', u'emb_73', u'emb_74', u'emb_75', u'emb_76', u'emb_77', u'emb_78', u'emb_79', u'emb_80', u'emb_81', u'emb_82', u'emb_83', u'emb_84', u'emb_85', u'emb_86', u'emb_87', u'emb_88', u'emb_89', u'emb_90', u'emb_91', u'emb_92', u'emb_93', u'emb_94', u'emb_95', u'emb_96', u'emb_97', u'emb_98', u'emb_99', u'most_reordered_aiesle', u'most_reordered_dpmt', u'top1_reordered_pid', u'top2_reordered_pid', u'top3_reordered_pid']\n"
     ]
    }
   ],
   "source": [
    "most_cols = features[features.str.startswith(\"most_\")].tolist()\n",
    "top_cols = features[features.str.startswith(\"top\")].tolist()\n",
    "f_to_use = ['user_total_orders', 'user_total_items', 'total_distinct_items', 'dow',\n",
    "       'user_average_days_between_orders', 'user_average_basket',\n",
    "       'order_hour_of_day', 'days_since_prior_order', 'days_since_ratio',\n",
    "       'aisle_id', 'department_id', 'product_orders', 'product_reorders',\n",
    "       'product_reorder_rate'] + dow_cols + daytime_cols  + emb_cols + most_cols + top_cols\n",
    "print(f_to_use)"
   ]
  },
  {
   "cell_type": "code",
   "execution_count": 37,
   "metadata": {
    "collapsed": false,
    "deletable": true,
    "editable": true
   },
   "outputs": [
    {
     "data": {
      "text/plain": [
       "63"
      ]
     },
     "execution_count": 37,
     "metadata": {},
     "output_type": "execute_result"
    }
   ],
   "source": [
    "del d_train, d_valid\n",
    "gc.collect()"
   ]
  },
  {
   "cell_type": "code",
   "execution_count": 21,
   "metadata": {
    "collapsed": false,
    "deletable": true,
    "editable": true
   },
   "outputs": [
    {
     "name": "stdout",
     "output_type": "stream",
     "text": [
      "split the train and validation set\n"
     ]
    }
   ],
   "source": [
    "print(\"split the train and validation set\")\n",
    "X_train, X_valid, y_train, y_valid = train_test_split(df_train[f_to_use], labels, test_size = 0.3, random_state=2017)"
   ]
  },
  {
   "cell_type": "code",
   "execution_count": 22,
   "metadata": {
    "collapsed": true,
    "deletable": true,
    "editable": true
   },
   "outputs": [],
   "source": [
    "X_train = pd.DataFrame(X_train, columns = f_to_use)\n",
    "X_valid = pd.DataFrame(X_valid, columns = f_to_use)"
   ]
  },
  {
   "cell_type": "code",
   "execution_count": 23,
   "metadata": {
    "collapsed": false,
    "deletable": true,
    "editable": true
   },
   "outputs": [
    {
     "name": "stdout",
     "output_type": "stream",
     "text": [
      "formating training and validation dataset for lgb\n"
     ]
    }
   ],
   "source": [
    "print('formating training and validation dataset for lgb')\n",
    "d_train = lgb.Dataset(X_train,\n",
    "                      label=y_train,\n",
    "                      categorical_feature=['aisle_id', 'department_id', 'most_reordered_aiesle',\n",
    "                                           'most_reordered_dpmt','top1_reordered_pid', 'top2_reordered_pid', \n",
    "                                           'top3_reordered_pid' ])  \n",
    "d_valid = lgb.Dataset(X_valid,\n",
    "                      label=y_valid,\n",
    "                      categorical_feature=['aisle_id', 'department_id', 'most_reordered_aiesle', 'most_reordered_dpmt',\n",
    "                                           'top1_reordered_pid', 'top2_reordered_pid', \n",
    "                                           'top3_reordered_pid' ])  "
   ]
  },
  {
   "cell_type": "code",
   "execution_count": 24,
   "metadata": {
    "collapsed": true,
    "deletable": true,
    "editable": true
   },
   "outputs": [],
   "source": [
    "params = {\n",
    "    'task': 'train',\n",
    "    'boosting_type': 'gbdt',\n",
    "    'objective': 'binary',\n",
    "    'metric': {'binary_logloss'},\n",
    "    'num_leaves': 80,\n",
    "    'max_depth': 10,\n",
    "    'feature_fraction': 0.85,\n",
    "    'bagging_fraction': 0.9,\n",
    "    'bagging_freq': 8\n",
    "}\n",
    "ROUNDS = 500"
   ]
  },
  {
   "cell_type": "code",
   "execution_count": 25,
   "metadata": {
    "collapsed": false,
    "deletable": true,
    "editable": true
   },
   "outputs": [
    {
     "name": "stdout",
     "output_type": "stream",
     "text": [
      "Training light GBM ...\n",
      "[1]\tvalid_0's binary_logloss: 0.629905\n",
      "Train until valid scores didn't improve in 10 rounds.\n",
      "[2]\tvalid_0's binary_logloss: 0.57822\n",
      "[3]\tvalid_0's binary_logloss: 0.535383\n",
      "[4]\tvalid_0's binary_logloss: 0.499574\n",
      "[5]\tvalid_0's binary_logloss: 0.469468\n",
      "[6]\tvalid_0's binary_logloss: 0.443913\n",
      "[7]\tvalid_0's binary_logloss: 0.422222\n",
      "[8]\tvalid_0's binary_logloss: 0.403857\n",
      "[9]\tvalid_0's binary_logloss: 0.387963\n",
      "[10]\tvalid_0's binary_logloss: 0.374341\n",
      "[11]\tvalid_0's binary_logloss: 0.362801\n",
      "[12]\tvalid_0's binary_logloss: 0.35273\n",
      "[13]\tvalid_0's binary_logloss: 0.344388\n",
      "[14]\tvalid_0's binary_logloss: 0.336879\n",
      "[15]\tvalid_0's binary_logloss: 0.3306\n",
      "[16]\tvalid_0's binary_logloss: 0.324991\n",
      "[17]\tvalid_0's binary_logloss: 0.320155\n",
      "[18]\tvalid_0's binary_logloss: 0.316072\n",
      "[19]\tvalid_0's binary_logloss: 0.31262\n",
      "[20]\tvalid_0's binary_logloss: 0.309473\n",
      "[21]\tvalid_0's binary_logloss: 0.306745\n",
      "[22]\tvalid_0's binary_logloss: 0.304406\n",
      "[23]\tvalid_0's binary_logloss: 0.302421\n",
      "[24]\tvalid_0's binary_logloss: 0.300715\n",
      "[25]\tvalid_0's binary_logloss: 0.299175\n",
      "[26]\tvalid_0's binary_logloss: 0.297889\n",
      "[27]\tvalid_0's binary_logloss: 0.296738\n",
      "[28]\tvalid_0's binary_logloss: 0.295749\n",
      "[29]\tvalid_0's binary_logloss: 0.295034\n",
      "[30]\tvalid_0's binary_logloss: 0.294258\n",
      "[31]\tvalid_0's binary_logloss: 0.293566\n",
      "[32]\tvalid_0's binary_logloss: 0.292972\n",
      "[33]\tvalid_0's binary_logloss: 0.292452\n",
      "[34]\tvalid_0's binary_logloss: 0.292\n",
      "[35]\tvalid_0's binary_logloss: 0.291595\n",
      "[36]\tvalid_0's binary_logloss: 0.291231\n",
      "[37]\tvalid_0's binary_logloss: 0.290943\n",
      "[38]\tvalid_0's binary_logloss: 0.290634\n",
      "[39]\tvalid_0's binary_logloss: 0.290386\n",
      "[40]\tvalid_0's binary_logloss: 0.290164\n",
      "[41]\tvalid_0's binary_logloss: 0.289945\n",
      "[42]\tvalid_0's binary_logloss: 0.289738\n",
      "[43]\tvalid_0's binary_logloss: 0.289567\n",
      "[44]\tvalid_0's binary_logloss: 0.2894\n",
      "[45]\tvalid_0's binary_logloss: 0.289225\n",
      "[46]\tvalid_0's binary_logloss: 0.289104\n",
      "[47]\tvalid_0's binary_logloss: 0.288988\n",
      "[48]\tvalid_0's binary_logloss: 0.288886\n",
      "[49]\tvalid_0's binary_logloss: 0.288785\n",
      "[50]\tvalid_0's binary_logloss: 0.288653\n",
      "[51]\tvalid_0's binary_logloss: 0.288558\n",
      "[52]\tvalid_0's binary_logloss: 0.288464\n",
      "[53]\tvalid_0's binary_logloss: 0.288376\n",
      "[54]\tvalid_0's binary_logloss: 0.288272\n",
      "[55]\tvalid_0's binary_logloss: 0.288182\n",
      "[56]\tvalid_0's binary_logloss: 0.288115\n",
      "[57]\tvalid_0's binary_logloss: 0.288027\n",
      "[58]\tvalid_0's binary_logloss: 0.287951\n",
      "[59]\tvalid_0's binary_logloss: 0.287876\n",
      "[60]\tvalid_0's binary_logloss: 0.28781\n",
      "[61]\tvalid_0's binary_logloss: 0.287755\n",
      "[62]\tvalid_0's binary_logloss: 0.287684\n",
      "[63]\tvalid_0's binary_logloss: 0.287617\n",
      "[64]\tvalid_0's binary_logloss: 0.287567\n",
      "[65]\tvalid_0's binary_logloss: 0.287485\n",
      "[66]\tvalid_0's binary_logloss: 0.287429\n",
      "[67]\tvalid_0's binary_logloss: 0.28737\n",
      "[68]\tvalid_0's binary_logloss: 0.287296\n",
      "[69]\tvalid_0's binary_logloss: 0.287247\n",
      "[70]\tvalid_0's binary_logloss: 0.2872\n",
      "[71]\tvalid_0's binary_logloss: 0.287157\n",
      "[72]\tvalid_0's binary_logloss: 0.287122\n",
      "[73]\tvalid_0's binary_logloss: 0.287071\n",
      "[74]\tvalid_0's binary_logloss: 0.287039\n",
      "[75]\tvalid_0's binary_logloss: 0.286994\n",
      "[76]\tvalid_0's binary_logloss: 0.286956\n",
      "[77]\tvalid_0's binary_logloss: 0.286915\n",
      "[78]\tvalid_0's binary_logloss: 0.286864\n",
      "[79]\tvalid_0's binary_logloss: 0.286832\n",
      "[80]\tvalid_0's binary_logloss: 0.286789\n",
      "[81]\tvalid_0's binary_logloss: 0.286761\n",
      "[82]\tvalid_0's binary_logloss: 0.286724\n",
      "[83]\tvalid_0's binary_logloss: 0.28669\n",
      "[84]\tvalid_0's binary_logloss: 0.286652\n",
      "[85]\tvalid_0's binary_logloss: 0.286618\n",
      "[86]\tvalid_0's binary_logloss: 0.286582\n",
      "[87]\tvalid_0's binary_logloss: 0.286552\n",
      "[88]\tvalid_0's binary_logloss: 0.286519\n",
      "[89]\tvalid_0's binary_logloss: 0.286492\n",
      "[90]\tvalid_0's binary_logloss: 0.286457\n",
      "[91]\tvalid_0's binary_logloss: 0.286432\n",
      "[92]\tvalid_0's binary_logloss: 0.286378\n",
      "[93]\tvalid_0's binary_logloss: 0.286354\n",
      "[94]\tvalid_0's binary_logloss: 0.286329\n",
      "[95]\tvalid_0's binary_logloss: 0.286301\n",
      "[96]\tvalid_0's binary_logloss: 0.286276\n",
      "[97]\tvalid_0's binary_logloss: 0.28625\n",
      "[98]\tvalid_0's binary_logloss: 0.286197\n",
      "[99]\tvalid_0's binary_logloss: 0.286171\n",
      "[100]\tvalid_0's binary_logloss: 0.286147\n",
      "[101]\tvalid_0's binary_logloss: 0.286121\n",
      "[102]\tvalid_0's binary_logloss: 0.286096\n",
      "[103]\tvalid_0's binary_logloss: 0.286072\n",
      "[104]\tvalid_0's binary_logloss: 0.286037\n",
      "[105]\tvalid_0's binary_logloss: 0.286013\n",
      "[106]\tvalid_0's binary_logloss: 0.285964\n",
      "[107]\tvalid_0's binary_logloss: 0.285942\n",
      "[108]\tvalid_0's binary_logloss: 0.28592\n",
      "[109]\tvalid_0's binary_logloss: 0.285902\n",
      "[110]\tvalid_0's binary_logloss: 0.285885\n",
      "[111]\tvalid_0's binary_logloss: 0.285859\n",
      "[112]\tvalid_0's binary_logloss: 0.285827\n",
      "[113]\tvalid_0's binary_logloss: 0.285809\n",
      "[114]\tvalid_0's binary_logloss: 0.285785\n",
      "[115]\tvalid_0's binary_logloss: 0.285766\n",
      "[116]\tvalid_0's binary_logloss: 0.285751\n",
      "[117]\tvalid_0's binary_logloss: 0.285725\n",
      "[118]\tvalid_0's binary_logloss: 0.285708\n",
      "[119]\tvalid_0's binary_logloss: 0.285686\n",
      "[120]\tvalid_0's binary_logloss: 0.285667\n",
      "[121]\tvalid_0's binary_logloss: 0.285653\n",
      "[122]\tvalid_0's binary_logloss: 0.285625\n",
      "[123]\tvalid_0's binary_logloss: 0.285608\n",
      "[124]\tvalid_0's binary_logloss: 0.285584\n",
      "[125]\tvalid_0's binary_logloss: 0.285548\n",
      "[126]\tvalid_0's binary_logloss: 0.285528\n",
      "[127]\tvalid_0's binary_logloss: 0.285512\n",
      "[128]\tvalid_0's binary_logloss: 0.285498\n",
      "[129]\tvalid_0's binary_logloss: 0.285472\n",
      "[130]\tvalid_0's binary_logloss: 0.285454\n",
      "[131]\tvalid_0's binary_logloss: 0.285437\n",
      "[132]\tvalid_0's binary_logloss: 0.285426\n",
      "[133]\tvalid_0's binary_logloss: 0.285397\n",
      "[134]\tvalid_0's binary_logloss: 0.28538\n",
      "[135]\tvalid_0's binary_logloss: 0.285363\n",
      "[136]\tvalid_0's binary_logloss: 0.285348\n",
      "[137]\tvalid_0's binary_logloss: 0.285332\n",
      "[138]\tvalid_0's binary_logloss: 0.285317\n",
      "[139]\tvalid_0's binary_logloss: 0.285304\n",
      "[140]\tvalid_0's binary_logloss: 0.285285\n",
      "[141]\tvalid_0's binary_logloss: 0.285268\n",
      "[142]\tvalid_0's binary_logloss: 0.285258\n",
      "[143]\tvalid_0's binary_logloss: 0.285246\n",
      "[144]\tvalid_0's binary_logloss: 0.285235\n",
      "[145]\tvalid_0's binary_logloss: 0.285222\n",
      "[146]\tvalid_0's binary_logloss: 0.285205\n",
      "[147]\tvalid_0's binary_logloss: 0.285195\n",
      "[148]\tvalid_0's binary_logloss: 0.28518\n",
      "[149]\tvalid_0's binary_logloss: 0.285164\n",
      "[150]\tvalid_0's binary_logloss: 0.285144\n",
      "[151]\tvalid_0's binary_logloss: 0.285126\n",
      "[152]\tvalid_0's binary_logloss: 0.285109\n",
      "[153]\tvalid_0's binary_logloss: 0.285091\n",
      "[154]\tvalid_0's binary_logloss: 0.285066\n",
      "[155]\tvalid_0's binary_logloss: 0.28505\n",
      "[156]\tvalid_0's binary_logloss: 0.28504\n",
      "[157]\tvalid_0's binary_logloss: 0.285023\n",
      "[158]\tvalid_0's binary_logloss: 0.28501\n",
      "[159]\tvalid_0's binary_logloss: 0.285007\n",
      "[160]\tvalid_0's binary_logloss: 0.284995\n",
      "[161]\tvalid_0's binary_logloss: 0.284982\n",
      "[162]\tvalid_0's binary_logloss: 0.284971\n",
      "[163]\tvalid_0's binary_logloss: 0.28496\n",
      "[164]\tvalid_0's binary_logloss: 0.284948\n",
      "[165]\tvalid_0's binary_logloss: 0.284936\n",
      "[166]\tvalid_0's binary_logloss: 0.284923\n",
      "[167]\tvalid_0's binary_logloss: 0.284909\n",
      "[168]\tvalid_0's binary_logloss: 0.284904\n",
      "[169]\tvalid_0's binary_logloss: 0.284892\n",
      "[170]\tvalid_0's binary_logloss: 0.284884\n",
      "[171]\tvalid_0's binary_logloss: 0.284875\n",
      "[172]\tvalid_0's binary_logloss: 0.284874\n",
      "[173]\tvalid_0's binary_logloss: 0.284872\n",
      "[174]\tvalid_0's binary_logloss: 0.284859\n",
      "[175]\tvalid_0's binary_logloss: 0.284848\n",
      "[176]\tvalid_0's binary_logloss: 0.284825\n",
      "[177]\tvalid_0's binary_logloss: 0.28481\n",
      "[178]\tvalid_0's binary_logloss: 0.284791\n",
      "[179]\tvalid_0's binary_logloss: 0.28478\n",
      "[180]\tvalid_0's binary_logloss: 0.28477\n",
      "[181]\tvalid_0's binary_logloss: 0.284765\n",
      "[182]\tvalid_0's binary_logloss: 0.284751\n",
      "[183]\tvalid_0's binary_logloss: 0.28474\n",
      "[184]\tvalid_0's binary_logloss: 0.284726\n",
      "[185]\tvalid_0's binary_logloss: 0.284717\n",
      "[186]\tvalid_0's binary_logloss: 0.284707\n",
      "[187]\tvalid_0's binary_logloss: 0.284697\n",
      "[188]\tvalid_0's binary_logloss: 0.284692\n",
      "[189]\tvalid_0's binary_logloss: 0.284671\n",
      "[190]\tvalid_0's binary_logloss: 0.284657\n",
      "[191]\tvalid_0's binary_logloss: 0.284644\n",
      "[192]\tvalid_0's binary_logloss: 0.284631\n",
      "[193]\tvalid_0's binary_logloss: 0.284613\n",
      "[194]\tvalid_0's binary_logloss: 0.284611\n",
      "[195]\tvalid_0's binary_logloss: 0.284598\n",
      "[196]\tvalid_0's binary_logloss: 0.284596\n",
      "[197]\tvalid_0's binary_logloss: 0.284582\n",
      "[198]\tvalid_0's binary_logloss: 0.284572\n",
      "[199]\tvalid_0's binary_logloss: 0.284568\n",
      "[200]\tvalid_0's binary_logloss: 0.284559\n",
      "[201]\tvalid_0's binary_logloss: 0.284552\n",
      "[202]\tvalid_0's binary_logloss: 0.284544\n",
      "[203]\tvalid_0's binary_logloss: 0.284533\n",
      "[204]\tvalid_0's binary_logloss: 0.284516\n",
      "[205]\tvalid_0's binary_logloss: 0.284507\n",
      "[206]\tvalid_0's binary_logloss: 0.284502\n",
      "[207]\tvalid_0's binary_logloss: 0.284493\n",
      "[208]\tvalid_0's binary_logloss: 0.284481\n",
      "[209]\tvalid_0's binary_logloss: 0.284474\n",
      "[210]\tvalid_0's binary_logloss: 0.284458\n",
      "[211]\tvalid_0's binary_logloss: 0.284443\n",
      "[212]\tvalid_0's binary_logloss: 0.284435\n",
      "[213]\tvalid_0's binary_logloss: 0.284416\n",
      "[214]\tvalid_0's binary_logloss: 0.284405\n",
      "[215]\tvalid_0's binary_logloss: 0.284397\n",
      "[216]\tvalid_0's binary_logloss: 0.284391\n",
      "[217]\tvalid_0's binary_logloss: 0.28438\n",
      "[218]\tvalid_0's binary_logloss: 0.284372\n",
      "[219]\tvalid_0's binary_logloss: 0.284365\n",
      "[220]\tvalid_0's binary_logloss: 0.28436\n",
      "[221]\tvalid_0's binary_logloss: 0.28435\n",
      "[222]\tvalid_0's binary_logloss: 0.284339\n",
      "[223]\tvalid_0's binary_logloss: 0.28433\n",
      "[224]\tvalid_0's binary_logloss: 0.284322\n",
      "[225]\tvalid_0's binary_logloss: 0.284307\n",
      "[226]\tvalid_0's binary_logloss: 0.284296\n",
      "[227]\tvalid_0's binary_logloss: 0.284279\n",
      "[228]\tvalid_0's binary_logloss: 0.284275\n",
      "[229]\tvalid_0's binary_logloss: 0.284263\n",
      "[230]\tvalid_0's binary_logloss: 0.284262\n",
      "[231]\tvalid_0's binary_logloss: 0.284257\n",
      "[232]\tvalid_0's binary_logloss: 0.284246\n",
      "[233]\tvalid_0's binary_logloss: 0.284243\n",
      "[234]\tvalid_0's binary_logloss: 0.284239\n",
      "[235]\tvalid_0's binary_logloss: 0.284236\n",
      "[236]\tvalid_0's binary_logloss: 0.284231\n",
      "[237]\tvalid_0's binary_logloss: 0.284225\n",
      "[238]\tvalid_0's binary_logloss: 0.284217\n",
      "[239]\tvalid_0's binary_logloss: 0.284209\n",
      "[240]\tvalid_0's binary_logloss: 0.284198\n",
      "[241]\tvalid_0's binary_logloss: 0.284189\n",
      "[242]\tvalid_0's binary_logloss: 0.284181\n",
      "[243]\tvalid_0's binary_logloss: 0.284165\n",
      "[244]\tvalid_0's binary_logloss: 0.284154\n",
      "[245]\tvalid_0's binary_logloss: 0.284142\n",
      "[246]\tvalid_0's binary_logloss: 0.284136\n",
      "[247]\tvalid_0's binary_logloss: 0.284128\n",
      "[248]\tvalid_0's binary_logloss: 0.284118\n",
      "[249]\tvalid_0's binary_logloss: 0.284112\n",
      "[250]\tvalid_0's binary_logloss: 0.284108\n",
      "[251]\tvalid_0's binary_logloss: 0.284104\n",
      "[252]\tvalid_0's binary_logloss: 0.284094\n",
      "[253]\tvalid_0's binary_logloss: 0.284086\n",
      "[254]\tvalid_0's binary_logloss: 0.284079\n",
      "[255]\tvalid_0's binary_logloss: 0.284073\n",
      "[256]\tvalid_0's binary_logloss: 0.284066\n",
      "[257]\tvalid_0's binary_logloss: 0.28406\n",
      "[258]\tvalid_0's binary_logloss: 0.284051\n",
      "[259]\tvalid_0's binary_logloss: 0.284041\n",
      "[260]\tvalid_0's binary_logloss: 0.284033\n",
      "[261]\tvalid_0's binary_logloss: 0.284021\n",
      "[262]\tvalid_0's binary_logloss: 0.284014\n",
      "[263]\tvalid_0's binary_logloss: 0.284009\n",
      "[264]\tvalid_0's binary_logloss: 0.283999\n",
      "[265]\tvalid_0's binary_logloss: 0.283989\n",
      "[266]\tvalid_0's binary_logloss: 0.283981\n",
      "[267]\tvalid_0's binary_logloss: 0.283975\n",
      "[268]\tvalid_0's binary_logloss: 0.283965\n",
      "[269]\tvalid_0's binary_logloss: 0.28396\n",
      "[270]\tvalid_0's binary_logloss: 0.283951\n",
      "[271]\tvalid_0's binary_logloss: 0.283943\n",
      "[272]\tvalid_0's binary_logloss: 0.283931\n",
      "[273]\tvalid_0's binary_logloss: 0.283921\n",
      "[274]\tvalid_0's binary_logloss: 0.283903\n",
      "[275]\tvalid_0's binary_logloss: 0.283892\n",
      "[276]\tvalid_0's binary_logloss: 0.283888\n",
      "[277]\tvalid_0's binary_logloss: 0.283876\n",
      "[278]\tvalid_0's binary_logloss: 0.283864\n",
      "[279]\tvalid_0's binary_logloss: 0.283848\n",
      "[280]\tvalid_0's binary_logloss: 0.283841\n",
      "[281]\tvalid_0's binary_logloss: 0.28384\n",
      "[282]\tvalid_0's binary_logloss: 0.283835\n",
      "[283]\tvalid_0's binary_logloss: 0.283829\n",
      "[284]\tvalid_0's binary_logloss: 0.283823\n",
      "[285]\tvalid_0's binary_logloss: 0.283817\n",
      "[286]\tvalid_0's binary_logloss: 0.283813\n",
      "[287]\tvalid_0's binary_logloss: 0.283809\n",
      "[288]\tvalid_0's binary_logloss: 0.283797\n",
      "[289]\tvalid_0's binary_logloss: 0.28379\n",
      "[290]\tvalid_0's binary_logloss: 0.283777\n",
      "[291]\tvalid_0's binary_logloss: 0.283765\n",
      "[292]\tvalid_0's binary_logloss: 0.283749\n",
      "[293]\tvalid_0's binary_logloss: 0.283739\n",
      "[294]\tvalid_0's binary_logloss: 0.283735\n",
      "[295]\tvalid_0's binary_logloss: 0.283728\n",
      "[296]\tvalid_0's binary_logloss: 0.283718\n",
      "[297]\tvalid_0's binary_logloss: 0.283707\n",
      "[298]\tvalid_0's binary_logloss: 0.283701\n",
      "[299]\tvalid_0's binary_logloss: 0.283689\n",
      "[300]\tvalid_0's binary_logloss: 0.283685\n",
      "[301]\tvalid_0's binary_logloss: 0.283676\n",
      "[302]\tvalid_0's binary_logloss: 0.283675\n",
      "[303]\tvalid_0's binary_logloss: 0.283669\n",
      "[304]\tvalid_0's binary_logloss: 0.283649\n",
      "[305]\tvalid_0's binary_logloss: 0.283641\n",
      "[306]\tvalid_0's binary_logloss: 0.283632\n",
      "[307]\tvalid_0's binary_logloss: 0.283626\n",
      "[308]\tvalid_0's binary_logloss: 0.283622\n",
      "[309]\tvalid_0's binary_logloss: 0.283619\n",
      "[310]\tvalid_0's binary_logloss: 0.283615\n",
      "[311]\tvalid_0's binary_logloss: 0.28361\n",
      "[312]\tvalid_0's binary_logloss: 0.283606\n",
      "[313]\tvalid_0's binary_logloss: 0.283601\n",
      "[314]\tvalid_0's binary_logloss: 0.283596\n",
      "[315]\tvalid_0's binary_logloss: 0.283588\n",
      "[316]\tvalid_0's binary_logloss: 0.283581\n",
      "[317]\tvalid_0's binary_logloss: 0.283575\n",
      "[318]\tvalid_0's binary_logloss: 0.283564\n",
      "[319]\tvalid_0's binary_logloss: 0.28356\n",
      "[320]\tvalid_0's binary_logloss: 0.283556\n",
      "[321]\tvalid_0's binary_logloss: 0.283548\n",
      "[322]\tvalid_0's binary_logloss: 0.283541\n",
      "[323]\tvalid_0's binary_logloss: 0.283532\n",
      "[324]\tvalid_0's binary_logloss: 0.283511\n",
      "[325]\tvalid_0's binary_logloss: 0.283504\n",
      "[326]\tvalid_0's binary_logloss: 0.283501\n",
      "[327]\tvalid_0's binary_logloss: 0.283495\n",
      "[328]\tvalid_0's binary_logloss: 0.283488\n",
      "[329]\tvalid_0's binary_logloss: 0.283478\n",
      "[330]\tvalid_0's binary_logloss: 0.283473\n",
      "[331]\tvalid_0's binary_logloss: 0.283473\n",
      "[332]\tvalid_0's binary_logloss: 0.283465\n",
      "[333]\tvalid_0's binary_logloss: 0.283453\n",
      "[334]\tvalid_0's binary_logloss: 0.283445\n",
      "[335]\tvalid_0's binary_logloss: 0.283443\n",
      "[336]\tvalid_0's binary_logloss: 0.283436\n",
      "[337]\tvalid_0's binary_logloss: 0.283426\n",
      "[338]\tvalid_0's binary_logloss: 0.28342\n",
      "[339]\tvalid_0's binary_logloss: 0.283411\n",
      "[340]\tvalid_0's binary_logloss: 0.283408\n",
      "[341]\tvalid_0's binary_logloss: 0.283405\n",
      "[342]\tvalid_0's binary_logloss: 0.283404\n",
      "[343]\tvalid_0's binary_logloss: 0.283398\n",
      "[344]\tvalid_0's binary_logloss: 0.283394\n",
      "[345]\tvalid_0's binary_logloss: 0.283389\n",
      "[346]\tvalid_0's binary_logloss: 0.283379\n",
      "[347]\tvalid_0's binary_logloss: 0.28337\n",
      "[348]\tvalid_0's binary_logloss: 0.283367\n",
      "[349]\tvalid_0's binary_logloss: 0.283359\n",
      "[350]\tvalid_0's binary_logloss: 0.283358\n",
      "[351]\tvalid_0's binary_logloss: 0.283354\n",
      "[352]\tvalid_0's binary_logloss: 0.283338\n",
      "[353]\tvalid_0's binary_logloss: 0.283334\n",
      "[354]\tvalid_0's binary_logloss: 0.283327\n",
      "[355]\tvalid_0's binary_logloss: 0.283321\n",
      "[356]\tvalid_0's binary_logloss: 0.28332\n",
      "[357]\tvalid_0's binary_logloss: 0.283315\n",
      "[358]\tvalid_0's binary_logloss: 0.283313\n",
      "[359]\tvalid_0's binary_logloss: 0.283301\n",
      "[360]\tvalid_0's binary_logloss: 0.283299\n",
      "[361]\tvalid_0's binary_logloss: 0.283292\n",
      "[362]\tvalid_0's binary_logloss: 0.283283\n",
      "[363]\tvalid_0's binary_logloss: 0.283273\n",
      "[364]\tvalid_0's binary_logloss: 0.283272\n",
      "[365]\tvalid_0's binary_logloss: 0.283269\n",
      "[366]\tvalid_0's binary_logloss: 0.283265\n",
      "[367]\tvalid_0's binary_logloss: 0.283255\n",
      "[368]\tvalid_0's binary_logloss: 0.283244\n",
      "[369]\tvalid_0's binary_logloss: 0.283235\n",
      "[370]\tvalid_0's binary_logloss: 0.283224\n",
      "[371]\tvalid_0's binary_logloss: 0.283218\n",
      "[372]\tvalid_0's binary_logloss: 0.283213\n",
      "[373]\tvalid_0's binary_logloss: 0.283207\n",
      "[374]\tvalid_0's binary_logloss: 0.283204\n",
      "[375]\tvalid_0's binary_logloss: 0.283201\n",
      "[376]\tvalid_0's binary_logloss: 0.283195\n",
      "[377]\tvalid_0's binary_logloss: 0.283195\n",
      "[378]\tvalid_0's binary_logloss: 0.283193\n",
      "[379]\tvalid_0's binary_logloss: 0.28319\n",
      "[380]\tvalid_0's binary_logloss: 0.283181\n",
      "[381]\tvalid_0's binary_logloss: 0.28317\n",
      "[382]\tvalid_0's binary_logloss: 0.283166\n",
      "[383]\tvalid_0's binary_logloss: 0.283161\n",
      "[384]\tvalid_0's binary_logloss: 0.283158\n",
      "[385]\tvalid_0's binary_logloss: 0.283152\n",
      "[386]\tvalid_0's binary_logloss: 0.283143\n",
      "[387]\tvalid_0's binary_logloss: 0.283133\n",
      "[388]\tvalid_0's binary_logloss: 0.283124\n",
      "[389]\tvalid_0's binary_logloss: 0.283124\n",
      "[390]\tvalid_0's binary_logloss: 0.283117\n",
      "[391]\tvalid_0's binary_logloss: 0.283115\n",
      "[392]\tvalid_0's binary_logloss: 0.283114\n",
      "[393]\tvalid_0's binary_logloss: 0.28311\n",
      "[394]\tvalid_0's binary_logloss: 0.283102\n",
      "[395]\tvalid_0's binary_logloss: 0.283098\n",
      "[396]\tvalid_0's binary_logloss: 0.283088\n",
      "[397]\tvalid_0's binary_logloss: 0.283087\n",
      "[398]\tvalid_0's binary_logloss: 0.283085\n",
      "[399]\tvalid_0's binary_logloss: 0.283069\n",
      "[400]\tvalid_0's binary_logloss: 0.283067\n",
      "[401]\tvalid_0's binary_logloss: 0.283066\n",
      "[402]\tvalid_0's binary_logloss: 0.283056\n",
      "[403]\tvalid_0's binary_logloss: 0.283046\n",
      "[404]\tvalid_0's binary_logloss: 0.283045\n",
      "[405]\tvalid_0's binary_logloss: 0.283045\n",
      "[406]\tvalid_0's binary_logloss: 0.283038\n",
      "[407]\tvalid_0's binary_logloss: 0.283038\n",
      "[408]\tvalid_0's binary_logloss: 0.283036\n",
      "[409]\tvalid_0's binary_logloss: 0.28303\n",
      "[410]\tvalid_0's binary_logloss: 0.283025\n",
      "[411]\tvalid_0's binary_logloss: 0.283021\n",
      "[412]\tvalid_0's binary_logloss: 0.283012\n",
      "[413]\tvalid_0's binary_logloss: 0.28301\n",
      "[414]\tvalid_0's binary_logloss: 0.283003\n",
      "[415]\tvalid_0's binary_logloss: 0.282998\n",
      "[416]\tvalid_0's binary_logloss: 0.282991\n",
      "[417]\tvalid_0's binary_logloss: 0.282986\n",
      "[418]\tvalid_0's binary_logloss: 0.282985\n",
      "[419]\tvalid_0's binary_logloss: 0.282984\n",
      "[420]\tvalid_0's binary_logloss: 0.282978\n",
      "[421]\tvalid_0's binary_logloss: 0.282968\n",
      "[422]\tvalid_0's binary_logloss: 0.282959\n",
      "[423]\tvalid_0's binary_logloss: 0.282953\n",
      "[424]\tvalid_0's binary_logloss: 0.28295\n",
      "[425]\tvalid_0's binary_logloss: 0.282941\n",
      "[426]\tvalid_0's binary_logloss: 0.282932\n",
      "[427]\tvalid_0's binary_logloss: 0.282929\n",
      "[428]\tvalid_0's binary_logloss: 0.282927\n",
      "[429]\tvalid_0's binary_logloss: 0.282921\n",
      "[430]\tvalid_0's binary_logloss: 0.28292\n",
      "[431]\tvalid_0's binary_logloss: 0.282918\n",
      "[432]\tvalid_0's binary_logloss: 0.282915\n",
      "[433]\tvalid_0's binary_logloss: 0.282913\n",
      "[434]\tvalid_0's binary_logloss: 0.282909\n",
      "[435]\tvalid_0's binary_logloss: 0.282902\n",
      "[436]\tvalid_0's binary_logloss: 0.282901\n",
      "[437]\tvalid_0's binary_logloss: 0.2829\n",
      "[438]\tvalid_0's binary_logloss: 0.282898\n",
      "[439]\tvalid_0's binary_logloss: 0.282893\n",
      "[440]\tvalid_0's binary_logloss: 0.282891\n",
      "[441]\tvalid_0's binary_logloss: 0.282889\n",
      "[442]\tvalid_0's binary_logloss: 0.282887\n",
      "[443]\tvalid_0's binary_logloss: 0.282884\n",
      "[444]\tvalid_0's binary_logloss: 0.282874\n",
      "[445]\tvalid_0's binary_logloss: 0.28287\n",
      "[446]\tvalid_0's binary_logloss: 0.282867\n",
      "[447]\tvalid_0's binary_logloss: 0.282858\n",
      "[448]\tvalid_0's binary_logloss: 0.282856\n",
      "[449]\tvalid_0's binary_logloss: 0.282849\n",
      "[450]\tvalid_0's binary_logloss: 0.282841\n",
      "[451]\tvalid_0's binary_logloss: 0.282838\n",
      "[452]\tvalid_0's binary_logloss: 0.282835\n",
      "[453]\tvalid_0's binary_logloss: 0.282831\n",
      "[454]\tvalid_0's binary_logloss: 0.282826\n",
      "[455]\tvalid_0's binary_logloss: 0.282817\n",
      "[456]\tvalid_0's binary_logloss: 0.282812\n",
      "[457]\tvalid_0's binary_logloss: 0.282804\n",
      "[458]\tvalid_0's binary_logloss: 0.282799\n",
      "[459]\tvalid_0's binary_logloss: 0.282791\n",
      "[460]\tvalid_0's binary_logloss: 0.282785\n",
      "[461]\tvalid_0's binary_logloss: 0.282778\n",
      "[462]\tvalid_0's binary_logloss: 0.28277\n",
      "[463]\tvalid_0's binary_logloss: 0.28276\n",
      "[464]\tvalid_0's binary_logloss: 0.282758\n",
      "[465]\tvalid_0's binary_logloss: 0.282751\n",
      "[466]\tvalid_0's binary_logloss: 0.282746\n",
      "[467]\tvalid_0's binary_logloss: 0.282742\n",
      "[468]\tvalid_0's binary_logloss: 0.282741\n",
      "[469]\tvalid_0's binary_logloss: 0.282735\n",
      "[470]\tvalid_0's binary_logloss: 0.282731\n",
      "[471]\tvalid_0's binary_logloss: 0.282723\n",
      "[472]\tvalid_0's binary_logloss: 0.28272\n",
      "[473]\tvalid_0's binary_logloss: 0.282717\n",
      "[474]\tvalid_0's binary_logloss: 0.282716\n",
      "[475]\tvalid_0's binary_logloss: 0.282711\n",
      "[476]\tvalid_0's binary_logloss: 0.282712\n",
      "[477]\tvalid_0's binary_logloss: 0.282703\n",
      "[478]\tvalid_0's binary_logloss: 0.282698\n",
      "[479]\tvalid_0's binary_logloss: 0.282691\n",
      "[480]\tvalid_0's binary_logloss: 0.282686\n",
      "[481]\tvalid_0's binary_logloss: 0.282679\n",
      "[482]\tvalid_0's binary_logloss: 0.282671\n",
      "[483]\tvalid_0's binary_logloss: 0.282668\n",
      "[484]\tvalid_0's binary_logloss: 0.282665\n",
      "[485]\tvalid_0's binary_logloss: 0.282661\n",
      "[486]\tvalid_0's binary_logloss: 0.282657\n",
      "[487]\tvalid_0's binary_logloss: 0.282649\n",
      "[488]\tvalid_0's binary_logloss: 0.282648\n",
      "[489]\tvalid_0's binary_logloss: 0.282646\n",
      "[490]\tvalid_0's binary_logloss: 0.282644\n",
      "[491]\tvalid_0's binary_logloss: 0.28264\n",
      "[492]\tvalid_0's binary_logloss: 0.282639\n",
      "[493]\tvalid_0's binary_logloss: 0.282629\n",
      "[494]\tvalid_0's binary_logloss: 0.282629\n",
      "[495]\tvalid_0's binary_logloss: 0.282622\n",
      "[496]\tvalid_0's binary_logloss: 0.282618\n",
      "[497]\tvalid_0's binary_logloss: 0.282615\n",
      "[498]\tvalid_0's binary_logloss: 0.282615\n",
      "[499]\tvalid_0's binary_logloss: 0.282607\n",
      "[500]\tvalid_0's binary_logloss: 0.282603\n"
     ]
    }
   ],
   "source": [
    "print('Training light GBM ...')\n",
    "bst = lgb.train(params, d_train, valid_sets= [d_valid], num_boost_round= ROUNDS, early_stopping_rounds = 10)"
   ]
  },
  {
   "cell_type": "code",
   "execution_count": 26,
   "metadata": {
    "collapsed": true,
    "deletable": true,
    "editable": true
   },
   "outputs": [],
   "source": [
    "bst.save_model('../models/lightGBM_morefeatures_80_10.txt', num_iteration=bst.best_iteration)"
   ]
  },
  {
   "cell_type": "markdown",
   "metadata": {
    "collapsed": true,
    "deletable": true,
    "editable": true
   },
   "source": [
    "It seems it doesn't add much more values."
   ]
  },
  {
   "cell_type": "markdown",
   "metadata": {
    "deletable": true,
    "editable": true
   },
   "source": [
    "## Use specific product vector features"
   ]
  },
  {
   "cell_type": "code",
   "execution_count": 54,
   "metadata": {
    "collapsed": false,
    "deletable": true,
    "editable": true
   },
   "outputs": [
    {
     "name": "stdout",
     "output_type": "stream",
     "text": [
      "<class 'pandas.core.frame.DataFrame'>\n",
      "Int64Index: 8474661 entries, 0 to 8474660\n",
      "Columns: 134 entries, order_id to prod2vec_99\n",
      "dtypes: float32(108), int16(3), int32(3), int8(2), object(1), uint8(17)\n",
      "memory usage: 3.8+ GB\n"
     ]
    }
   ],
   "source": [
    "#df_train.drop(emb_cols, axis = 1, inplace = True)\n",
    "df_train.info()"
   ]
  },
  {
   "cell_type": "code",
   "execution_count": 55,
   "metadata": {
    "collapsed": false,
    "deletable": true,
    "editable": true
   },
   "outputs": [
    {
     "data": {
      "text/plain": [
       "7"
      ]
     },
     "execution_count": 55,
     "metadata": {},
     "output_type": "execute_result"
    }
   ],
   "source": [
    "gc.collect()"
   ]
  },
  {
   "cell_type": "code",
   "execution_count": 53,
   "metadata": {
    "collapsed": false,
    "deletable": true,
    "editable": true
   },
   "outputs": [
    {
     "name": "stdout",
     "output_type": "stream",
     "text": [
      "['user_total_orders', 'user_total_items', 'total_distinct_items', 'dow', 'user_average_days_between_orders', 'user_average_basket', 'order_hour_of_day', 'days_since_prior_order', 'days_since_ratio', 'aisle_id', 'department_id', 'product_orders', 'product_reorders', 'product_reorder_rate', u'dow_0', u'dow_1', u'dow_2', u'dow_3', u'dow_4', u'dow_5', u'dow_6', u'daytime_sleeping', u'daytime_morning', u'daytime_noon', u'daytime_afternoon', u'daytime_evening', u'daytime_night', 'prod2vec_0', 'prod2vec_1', 'prod2vec_2', 'prod2vec_3', 'prod2vec_4', 'prod2vec_5', 'prod2vec_6', 'prod2vec_7', 'prod2vec_8', 'prod2vec_9', 'prod2vec_10', 'prod2vec_11', 'prod2vec_12', 'prod2vec_13', 'prod2vec_14', 'prod2vec_15', 'prod2vec_16', 'prod2vec_17', 'prod2vec_18', 'prod2vec_19', 'prod2vec_20', 'prod2vec_21', 'prod2vec_22', 'prod2vec_23', 'prod2vec_24', 'prod2vec_25', 'prod2vec_26', 'prod2vec_27', 'prod2vec_28', 'prod2vec_29', 'prod2vec_30', 'prod2vec_31', 'prod2vec_32', 'prod2vec_33', 'prod2vec_34', 'prod2vec_35', 'prod2vec_36', 'prod2vec_37', 'prod2vec_38', 'prod2vec_39', 'prod2vec_40', 'prod2vec_41', 'prod2vec_42', 'prod2vec_43', 'prod2vec_44', 'prod2vec_45', 'prod2vec_46', 'prod2vec_47', 'prod2vec_48', 'prod2vec_49', 'prod2vec_50', 'prod2vec_51', 'prod2vec_52', 'prod2vec_53', 'prod2vec_54', 'prod2vec_55', 'prod2vec_56', 'prod2vec_57', 'prod2vec_58', 'prod2vec_59', 'prod2vec_60', 'prod2vec_61', 'prod2vec_62', 'prod2vec_63', 'prod2vec_64', 'prod2vec_65', 'prod2vec_66', 'prod2vec_67', 'prod2vec_68', 'prod2vec_69', 'prod2vec_70', 'prod2vec_71', 'prod2vec_72', 'prod2vec_73', 'prod2vec_74', 'prod2vec_75', 'prod2vec_76', 'prod2vec_77', 'prod2vec_78', 'prod2vec_79', 'prod2vec_80', 'prod2vec_81', 'prod2vec_82', 'prod2vec_83', 'prod2vec_84', 'prod2vec_85', 'prod2vec_86', 'prod2vec_87', 'prod2vec_88', 'prod2vec_89', 'prod2vec_90', 'prod2vec_91', 'prod2vec_92', 'prod2vec_93', 'prod2vec_94', 'prod2vec_95', 'prod2vec_96', 'prod2vec_97', 'prod2vec_98', 'prod2vec_99']\n"
     ]
    }
   ],
   "source": [
    "prod2vec_cols = features[features.str.startswith(\"prod2vec\")].tolist()\n",
    "f_to_use = ['user_total_orders', 'user_total_items', 'total_distinct_items', 'dow',\n",
    "       'user_average_days_between_orders', 'user_average_basket',\n",
    "       'order_hour_of_day', 'days_since_prior_order', 'days_since_ratio',\n",
    "       'aisle_id', 'department_id', 'product_orders', 'product_reorders',\n",
    "       'product_reorder_rate'] + dow_cols + daytime_cols + prod2vec_cols\n",
    "print(f_to_use)"
   ]
  },
  {
   "cell_type": "code",
   "execution_count": 56,
   "metadata": {
    "collapsed": false,
    "deletable": true,
    "editable": true
   },
   "outputs": [
    {
     "name": "stdout",
     "output_type": "stream",
     "text": [
      "split the train and validation set\n"
     ]
    }
   ],
   "source": [
    "print(\"split the train and validation set\")\n",
    "X_train, X_valid, y_train, y_valid = train_test_split(df_train[f_to_use], labels, test_size = 0.3, random_state=2017)"
   ]
  },
  {
   "cell_type": "code",
   "execution_count": 58,
   "metadata": {
    "collapsed": true,
    "deletable": true,
    "editable": true
   },
   "outputs": [],
   "source": [
    "X_train = pd.DataFrame(X_train, columns = f_to_use)\n",
    "X_valid = pd.DataFrame(X_valid, columns = f_to_use)"
   ]
  },
  {
   "cell_type": "code",
   "execution_count": 59,
   "metadata": {
    "collapsed": false,
    "deletable": true,
    "editable": true
   },
   "outputs": [
    {
     "name": "stdout",
     "output_type": "stream",
     "text": [
      "formating training and validation dataset for lgb\n"
     ]
    }
   ],
   "source": [
    "print('formating training and validation dataset for lgb')\n",
    "d_train = lgb.Dataset(X_train,\n",
    "                      label=y_train,\n",
    "                      categorical_feature=['aisle_id', 'department_id'])  \n",
    "d_valid = lgb.Dataset(X_valid,\n",
    "                      label=y_valid,\n",
    "                      categorical_feature=['aisle_id', 'department_id'])  "
   ]
  },
  {
   "cell_type": "code",
   "execution_count": 60,
   "metadata": {
    "collapsed": true,
    "deletable": true,
    "editable": true
   },
   "outputs": [],
   "source": [
    "params = {\n",
    "    'task': 'train',\n",
    "    'boosting_type': 'gbdt',\n",
    "    'objective': 'binary',\n",
    "    'metric': {'binary_logloss'},\n",
    "    'num_leaves': 100,\n",
    "    'max_depth': 12,\n",
    "    'feature_fraction': 0.85,\n",
    "    'bagging_fraction': 0.9,\n",
    "    'bagging_freq': 8\n",
    "}\n",
    "ROUNDS = 500"
   ]
  },
  {
   "cell_type": "code",
   "execution_count": 61,
   "metadata": {
    "collapsed": false,
    "deletable": true,
    "editable": true
   },
   "outputs": [
    {
     "data": {
      "text/plain": [
       "19"
      ]
     },
     "execution_count": 61,
     "metadata": {},
     "output_type": "execute_result"
    }
   ],
   "source": [
    "gc.collect()"
   ]
  },
  {
   "cell_type": "code",
   "execution_count": 62,
   "metadata": {
    "collapsed": false,
    "deletable": true,
    "editable": true
   },
   "outputs": [
    {
     "name": "stdout",
     "output_type": "stream",
     "text": [
      "Training light GBM ...\n",
      "[1]\tvalid_0's binary_logloss: 0.629861\n",
      "Train until valid scores didn't improve in 10 rounds.\n",
      "[2]\tvalid_0's binary_logloss: 0.578073\n",
      "[3]\tvalid_0's binary_logloss: 0.535196\n",
      "[4]\tvalid_0's binary_logloss: 0.499764\n",
      "[5]\tvalid_0's binary_logloss: 0.469615\n",
      "[6]\tvalid_0's binary_logloss: 0.44406\n",
      "[7]\tvalid_0's binary_logloss: 0.422511\n",
      "[8]\tvalid_0's binary_logloss: 0.403941\n",
      "[9]\tvalid_0's binary_logloss: 0.388121\n",
      "[10]\tvalid_0's binary_logloss: 0.374644\n",
      "[11]\tvalid_0's binary_logloss: 0.363028\n",
      "[12]\tvalid_0's binary_logloss: 0.352877\n",
      "[13]\tvalid_0's binary_logloss: 0.34415\n",
      "[14]\tvalid_0's binary_logloss: 0.336623\n",
      "[15]\tvalid_0's binary_logloss: 0.33029\n",
      "[16]\tvalid_0's binary_logloss: 0.324971\n",
      "[17]\tvalid_0's binary_logloss: 0.320195\n",
      "[18]\tvalid_0's binary_logloss: 0.316005\n",
      "[19]\tvalid_0's binary_logloss: 0.312523\n",
      "[20]\tvalid_0's binary_logloss: 0.309494\n",
      "[21]\tvalid_0's binary_logloss: 0.306809\n",
      "[22]\tvalid_0's binary_logloss: 0.304419\n",
      "[23]\tvalid_0's binary_logloss: 0.302441\n",
      "[24]\tvalid_0's binary_logloss: 0.300757\n",
      "[25]\tvalid_0's binary_logloss: 0.299179\n",
      "[26]\tvalid_0's binary_logloss: 0.297899\n",
      "[27]\tvalid_0's binary_logloss: 0.296727\n",
      "[28]\tvalid_0's binary_logloss: 0.29579\n",
      "[29]\tvalid_0's binary_logloss: 0.294863\n",
      "[30]\tvalid_0's binary_logloss: 0.294069\n",
      "[31]\tvalid_0's binary_logloss: 0.293394\n",
      "[32]\tvalid_0's binary_logloss: 0.292806\n",
      "[33]\tvalid_0's binary_logloss: 0.292265\n",
      "[34]\tvalid_0's binary_logloss: 0.291791\n",
      "[35]\tvalid_0's binary_logloss: 0.291395\n",
      "[36]\tvalid_0's binary_logloss: 0.291043\n",
      "[37]\tvalid_0's binary_logloss: 0.290739\n",
      "[38]\tvalid_0's binary_logloss: 0.290433\n",
      "[39]\tvalid_0's binary_logloss: 0.290177\n",
      "[40]\tvalid_0's binary_logloss: 0.289928\n",
      "[41]\tvalid_0's binary_logloss: 0.289729\n",
      "[42]\tvalid_0's binary_logloss: 0.289542\n",
      "[43]\tvalid_0's binary_logloss: 0.289365\n",
      "[44]\tvalid_0's binary_logloss: 0.289221\n",
      "[45]\tvalid_0's binary_logloss: 0.289092\n",
      "[46]\tvalid_0's binary_logloss: 0.288908\n",
      "[47]\tvalid_0's binary_logloss: 0.288806\n",
      "[48]\tvalid_0's binary_logloss: 0.288661\n",
      "[49]\tvalid_0's binary_logloss: 0.288556\n",
      "[50]\tvalid_0's binary_logloss: 0.288456\n",
      "[51]\tvalid_0's binary_logloss: 0.288328\n",
      "[52]\tvalid_0's binary_logloss: 0.28824\n",
      "[53]\tvalid_0's binary_logloss: 0.288158\n",
      "[54]\tvalid_0's binary_logloss: 0.288058\n",
      "[55]\tvalid_0's binary_logloss: 0.28798\n",
      "[56]\tvalid_0's binary_logloss: 0.28791\n",
      "[57]\tvalid_0's binary_logloss: 0.287823\n",
      "[58]\tvalid_0's binary_logloss: 0.287764\n",
      "[59]\tvalid_0's binary_logloss: 0.287714\n",
      "[60]\tvalid_0's binary_logloss: 0.287635\n",
      "[61]\tvalid_0's binary_logloss: 0.287587\n",
      "[62]\tvalid_0's binary_logloss: 0.287539\n",
      "[63]\tvalid_0's binary_logloss: 0.287472\n",
      "[64]\tvalid_0's binary_logloss: 0.287433\n",
      "[65]\tvalid_0's binary_logloss: 0.287384\n",
      "[66]\tvalid_0's binary_logloss: 0.287343\n",
      "[67]\tvalid_0's binary_logloss: 0.287288\n",
      "[68]\tvalid_0's binary_logloss: 0.28724\n",
      "[69]\tvalid_0's binary_logloss: 0.287203\n",
      "[70]\tvalid_0's binary_logloss: 0.287176\n",
      "[71]\tvalid_0's binary_logloss: 0.287139\n",
      "[72]\tvalid_0's binary_logloss: 0.287109\n",
      "[73]\tvalid_0's binary_logloss: 0.287065\n",
      "[74]\tvalid_0's binary_logloss: 0.287024\n",
      "[75]\tvalid_0's binary_logloss: 0.286987\n",
      "[76]\tvalid_0's binary_logloss: 0.286949\n",
      "[77]\tvalid_0's binary_logloss: 0.286924\n",
      "[78]\tvalid_0's binary_logloss: 0.286893\n",
      "[79]\tvalid_0's binary_logloss: 0.286873\n",
      "[80]\tvalid_0's binary_logloss: 0.286843\n",
      "[81]\tvalid_0's binary_logloss: 0.286813\n",
      "[82]\tvalid_0's binary_logloss: 0.286789\n",
      "[83]\tvalid_0's binary_logloss: 0.286766\n",
      "[84]\tvalid_0's binary_logloss: 0.286746\n",
      "[85]\tvalid_0's binary_logloss: 0.286729\n",
      "[86]\tvalid_0's binary_logloss: 0.286711\n",
      "[87]\tvalid_0's binary_logloss: 0.286687\n",
      "[88]\tvalid_0's binary_logloss: 0.28667\n",
      "[89]\tvalid_0's binary_logloss: 0.286649\n",
      "[90]\tvalid_0's binary_logloss: 0.286628\n",
      "[91]\tvalid_0's binary_logloss: 0.286603\n",
      "[92]\tvalid_0's binary_logloss: 0.286586\n",
      "[93]\tvalid_0's binary_logloss: 0.28657\n",
      "[94]\tvalid_0's binary_logloss: 0.286553\n",
      "[95]\tvalid_0's binary_logloss: 0.286538\n",
      "[96]\tvalid_0's binary_logloss: 0.28652\n",
      "[97]\tvalid_0's binary_logloss: 0.286501\n",
      "[98]\tvalid_0's binary_logloss: 0.286486\n",
      "[99]\tvalid_0's binary_logloss: 0.286475\n",
      "[100]\tvalid_0's binary_logloss: 0.286457\n",
      "[101]\tvalid_0's binary_logloss: 0.286446\n",
      "[102]\tvalid_0's binary_logloss: 0.286432\n",
      "[103]\tvalid_0's binary_logloss: 0.286413\n",
      "[104]\tvalid_0's binary_logloss: 0.286396\n",
      "[105]\tvalid_0's binary_logloss: 0.28638\n",
      "[106]\tvalid_0's binary_logloss: 0.286367\n",
      "[107]\tvalid_0's binary_logloss: 0.286351\n",
      "[108]\tvalid_0's binary_logloss: 0.28634\n",
      "[109]\tvalid_0's binary_logloss: 0.286331\n",
      "[110]\tvalid_0's binary_logloss: 0.286322\n",
      "[111]\tvalid_0's binary_logloss: 0.286311\n",
      "[112]\tvalid_0's binary_logloss: 0.286302\n",
      "[113]\tvalid_0's binary_logloss: 0.286293\n",
      "[114]\tvalid_0's binary_logloss: 0.28628\n",
      "[115]\tvalid_0's binary_logloss: 0.286269\n",
      "[116]\tvalid_0's binary_logloss: 0.286259\n",
      "[117]\tvalid_0's binary_logloss: 0.286247\n",
      "[118]\tvalid_0's binary_logloss: 0.286237\n",
      "[119]\tvalid_0's binary_logloss: 0.286227\n",
      "[120]\tvalid_0's binary_logloss: 0.286214\n",
      "[121]\tvalid_0's binary_logloss: 0.28621\n",
      "[122]\tvalid_0's binary_logloss: 0.286202\n",
      "[123]\tvalid_0's binary_logloss: 0.286194\n",
      "[124]\tvalid_0's binary_logloss: 0.286187\n",
      "[125]\tvalid_0's binary_logloss: 0.286179\n",
      "[126]\tvalid_0's binary_logloss: 0.286174\n",
      "[127]\tvalid_0's binary_logloss: 0.286172\n",
      "[128]\tvalid_0's binary_logloss: 0.286157\n",
      "[129]\tvalid_0's binary_logloss: 0.286154\n",
      "[130]\tvalid_0's binary_logloss: 0.286149\n",
      "[131]\tvalid_0's binary_logloss: 0.286141\n",
      "[132]\tvalid_0's binary_logloss: 0.286134\n",
      "[133]\tvalid_0's binary_logloss: 0.286127\n",
      "[134]\tvalid_0's binary_logloss: 0.286123\n",
      "[135]\tvalid_0's binary_logloss: 0.286118\n",
      "[136]\tvalid_0's binary_logloss: 0.286112\n",
      "[137]\tvalid_0's binary_logloss: 0.286102\n",
      "[138]\tvalid_0's binary_logloss: 0.286093\n",
      "[139]\tvalid_0's binary_logloss: 0.286086\n",
      "[140]\tvalid_0's binary_logloss: 0.286077\n",
      "[141]\tvalid_0's binary_logloss: 0.286072\n",
      "[142]\tvalid_0's binary_logloss: 0.286068\n",
      "[143]\tvalid_0's binary_logloss: 0.286064\n",
      "[144]\tvalid_0's binary_logloss: 0.28606\n",
      "[145]\tvalid_0's binary_logloss: 0.286051\n",
      "[146]\tvalid_0's binary_logloss: 0.286042\n",
      "[147]\tvalid_0's binary_logloss: 0.286035\n",
      "[148]\tvalid_0's binary_logloss: 0.28603\n",
      "[149]\tvalid_0's binary_logloss: 0.286023\n",
      "[150]\tvalid_0's binary_logloss: 0.286019\n",
      "[151]\tvalid_0's binary_logloss: 0.286015\n",
      "[152]\tvalid_0's binary_logloss: 0.286007\n",
      "[153]\tvalid_0's binary_logloss: 0.286003\n",
      "[154]\tvalid_0's binary_logloss: 0.286\n",
      "[155]\tvalid_0's binary_logloss: 0.285995\n",
      "[156]\tvalid_0's binary_logloss: 0.285988\n",
      "[157]\tvalid_0's binary_logloss: 0.285988\n",
      "[158]\tvalid_0's binary_logloss: 0.285984\n",
      "[159]\tvalid_0's binary_logloss: 0.285979\n",
      "[160]\tvalid_0's binary_logloss: 0.285972\n",
      "[161]\tvalid_0's binary_logloss: 0.285966\n",
      "[162]\tvalid_0's binary_logloss: 0.285961\n",
      "[163]\tvalid_0's binary_logloss: 0.285957\n",
      "[164]\tvalid_0's binary_logloss: 0.285952\n",
      "[165]\tvalid_0's binary_logloss: 0.285944\n",
      "[166]\tvalid_0's binary_logloss: 0.285941\n",
      "[167]\tvalid_0's binary_logloss: 0.285935\n",
      "[168]\tvalid_0's binary_logloss: 0.285933\n",
      "[169]\tvalid_0's binary_logloss: 0.285928\n",
      "[170]\tvalid_0's binary_logloss: 0.285926\n",
      "[171]\tvalid_0's binary_logloss: 0.285919\n",
      "[172]\tvalid_0's binary_logloss: 0.285917\n",
      "[173]\tvalid_0's binary_logloss: 0.285913\n",
      "[174]\tvalid_0's binary_logloss: 0.285906\n",
      "[175]\tvalid_0's binary_logloss: 0.285899\n",
      "[176]\tvalid_0's binary_logloss: 0.28589\n",
      "[177]\tvalid_0's binary_logloss: 0.285889\n",
      "[178]\tvalid_0's binary_logloss: 0.285888\n",
      "[179]\tvalid_0's binary_logloss: 0.285887\n",
      "[180]\tvalid_0's binary_logloss: 0.285885\n",
      "[181]\tvalid_0's binary_logloss: 0.285882\n",
      "[182]\tvalid_0's binary_logloss: 0.285882\n",
      "[183]\tvalid_0's binary_logloss: 0.28588\n",
      "[184]\tvalid_0's binary_logloss: 0.285875\n",
      "[185]\tvalid_0's binary_logloss: 0.28587\n",
      "[186]\tvalid_0's binary_logloss: 0.285871\n",
      "[187]\tvalid_0's binary_logloss: 0.285867\n",
      "[188]\tvalid_0's binary_logloss: 0.285862\n",
      "[189]\tvalid_0's binary_logloss: 0.28585\n",
      "[190]\tvalid_0's binary_logloss: 0.285851\n",
      "[191]\tvalid_0's binary_logloss: 0.285848\n",
      "[192]\tvalid_0's binary_logloss: 0.285845\n",
      "[193]\tvalid_0's binary_logloss: 0.285844\n",
      "[194]\tvalid_0's binary_logloss: 0.285841\n",
      "[195]\tvalid_0's binary_logloss: 0.285839\n",
      "[196]\tvalid_0's binary_logloss: 0.285837\n",
      "[197]\tvalid_0's binary_logloss: 0.285833\n",
      "[198]\tvalid_0's binary_logloss: 0.285832\n",
      "[199]\tvalid_0's binary_logloss: 0.285829\n",
      "[200]\tvalid_0's binary_logloss: 0.285825\n",
      "[201]\tvalid_0's binary_logloss: 0.285822\n",
      "[202]\tvalid_0's binary_logloss: 0.285819\n",
      "[203]\tvalid_0's binary_logloss: 0.285818\n",
      "[204]\tvalid_0's binary_logloss: 0.285817\n",
      "[205]\tvalid_0's binary_logloss: 0.285816\n",
      "[206]\tvalid_0's binary_logloss: 0.285813\n",
      "[207]\tvalid_0's binary_logloss: 0.285811\n",
      "[208]\tvalid_0's binary_logloss: 0.285811\n",
      "[209]\tvalid_0's binary_logloss: 0.285807\n",
      "[210]\tvalid_0's binary_logloss: 0.285803\n",
      "[211]\tvalid_0's binary_logloss: 0.285803\n",
      "[212]\tvalid_0's binary_logloss: 0.285801\n",
      "[213]\tvalid_0's binary_logloss: 0.2858\n",
      "[214]\tvalid_0's binary_logloss: 0.2858\n",
      "[215]\tvalid_0's binary_logloss: 0.285801\n",
      "[216]\tvalid_0's binary_logloss: 0.285796\n",
      "[217]\tvalid_0's binary_logloss: 0.285792\n",
      "[218]\tvalid_0's binary_logloss: 0.285792\n",
      "[219]\tvalid_0's binary_logloss: 0.285793\n",
      "[220]\tvalid_0's binary_logloss: 0.285786\n",
      "[221]\tvalid_0's binary_logloss: 0.285783\n",
      "[222]\tvalid_0's binary_logloss: 0.285781\n",
      "[223]\tvalid_0's binary_logloss: 0.285779\n",
      "[224]\tvalid_0's binary_logloss: 0.285777\n",
      "[225]\tvalid_0's binary_logloss: 0.285774\n",
      "[226]\tvalid_0's binary_logloss: 0.285771\n",
      "[227]\tvalid_0's binary_logloss: 0.28577\n",
      "[228]\tvalid_0's binary_logloss: 0.285769\n",
      "[229]\tvalid_0's binary_logloss: 0.285768\n",
      "[230]\tvalid_0's binary_logloss: 0.285769\n",
      "[231]\tvalid_0's binary_logloss: 0.285764\n",
      "[232]\tvalid_0's binary_logloss: 0.285762\n",
      "[233]\tvalid_0's binary_logloss: 0.28576\n",
      "[234]\tvalid_0's binary_logloss: 0.28576\n",
      "[235]\tvalid_0's binary_logloss: 0.285761\n",
      "[236]\tvalid_0's binary_logloss: 0.285757\n",
      "[237]\tvalid_0's binary_logloss: 0.285758\n",
      "[238]\tvalid_0's binary_logloss: 0.285757\n",
      "[239]\tvalid_0's binary_logloss: 0.285751\n",
      "[240]\tvalid_0's binary_logloss: 0.285751\n",
      "[241]\tvalid_0's binary_logloss: 0.285748\n",
      "[242]\tvalid_0's binary_logloss: 0.285748\n",
      "[243]\tvalid_0's binary_logloss: 0.285747\n",
      "[244]\tvalid_0's binary_logloss: 0.285745\n",
      "[245]\tvalid_0's binary_logloss: 0.285741\n",
      "[246]\tvalid_0's binary_logloss: 0.285741\n",
      "[247]\tvalid_0's binary_logloss: 0.285739\n",
      "[248]\tvalid_0's binary_logloss: 0.285737\n",
      "[249]\tvalid_0's binary_logloss: 0.285733\n",
      "[250]\tvalid_0's binary_logloss: 0.285732\n",
      "[251]\tvalid_0's binary_logloss: 0.28573\n",
      "[252]\tvalid_0's binary_logloss: 0.285724\n",
      "[253]\tvalid_0's binary_logloss: 0.285725\n",
      "[254]\tvalid_0's binary_logloss: 0.285727\n",
      "[255]\tvalid_0's binary_logloss: 0.285725\n",
      "[256]\tvalid_0's binary_logloss: 0.285722\n",
      "[257]\tvalid_0's binary_logloss: 0.28572\n",
      "[258]\tvalid_0's binary_logloss: 0.285718\n",
      "[259]\tvalid_0's binary_logloss: 0.285717\n",
      "[260]\tvalid_0's binary_logloss: 0.285716\n",
      "[261]\tvalid_0's binary_logloss: 0.285715\n",
      "[262]\tvalid_0's binary_logloss: 0.285713\n",
      "[263]\tvalid_0's binary_logloss: 0.285709\n",
      "[264]\tvalid_0's binary_logloss: 0.285708\n",
      "[265]\tvalid_0's binary_logloss: 0.285707\n",
      "[266]\tvalid_0's binary_logloss: 0.285706\n",
      "[267]\tvalid_0's binary_logloss: 0.285704\n",
      "[268]\tvalid_0's binary_logloss: 0.285702\n",
      "[269]\tvalid_0's binary_logloss: 0.285702\n",
      "[270]\tvalid_0's binary_logloss: 0.285702\n",
      "[271]\tvalid_0's binary_logloss: 0.285703\n",
      "[272]\tvalid_0's binary_logloss: 0.285702\n",
      "[273]\tvalid_0's binary_logloss: 0.285704\n",
      "[274]\tvalid_0's binary_logloss: 0.285702\n",
      "[275]\tvalid_0's binary_logloss: 0.285697\n",
      "[276]\tvalid_0's binary_logloss: 0.285693\n",
      "[277]\tvalid_0's binary_logloss: 0.28569\n",
      "[278]\tvalid_0's binary_logloss: 0.285686\n",
      "[279]\tvalid_0's binary_logloss: 0.285683\n",
      "[280]\tvalid_0's binary_logloss: 0.285683\n",
      "[281]\tvalid_0's binary_logloss: 0.285684\n",
      "[282]\tvalid_0's binary_logloss: 0.285674\n",
      "[283]\tvalid_0's binary_logloss: 0.285672\n",
      "[284]\tvalid_0's binary_logloss: 0.285671\n",
      "[285]\tvalid_0's binary_logloss: 0.285669\n",
      "[286]\tvalid_0's binary_logloss: 0.285666\n",
      "[287]\tvalid_0's binary_logloss: 0.285667\n",
      "[288]\tvalid_0's binary_logloss: 0.285666\n",
      "[289]\tvalid_0's binary_logloss: 0.285665\n",
      "[290]\tvalid_0's binary_logloss: 0.285665\n",
      "[291]\tvalid_0's binary_logloss: 0.285663\n",
      "[292]\tvalid_0's binary_logloss: 0.285663\n",
      "[293]\tvalid_0's binary_logloss: 0.285662\n",
      "[294]\tvalid_0's binary_logloss: 0.285661\n",
      "[295]\tvalid_0's binary_logloss: 0.28566\n",
      "[296]\tvalid_0's binary_logloss: 0.285662\n",
      "[297]\tvalid_0's binary_logloss: 0.285659\n",
      "[298]\tvalid_0's binary_logloss: 0.285658\n",
      "[299]\tvalid_0's binary_logloss: 0.285655\n",
      "[300]\tvalid_0's binary_logloss: 0.285653\n",
      "[301]\tvalid_0's binary_logloss: 0.28565\n",
      "[302]\tvalid_0's binary_logloss: 0.28565\n",
      "[303]\tvalid_0's binary_logloss: 0.285647\n",
      "[304]\tvalid_0's binary_logloss: 0.285646\n",
      "[305]\tvalid_0's binary_logloss: 0.285647\n",
      "[306]\tvalid_0's binary_logloss: 0.285647\n",
      "[307]\tvalid_0's binary_logloss: 0.285647\n",
      "[308]\tvalid_0's binary_logloss: 0.285646\n",
      "[309]\tvalid_0's binary_logloss: 0.285644\n",
      "[310]\tvalid_0's binary_logloss: 0.285643\n",
      "[311]\tvalid_0's binary_logloss: 0.285642\n",
      "[312]\tvalid_0's binary_logloss: 0.28564\n",
      "[313]\tvalid_0's binary_logloss: 0.285637\n",
      "[314]\tvalid_0's binary_logloss: 0.285636\n",
      "[315]\tvalid_0's binary_logloss: 0.285631\n",
      "[316]\tvalid_0's binary_logloss: 0.285631\n",
      "[317]\tvalid_0's binary_logloss: 0.285631\n",
      "[318]\tvalid_0's binary_logloss: 0.285629\n",
      "[319]\tvalid_0's binary_logloss: 0.285626\n",
      "[320]\tvalid_0's binary_logloss: 0.285624\n",
      "[321]\tvalid_0's binary_logloss: 0.285625\n",
      "[322]\tvalid_0's binary_logloss: 0.285622\n",
      "[323]\tvalid_0's binary_logloss: 0.285621\n",
      "[324]\tvalid_0's binary_logloss: 0.285621\n",
      "[325]\tvalid_0's binary_logloss: 0.28562\n",
      "[326]\tvalid_0's binary_logloss: 0.285619\n",
      "[327]\tvalid_0's binary_logloss: 0.285618\n",
      "[328]\tvalid_0's binary_logloss: 0.285618\n",
      "[329]\tvalid_0's binary_logloss: 0.285618\n",
      "[330]\tvalid_0's binary_logloss: 0.285617\n",
      "[331]\tvalid_0's binary_logloss: 0.285615\n",
      "[332]\tvalid_0's binary_logloss: 0.285615\n",
      "[333]\tvalid_0's binary_logloss: 0.285614\n",
      "[334]\tvalid_0's binary_logloss: 0.285613\n",
      "[335]\tvalid_0's binary_logloss: 0.285612\n",
      "[336]\tvalid_0's binary_logloss: 0.28561\n",
      "[337]\tvalid_0's binary_logloss: 0.285609\n",
      "[338]\tvalid_0's binary_logloss: 0.285606\n",
      "[339]\tvalid_0's binary_logloss: 0.285605\n",
      "[340]\tvalid_0's binary_logloss: 0.285602\n",
      "[341]\tvalid_0's binary_logloss: 0.2856\n",
      "[342]\tvalid_0's binary_logloss: 0.285598\n",
      "[343]\tvalid_0's binary_logloss: 0.285596\n",
      "[344]\tvalid_0's binary_logloss: 0.285597\n",
      "[345]\tvalid_0's binary_logloss: 0.285594\n",
      "[346]\tvalid_0's binary_logloss: 0.285594\n",
      "[347]\tvalid_0's binary_logloss: 0.285594\n",
      "[348]\tvalid_0's binary_logloss: 0.285593\n",
      "[349]\tvalid_0's binary_logloss: 0.285593\n",
      "[350]\tvalid_0's binary_logloss: 0.285588\n",
      "[351]\tvalid_0's binary_logloss: 0.285589\n",
      "[352]\tvalid_0's binary_logloss: 0.28559\n",
      "[353]\tvalid_0's binary_logloss: 0.285588\n",
      "[354]\tvalid_0's binary_logloss: 0.285587\n",
      "[355]\tvalid_0's binary_logloss: 0.285589\n",
      "[356]\tvalid_0's binary_logloss: 0.285589\n",
      "[357]\tvalid_0's binary_logloss: 0.285583\n",
      "[358]\tvalid_0's binary_logloss: 0.285583\n",
      "[359]\tvalid_0's binary_logloss: 0.285581\n",
      "[360]\tvalid_0's binary_logloss: 0.285581\n",
      "[361]\tvalid_0's binary_logloss: 0.285579\n",
      "[362]\tvalid_0's binary_logloss: 0.285579\n",
      "[363]\tvalid_0's binary_logloss: 0.285579\n",
      "[364]\tvalid_0's binary_logloss: 0.285577\n",
      "[365]\tvalid_0's binary_logloss: 0.285578\n",
      "[366]\tvalid_0's binary_logloss: 0.285576\n",
      "[367]\tvalid_0's binary_logloss: 0.285576\n",
      "[368]\tvalid_0's binary_logloss: 0.285571\n",
      "[369]\tvalid_0's binary_logloss: 0.285572\n",
      "[370]\tvalid_0's binary_logloss: 0.285572\n",
      "[371]\tvalid_0's binary_logloss: 0.285566\n",
      "[372]\tvalid_0's binary_logloss: 0.285566\n",
      "[373]\tvalid_0's binary_logloss: 0.285564\n",
      "[374]\tvalid_0's binary_logloss: 0.285565\n",
      "[375]\tvalid_0's binary_logloss: 0.285562\n",
      "[376]\tvalid_0's binary_logloss: 0.285559\n",
      "[377]\tvalid_0's binary_logloss: 0.285557\n",
      "[378]\tvalid_0's binary_logloss: 0.285557\n",
      "[379]\tvalid_0's binary_logloss: 0.285557\n",
      "[380]\tvalid_0's binary_logloss: 0.285556\n",
      "[381]\tvalid_0's binary_logloss: 0.285557\n",
      "[382]\tvalid_0's binary_logloss: 0.285557\n",
      "[383]\tvalid_0's binary_logloss: 0.285555\n",
      "[384]\tvalid_0's binary_logloss: 0.285554\n",
      "[385]\tvalid_0's binary_logloss: 0.285547\n",
      "[386]\tvalid_0's binary_logloss: 0.285547\n",
      "[387]\tvalid_0's binary_logloss: 0.285547\n",
      "[388]\tvalid_0's binary_logloss: 0.285546\n",
      "[389]\tvalid_0's binary_logloss: 0.285544\n",
      "[390]\tvalid_0's binary_logloss: 0.285544\n",
      "[391]\tvalid_0's binary_logloss: 0.285544\n",
      "[392]\tvalid_0's binary_logloss: 0.285545\n",
      "[393]\tvalid_0's binary_logloss: 0.285547\n",
      "[394]\tvalid_0's binary_logloss: 0.285546\n",
      "[395]\tvalid_0's binary_logloss: 0.285546\n",
      "[396]\tvalid_0's binary_logloss: 0.285544\n",
      "[397]\tvalid_0's binary_logloss: 0.285543\n",
      "[398]\tvalid_0's binary_logloss: 0.285541\n",
      "[399]\tvalid_0's binary_logloss: 0.285541\n",
      "[400]\tvalid_0's binary_logloss: 0.285542\n",
      "[401]\tvalid_0's binary_logloss: 0.285541\n",
      "[402]\tvalid_0's binary_logloss: 0.285541\n",
      "[403]\tvalid_0's binary_logloss: 0.285541\n",
      "[404]\tvalid_0's binary_logloss: 0.28554\n",
      "[405]\tvalid_0's binary_logloss: 0.285539\n",
      "[406]\tvalid_0's binary_logloss: 0.285539\n",
      "[407]\tvalid_0's binary_logloss: 0.285539\n",
      "[408]\tvalid_0's binary_logloss: 0.28554\n",
      "[409]\tvalid_0's binary_logloss: 0.285539\n",
      "[410]\tvalid_0's binary_logloss: 0.28554\n",
      "[411]\tvalid_0's binary_logloss: 0.28554\n",
      "[412]\tvalid_0's binary_logloss: 0.285538\n",
      "[413]\tvalid_0's binary_logloss: 0.285535\n",
      "[414]\tvalid_0's binary_logloss: 0.285536\n",
      "[415]\tvalid_0's binary_logloss: 0.285536\n",
      "[416]\tvalid_0's binary_logloss: 0.285537\n",
      "[417]\tvalid_0's binary_logloss: 0.285535\n",
      "[418]\tvalid_0's binary_logloss: 0.285535\n",
      "[419]\tvalid_0's binary_logloss: 0.285535\n",
      "[420]\tvalid_0's binary_logloss: 0.285532\n",
      "[421]\tvalid_0's binary_logloss: 0.285529\n",
      "[422]\tvalid_0's binary_logloss: 0.285526\n",
      "[423]\tvalid_0's binary_logloss: 0.285528\n",
      "[424]\tvalid_0's binary_logloss: 0.28553\n",
      "[425]\tvalid_0's binary_logloss: 0.285531\n",
      "[426]\tvalid_0's binary_logloss: 0.285532\n",
      "[427]\tvalid_0's binary_logloss: 0.28553\n",
      "[428]\tvalid_0's binary_logloss: 0.285529\n",
      "[429]\tvalid_0's binary_logloss: 0.28553\n",
      "[430]\tvalid_0's binary_logloss: 0.285531\n",
      "[431]\tvalid_0's binary_logloss: 0.28553\n",
      "[432]\tvalid_0's binary_logloss: 0.28553\n",
      "Early stopping, best iteration is:\n",
      "[422]\tvalid_0's binary_logloss: 0.285526\n"
     ]
    }
   ],
   "source": [
    "print('Training light GBM ...')\n",
    "bst_all = lgb.train(params, d_train, valid_sets= [d_valid], num_boost_round= ROUNDS, early_stopping_rounds = 10)"
   ]
  },
  {
   "cell_type": "code",
   "execution_count": 63,
   "metadata": {
    "collapsed": true,
    "deletable": true,
    "editable": true
   },
   "outputs": [],
   "source": [
    "bst_all.save_model('../models/lightGBM_prodfeats_100_12.txt', num_iteration=bst_all.best_iteration)"
   ]
  },
  {
   "cell_type": "markdown",
   "metadata": {
    "deletable": true,
    "editable": true
   },
   "source": [
    "## Choose the second model for predictions"
   ]
  },
  {
   "cell_type": "code",
   "execution_count": 36,
   "metadata": {
    "collapsed": false,
    "deletable": true,
    "editable": true
   },
   "outputs": [
    {
     "name": "stdout",
     "output_type": "stream",
     "text": [
      "build candidate list\n",
      "('order row', 10000)\n",
      "('order row', 20000)\n",
      "('order row', 30000)\n",
      "('order row', 40000)\n",
      "('order row', 50000)\n",
      "('order row', 60000)\n",
      "('order row', 70000)\n",
      "user related features\n",
      "order related features\n",
      "product related features\n",
      "order_id                              int32\n",
      "product_id                            int32\n",
      "user_id                               int32\n",
      "user_total_orders                     int16\n",
      "user_total_items                      int16\n",
      "total_distinct_items                  int16\n",
      "user_average_days_between_orders    float32\n",
      "user_average_basket                 float32\n",
      "dow                                    int8\n",
      "order_hour_of_day                      int8\n",
      "days_since_prior_order              float32\n",
      "days_since_ratio                    float32\n",
      "aisle_id                              uint8\n",
      "department_id                         uint8\n",
      "product_orders                        int32\n",
      "product_reorders                    float32\n",
      "product_reorder_rate                float32\n",
      "dtype: object\n",
      "Index                                     72\n",
      "order_id                            19333168\n",
      "product_id                          19333168\n",
      "user_id                             19333168\n",
      "user_total_orders                    9666584\n",
      "user_total_items                     9666584\n",
      "total_distinct_items                 9666584\n",
      "user_average_days_between_orders    19333168\n",
      "user_average_basket                 19333168\n",
      "dow                                  4833292\n",
      "order_hour_of_day                    4833292\n",
      "days_since_prior_order              19333168\n",
      "days_since_ratio                    19333168\n",
      "aisle_id                             4833292\n",
      "department_id                        4833292\n",
      "product_orders                      19333168\n",
      "product_reorders                    19333168\n",
      "product_reorder_rate                19333168\n",
      "dtype: int64\n"
     ]
    }
   ],
   "source": [
    "### build candidates list for test ###\n",
    "df_test, _ = features(test_orders)"
   ]
  },
  {
   "cell_type": "code",
   "execution_count": 38,
   "metadata": {
    "collapsed": false,
    "deletable": true,
    "editable": true
   },
   "outputs": [
    {
     "name": "stdout",
     "output_type": "stream",
     "text": [
      "join with the user features\n"
     ]
    }
   ],
   "source": [
    "# all user feature(others) \n",
    "all_users_features_df = pd.read_pickle(\"../data/processed/cleaned_all_users_features.pickle\")\n",
    "cols = all_users_features_df.columns\n",
    "dow_cols = cols[cols.str.startswith('dow_')].tolist() + cols[cols.str.startswith('daytime_')].tolist()\n",
    "most_cols = cols[cols.str.startswith('most_')].tolist()\n",
    "top_cols = cols[cols.str.startswith('top')].tolist()\n",
    "emb_cols = cols[cols.str.startswith('emb_')].tolist()\n",
    "print(\"join with the user features\")\n",
    "to_join = [\"user_id\", 'user_avg_reordered', 'user_perc_reordered'] + most_cols + dow_cols + emb_cols + top_cols\n",
    "df_test = pd.merge(df_test, all_users_features_df[to_join], on =\"user_id\")"
   ]
  },
  {
   "cell_type": "code",
   "execution_count": 41,
   "metadata": {
    "collapsed": false,
    "deletable": true,
    "editable": true
   },
   "outputs": [
    {
     "data": {
      "text/plain": [
       "(4833292, 137)"
      ]
     },
     "execution_count": 41,
     "metadata": {},
     "output_type": "execute_result"
    }
   ],
   "source": [
    "df_test.shape"
   ]
  },
  {
   "cell_type": "code",
   "execution_count": 42,
   "metadata": {
    "collapsed": false,
    "deletable": true,
    "editable": true
   },
   "outputs": [
    {
     "data": {
      "text/plain": [
       "262"
      ]
     },
     "execution_count": 42,
     "metadata": {},
     "output_type": "execute_result"
    }
   ],
   "source": [
    "del all_users_features_df, test_orders\n",
    "gc.collect()"
   ]
  },
  {
   "cell_type": "code",
   "execution_count": 43,
   "metadata": {
    "collapsed": false,
    "deletable": true,
    "editable": true
   },
   "outputs": [
    {
     "data": {
      "text/plain": [
       "132"
      ]
     },
     "execution_count": 43,
     "metadata": {},
     "output_type": "execute_result"
    }
   ],
   "source": [
    "len(f_to_use)"
   ]
  },
  {
   "cell_type": "code",
   "execution_count": 45,
   "metadata": {
    "collapsed": true,
    "deletable": true,
    "editable": true
   },
   "outputs": [],
   "source": [
    "# load the model\n",
    "bst_best = lgb.Booster(model_file='../models/lightGBM_morefeatures_80_10.txt')"
   ]
  },
  {
   "cell_type": "code",
   "execution_count": 47,
   "metadata": {
    "collapsed": false,
    "deletable": true,
    "editable": true
   },
   "outputs": [
    {
     "name": "stdout",
     "output_type": "stream",
     "text": [
      "light GBM predict\n"
     ]
    }
   ],
   "source": [
    "print('light GBM predict')\n",
    "preds = bst_best.predict(df_test[f_to_use])"
   ]
  },
  {
   "cell_type": "code",
   "execution_count": 48,
   "metadata": {
    "collapsed": false,
    "deletable": true,
    "editable": true
   },
   "outputs": [],
   "source": [
    "df_test['pred'] = preds"
   ]
  },
  {
   "cell_type": "code",
   "execution_count": 50,
   "metadata": {
    "collapsed": true,
    "deletable": true,
    "editable": true
   },
   "outputs": [],
   "source": [
    "def generate_submission(df_test, test_orders_ids, file_name, threshold = 0.2, single_thres = True):\n",
    "    \"\"\"function to generate label predictions submission format\"\"\"\n",
    "    if single_thres:\n",
    "        TRESHOLD = threshold\n",
    "\n",
    "        d = dict()\n",
    "        for row in df_test.itertuples():\n",
    "            if row.pred > TRESHOLD:\n",
    "                try:\n",
    "                    d[row.order_id] += ' ' + str(row.product_id)\n",
    "                except:\n",
    "                    d[row.order_id] = str(row.product_id)\n",
    "\n",
    "        for order in test_orders_ids:\n",
    "            if order not in d:\n",
    "                d[order] = 'None'\n",
    "\n",
    "        sub = pd.DataFrame.from_dict(d, orient='index')\n",
    "        sub.reset_index(inplace=True)\n",
    "        sub.columns = ['order_id', 'products']\n",
    "        sub.to_csv(file_name, index=False)\n",
    "    else:\n",
    "        pass"
   ]
  },
  {
   "cell_type": "code",
   "execution_count": 52,
   "metadata": {
    "collapsed": false,
    "deletable": true,
    "editable": true
   },
   "outputs": [],
   "source": [
    "test_order_ids = orders[orders.eval_set == 'test'].order_id"
   ]
  },
  {
   "cell_type": "code",
   "execution_count": 53,
   "metadata": {
    "collapsed": false,
    "deletable": true,
    "editable": true
   },
   "outputs": [
    {
     "data": {
      "text/plain": [
       "75000"
      ]
     },
     "execution_count": 53,
     "metadata": {},
     "output_type": "execute_result"
    }
   ],
   "source": [
    "len(test_order_ids)"
   ]
  },
  {
   "cell_type": "code",
   "execution_count": 59,
   "metadata": {
    "collapsed": false,
    "deletable": true,
    "editable": true
   },
   "outputs": [],
   "source": [
    "df_test[['order_id', 'pred', 'product_id']].to_csv(\"../data/processed/lightGBM_morefeatures_prob_preds.csv\",index=False)"
   ]
  },
  {
   "cell_type": "code",
   "execution_count": 60,
   "metadata": {
    "collapsed": false,
    "deletable": true,
    "editable": true
   },
   "outputs": [
    {
     "ename": "NameError",
     "evalue": "name 'test_orders_ids' is not defined",
     "output_type": "error",
     "traceback": [
      "\u001b[0;31m---------------------------------------------------------------------------\u001b[0m",
      "\u001b[0;31mNameError\u001b[0m                                 Traceback (most recent call last)",
      "\u001b[0;32m<ipython-input-60-6930c0b68f76>\u001b[0m in \u001b[0;36m<module>\u001b[0;34m()\u001b[0m\n\u001b[0;32m----> 1\u001b[0;31m \u001b[0mgenerate_submission\u001b[0m\u001b[0;34m(\u001b[0m\u001b[0mdf_test\u001b[0m\u001b[0;34m,\u001b[0m \u001b[0mtest_orders_ids\u001b[0m\u001b[0;34m,\u001b[0m \u001b[0;34m'../models/lightGBM_morefeatures_preds_20%thr.csv'\u001b[0m\u001b[0;34m,\u001b[0m \u001b[0mthreshold\u001b[0m \u001b[0;34m=\u001b[0m \u001b[0;36m0.2\u001b[0m\u001b[0;34m)\u001b[0m\u001b[0;34m\u001b[0m\u001b[0m\n\u001b[0m",
      "\u001b[0;31mNameError\u001b[0m: name 'test_orders_ids' is not defined"
     ]
    }
   ],
   "source": [
    "generate_submission(df_test, test_orders_ids, '../models/lightGBM_morefeatures_preds_20%thr.csv', threshold = 0.2)"
   ]
  },
  {
   "cell_type": "code",
   "execution_count": null,
   "metadata": {
    "collapsed": true,
    "deletable": true,
    "editable": true
   },
   "outputs": [],
   "source": []
  }
 ],
 "metadata": {
  "kernelspec": {
   "display_name": "Python [default]",
   "language": "python",
   "name": "python2"
  },
  "language_info": {
   "codemirror_mode": {
    "name": "ipython",
    "version": 2
   },
   "file_extension": ".py",
   "mimetype": "text/x-python",
   "name": "python",
   "nbconvert_exporter": "python",
   "pygments_lexer": "ipython2",
   "version": "2.7.12"
  },
  "toc": {
   "colors": {
    "hover_highlight": "#DAA520",
    "running_highlight": "#FF0000",
    "selected_highlight": "#FFD700"
   },
   "moveMenuLeft": true,
   "nav_menu": {
    "height": "85px",
    "width": "252px"
   },
   "navigate_menu": true,
   "number_sections": true,
   "sideBar": true,
   "threshold": 4,
   "toc_cell": false,
   "toc_section_display": "block",
   "toc_window_display": false
  }
 },
 "nbformat": 4,
 "nbformat_minor": 2
}

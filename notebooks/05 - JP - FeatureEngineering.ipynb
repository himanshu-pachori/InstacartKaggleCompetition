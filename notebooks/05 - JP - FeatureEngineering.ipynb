{
 "cells": [
  {
   "cell_type": "code",
   "execution_count": 1,
   "metadata": {
    "collapsed": true,
    "deletable": true,
    "editable": true
   },
   "outputs": [],
   "source": [
    "import numpy as np\n",
    "import pandas as pd\n",
    "pd.set_option('display.max_colwidth', -1)"
   ]
  },
  {
   "cell_type": "code",
   "execution_count": 2,
   "metadata": {
    "collapsed": true,
    "deletable": true,
    "editable": true
   },
   "outputs": [],
   "source": [
    "import pickle"
   ]
  },
  {
   "cell_type": "code",
   "execution_count": 3,
   "metadata": {
    "collapsed": true,
    "deletable": true,
    "editable": true
   },
   "outputs": [],
   "source": [
    "from sklearn.preprocessing import MultiLabelBinarizer"
   ]
  },
  {
   "cell_type": "code",
   "execution_count": 4,
   "metadata": {
    "collapsed": true,
    "deletable": true,
    "editable": true
   },
   "outputs": [],
   "source": [
    "orders_df = pd.read_csv(\"../data/raw/orders.csv\")\n",
    "op_train_df = pd.read_csv(\"../data/raw/order_products__train.csv\")\n",
    "op_prior_df = pd.read_csv(\"../data/raw/order_products__prior.csv\")"
   ]
  },
  {
   "cell_type": "code",
   "execution_count": 5,
   "metadata": {
    "collapsed": false,
    "deletable": true,
    "editable": true
   },
   "outputs": [
    {
     "data": {
      "text/html": [
       "<div>\n",
       "<table border=\"1\" class=\"dataframe\">\n",
       "  <thead>\n",
       "    <tr style=\"text-align: right;\">\n",
       "      <th></th>\n",
       "      <th>order_id</th>\n",
       "      <th>user_id</th>\n",
       "      <th>eval_set</th>\n",
       "      <th>order_number</th>\n",
       "      <th>order_dow</th>\n",
       "      <th>order_hour_of_day</th>\n",
       "      <th>days_since_prior_order</th>\n",
       "    </tr>\n",
       "  </thead>\n",
       "  <tbody>\n",
       "    <tr>\n",
       "      <th>0</th>\n",
       "      <td>2539329</td>\n",
       "      <td>1</td>\n",
       "      <td>prior</td>\n",
       "      <td>1</td>\n",
       "      <td>2</td>\n",
       "      <td>8</td>\n",
       "      <td>NaN</td>\n",
       "    </tr>\n",
       "    <tr>\n",
       "      <th>1</th>\n",
       "      <td>2398795</td>\n",
       "      <td>1</td>\n",
       "      <td>prior</td>\n",
       "      <td>2</td>\n",
       "      <td>3</td>\n",
       "      <td>7</td>\n",
       "      <td>15.0</td>\n",
       "    </tr>\n",
       "    <tr>\n",
       "      <th>2</th>\n",
       "      <td>473747</td>\n",
       "      <td>1</td>\n",
       "      <td>prior</td>\n",
       "      <td>3</td>\n",
       "      <td>3</td>\n",
       "      <td>12</td>\n",
       "      <td>21.0</td>\n",
       "    </tr>\n",
       "    <tr>\n",
       "      <th>3</th>\n",
       "      <td>2254736</td>\n",
       "      <td>1</td>\n",
       "      <td>prior</td>\n",
       "      <td>4</td>\n",
       "      <td>4</td>\n",
       "      <td>7</td>\n",
       "      <td>29.0</td>\n",
       "    </tr>\n",
       "    <tr>\n",
       "      <th>4</th>\n",
       "      <td>431534</td>\n",
       "      <td>1</td>\n",
       "      <td>prior</td>\n",
       "      <td>5</td>\n",
       "      <td>4</td>\n",
       "      <td>15</td>\n",
       "      <td>28.0</td>\n",
       "    </tr>\n",
       "  </tbody>\n",
       "</table>\n",
       "</div>"
      ],
      "text/plain": [
       "   order_id  user_id eval_set  order_number  order_dow  order_hour_of_day  \\\n",
       "0  2539329   1        prior    1             2          8                   \n",
       "1  2398795   1        prior    2             3          7                   \n",
       "2  473747    1        prior    3             3          12                  \n",
       "3  2254736   1        prior    4             4          7                   \n",
       "4  431534    1        prior    5             4          15                  \n",
       "\n",
       "   days_since_prior_order  \n",
       "0 NaN                      \n",
       "1  15.0                    \n",
       "2  21.0                    \n",
       "3  29.0                    \n",
       "4  28.0                    "
      ]
     },
     "execution_count": 5,
     "metadata": {},
     "output_type": "execute_result"
    }
   ],
   "source": [
    "orders_df.head()"
   ]
  },
  {
   "cell_type": "markdown",
   "metadata": {
    "deletable": true,
    "editable": true
   },
   "source": [
    "## Extract features based on the \"prior\" set"
   ]
  },
  {
   "cell_type": "code",
   "execution_count": 6,
   "metadata": {
    "collapsed": true,
    "deletable": true,
    "editable": true
   },
   "outputs": [],
   "source": [
    "orders_prior_info = orders_df[orders_df.eval_set == \"prior\"]"
   ]
  },
  {
   "cell_type": "code",
   "execution_count": 7,
   "metadata": {
    "collapsed": false,
    "deletable": true,
    "editable": true
   },
   "outputs": [
    {
     "data": {
      "text/plain": [
       "(3214874, 7)"
      ]
     },
     "execution_count": 7,
     "metadata": {},
     "output_type": "execute_result"
    }
   ],
   "source": [
    "orders_prior_info.shape"
   ]
  },
  {
   "cell_type": "code",
   "execution_count": 8,
   "metadata": {
    "collapsed": true,
    "deletable": true,
    "editable": true
   },
   "outputs": [],
   "source": [
    "prior_uid_pid_df = pd.merge(orders_df[['user_id', 'order_id']], op_prior_df, how = \"inner\", on = \"order_id\")"
   ]
  },
  {
   "cell_type": "code",
   "execution_count": 9,
   "metadata": {
    "collapsed": false,
    "deletable": true,
    "editable": true
   },
   "outputs": [
    {
     "data": {
      "text/plain": [
       "(32434489, 5)"
      ]
     },
     "execution_count": 9,
     "metadata": {},
     "output_type": "execute_result"
    }
   ],
   "source": [
    "prior_uid_pid_df.shape"
   ]
  },
  {
   "cell_type": "markdown",
   "metadata": {
    "deletable": true,
    "editable": true
   },
   "source": [
    "## User features"
   ]
  },
  {
   "cell_type": "markdown",
   "metadata": {
    "deletable": true,
    "editable": true
   },
   "source": [
    "- number of orders per user"
   ]
  },
  {
   "cell_type": "code",
   "execution_count": 10,
   "metadata": {
    "collapsed": false,
    "deletable": true,
    "editable": true
   },
   "outputs": [],
   "source": [
    "num_orders_per_uid = orders_prior_info.groupby('user_id')['order_id'].\\\n",
    "                                      agg('count').\\\n",
    "                                      reset_index().\\\n",
    "                                      rename(columns = {'order_id': 'num_orders'})"
   ]
  },
  {
   "cell_type": "code",
   "execution_count": 11,
   "metadata": {
    "collapsed": false,
    "deletable": true,
    "editable": true
   },
   "outputs": [
    {
     "data": {
      "text/html": [
       "<div>\n",
       "<table border=\"1\" class=\"dataframe\">\n",
       "  <thead>\n",
       "    <tr style=\"text-align: right;\">\n",
       "      <th></th>\n",
       "      <th>user_id</th>\n",
       "      <th>num_orders</th>\n",
       "    </tr>\n",
       "  </thead>\n",
       "  <tbody>\n",
       "    <tr>\n",
       "      <th>0</th>\n",
       "      <td>1</td>\n",
       "      <td>10</td>\n",
       "    </tr>\n",
       "    <tr>\n",
       "      <th>1</th>\n",
       "      <td>2</td>\n",
       "      <td>14</td>\n",
       "    </tr>\n",
       "    <tr>\n",
       "      <th>2</th>\n",
       "      <td>3</td>\n",
       "      <td>12</td>\n",
       "    </tr>\n",
       "    <tr>\n",
       "      <th>3</th>\n",
       "      <td>4</td>\n",
       "      <td>5</td>\n",
       "    </tr>\n",
       "    <tr>\n",
       "      <th>4</th>\n",
       "      <td>5</td>\n",
       "      <td>4</td>\n",
       "    </tr>\n",
       "  </tbody>\n",
       "</table>\n",
       "</div>"
      ],
      "text/plain": [
       "   user_id  num_orders\n",
       "0  1        10        \n",
       "1  2        14        \n",
       "2  3        12        \n",
       "3  4        5         \n",
       "4  5        4         "
      ]
     },
     "execution_count": 11,
     "metadata": {},
     "output_type": "execute_result"
    }
   ],
   "source": [
    "num_orders_per_uid.head()"
   ]
  },
  {
   "cell_type": "markdown",
   "metadata": {
    "deletable": true,
    "editable": true
   },
   "source": [
    "- average number of (reordered) products per user "
   ]
  },
  {
   "cell_type": "code",
   "execution_count": 12,
   "metadata": {
    "collapsed": false,
    "deletable": true,
    "editable": true
   },
   "outputs": [],
   "source": [
    "num_product_per_user = prior_uid_pid_df.groupby(\"order_id\").agg({'product_id':'count', 'reordered': 'sum', 'user_id': 'first'}).\\\n",
    "                        reset_index().\\\n",
    "                        rename(columns = {'product_id': 'num_products', 'reordered': 'num_reordered'}).\\\n",
    "                        groupby(\"user_id\").\\\n",
    "                        agg({'num_products': 'mean', 'num_reordered': 'mean'}).\\\n",
    "                        reset_index().\\\n",
    "                        rename(columns = {'num_products': 'avg_num_pids', 'num_reordered': 'avg_num_reordered'})"
   ]
  },
  {
   "cell_type": "code",
   "execution_count": 14,
   "metadata": {
    "collapsed": true
   },
   "outputs": [],
   "source": [
    "num_product_per_user['perc_reordered'] = num_product_per_user['avg_num_reordered']/num_product_per_user['avg_num_pids']\n",
    "num_product_per_user = np.round(num_product_per_user, 2)"
   ]
  },
  {
   "cell_type": "code",
   "execution_count": 15,
   "metadata": {
    "collapsed": false,
    "deletable": true,
    "editable": true
   },
   "outputs": [
    {
     "data": {
      "text/html": [
       "<div>\n",
       "<table border=\"1\" class=\"dataframe\">\n",
       "  <thead>\n",
       "    <tr style=\"text-align: right;\">\n",
       "      <th></th>\n",
       "      <th>user_id</th>\n",
       "      <th>avg_num_reordered</th>\n",
       "      <th>avg_num_pids</th>\n",
       "      <th>perc_reordered</th>\n",
       "    </tr>\n",
       "  </thead>\n",
       "  <tbody>\n",
       "    <tr>\n",
       "      <th>0</th>\n",
       "      <td>1</td>\n",
       "      <td>4.10</td>\n",
       "      <td>5.90</td>\n",
       "      <td>0.69</td>\n",
       "    </tr>\n",
       "    <tr>\n",
       "      <th>1</th>\n",
       "      <td>2</td>\n",
       "      <td>6.64</td>\n",
       "      <td>13.93</td>\n",
       "      <td>0.48</td>\n",
       "    </tr>\n",
       "    <tr>\n",
       "      <th>2</th>\n",
       "      <td>3</td>\n",
       "      <td>4.58</td>\n",
       "      <td>7.33</td>\n",
       "      <td>0.62</td>\n",
       "    </tr>\n",
       "    <tr>\n",
       "      <th>3</th>\n",
       "      <td>4</td>\n",
       "      <td>0.20</td>\n",
       "      <td>3.60</td>\n",
       "      <td>0.06</td>\n",
       "    </tr>\n",
       "    <tr>\n",
       "      <th>4</th>\n",
       "      <td>5</td>\n",
       "      <td>3.50</td>\n",
       "      <td>9.25</td>\n",
       "      <td>0.38</td>\n",
       "    </tr>\n",
       "  </tbody>\n",
       "</table>\n",
       "</div>"
      ],
      "text/plain": [
       "   user_id  avg_num_reordered  avg_num_pids  perc_reordered\n",
       "0  1        4.10               5.90          0.69          \n",
       "1  2        6.64               13.93         0.48          \n",
       "2  3        4.58               7.33          0.62          \n",
       "3  4        0.20               3.60          0.06          \n",
       "4  5        3.50               9.25          0.38          "
      ]
     },
     "execution_count": 15,
     "metadata": {},
     "output_type": "execute_result"
    }
   ],
   "source": [
    "num_product_per_user.head()"
   ]
  },
  {
   "cell_type": "markdown",
   "metadata": {
    "collapsed": true,
    "deletable": true,
    "editable": true
   },
   "source": [
    "## Order Temporal features"
   ]
  },
  {
   "cell_type": "markdown",
   "metadata": {
    "deletable": true,
    "editable": true
   },
   "source": [
    "- number of orders for each day of week"
   ]
  },
  {
   "cell_type": "code",
   "execution_count": 16,
   "metadata": {
    "collapsed": false,
    "deletable": true,
    "editable": true
   },
   "outputs": [],
   "source": [
    "user_dow = orders_prior_info.groupby(['user_id', 'order_dow'])['order_id'].count().reset_index().\\\n",
    "            rename(columns = {'order_id': 'cnt_dow'}).\\\n",
    "            pivot(index = \"user_id\", columns = \"order_dow\", values = \"cnt_dow\")"
   ]
  },
  {
   "cell_type": "code",
   "execution_count": 17,
   "metadata": {
    "collapsed": false,
    "deletable": true,
    "editable": true
   },
   "outputs": [],
   "source": [
    "user_dow.columns.name = None\n",
    "user_dow = user_dow.add_prefix('dow_').reset_index().fillna(0)"
   ]
  },
  {
   "cell_type": "code",
   "execution_count": 18,
   "metadata": {
    "collapsed": false,
    "deletable": true,
    "editable": true
   },
   "outputs": [
    {
     "data": {
      "text/html": [
       "<div>\n",
       "<table border=\"1\" class=\"dataframe\">\n",
       "  <thead>\n",
       "    <tr style=\"text-align: right;\">\n",
       "      <th></th>\n",
       "      <th>user_id</th>\n",
       "      <th>dow_0</th>\n",
       "      <th>dow_1</th>\n",
       "      <th>dow_2</th>\n",
       "      <th>dow_3</th>\n",
       "      <th>dow_4</th>\n",
       "      <th>dow_5</th>\n",
       "      <th>dow_6</th>\n",
       "    </tr>\n",
       "  </thead>\n",
       "  <tbody>\n",
       "    <tr>\n",
       "      <th>0</th>\n",
       "      <td>1</td>\n",
       "      <td>0.0</td>\n",
       "      <td>3.0</td>\n",
       "      <td>2.0</td>\n",
       "      <td>2.0</td>\n",
       "      <td>3.0</td>\n",
       "      <td>0.0</td>\n",
       "      <td>0.0</td>\n",
       "    </tr>\n",
       "    <tr>\n",
       "      <th>1</th>\n",
       "      <td>2</td>\n",
       "      <td>0.0</td>\n",
       "      <td>5.0</td>\n",
       "      <td>5.0</td>\n",
       "      <td>2.0</td>\n",
       "      <td>1.0</td>\n",
       "      <td>1.0</td>\n",
       "      <td>0.0</td>\n",
       "    </tr>\n",
       "    <tr>\n",
       "      <th>2</th>\n",
       "      <td>3</td>\n",
       "      <td>6.0</td>\n",
       "      <td>2.0</td>\n",
       "      <td>1.0</td>\n",
       "      <td>3.0</td>\n",
       "      <td>0.0</td>\n",
       "      <td>0.0</td>\n",
       "      <td>0.0</td>\n",
       "    </tr>\n",
       "    <tr>\n",
       "      <th>3</th>\n",
       "      <td>4</td>\n",
       "      <td>0.0</td>\n",
       "      <td>0.0</td>\n",
       "      <td>0.0</td>\n",
       "      <td>0.0</td>\n",
       "      <td>2.0</td>\n",
       "      <td>2.0</td>\n",
       "      <td>1.0</td>\n",
       "    </tr>\n",
       "    <tr>\n",
       "      <th>4</th>\n",
       "      <td>5</td>\n",
       "      <td>1.0</td>\n",
       "      <td>1.0</td>\n",
       "      <td>0.0</td>\n",
       "      <td>2.0</td>\n",
       "      <td>0.0</td>\n",
       "      <td>0.0</td>\n",
       "      <td>0.0</td>\n",
       "    </tr>\n",
       "  </tbody>\n",
       "</table>\n",
       "</div>"
      ],
      "text/plain": [
       "   user_id  dow_0  dow_1  dow_2  dow_3  dow_4  dow_5  dow_6\n",
       "0  1        0.0    3.0    2.0    2.0    3.0    0.0    0.0  \n",
       "1  2        0.0    5.0    5.0    2.0    1.0    1.0    0.0  \n",
       "2  3        6.0    2.0    1.0    3.0    0.0    0.0    0.0  \n",
       "3  4        0.0    0.0    0.0    0.0    2.0    2.0    1.0  \n",
       "4  5        1.0    1.0    0.0    2.0    0.0    0.0    0.0  "
      ]
     },
     "execution_count": 18,
     "metadata": {},
     "output_type": "execute_result"
    }
   ],
   "source": [
    "user_dow.head()"
   ]
  },
  {
   "cell_type": "markdown",
   "metadata": {
    "deletable": true,
    "editable": true
   },
   "source": [
    "- most often shopping day"
   ]
  },
  {
   "cell_type": "code",
   "execution_count": 19,
   "metadata": {
    "collapsed": false,
    "deletable": true,
    "editable": true
   },
   "outputs": [],
   "source": [
    "user_dow['most_dow'] = user_dow.ix[:, 1:].idxmax(axis=1)"
   ]
  },
  {
   "cell_type": "code",
   "execution_count": 20,
   "metadata": {
    "collapsed": false,
    "deletable": true,
    "editable": true
   },
   "outputs": [
    {
     "data": {
      "text/html": [
       "<div>\n",
       "<table border=\"1\" class=\"dataframe\">\n",
       "  <thead>\n",
       "    <tr style=\"text-align: right;\">\n",
       "      <th></th>\n",
       "      <th>user_id</th>\n",
       "      <th>dow_0</th>\n",
       "      <th>dow_1</th>\n",
       "      <th>dow_2</th>\n",
       "      <th>dow_3</th>\n",
       "      <th>dow_4</th>\n",
       "      <th>dow_5</th>\n",
       "      <th>dow_6</th>\n",
       "      <th>most_dow</th>\n",
       "    </tr>\n",
       "  </thead>\n",
       "  <tbody>\n",
       "    <tr>\n",
       "      <th>0</th>\n",
       "      <td>1</td>\n",
       "      <td>0.0</td>\n",
       "      <td>3.0</td>\n",
       "      <td>2.0</td>\n",
       "      <td>2.0</td>\n",
       "      <td>3.0</td>\n",
       "      <td>0.0</td>\n",
       "      <td>0.0</td>\n",
       "      <td>dow_1</td>\n",
       "    </tr>\n",
       "    <tr>\n",
       "      <th>1</th>\n",
       "      <td>2</td>\n",
       "      <td>0.0</td>\n",
       "      <td>5.0</td>\n",
       "      <td>5.0</td>\n",
       "      <td>2.0</td>\n",
       "      <td>1.0</td>\n",
       "      <td>1.0</td>\n",
       "      <td>0.0</td>\n",
       "      <td>dow_1</td>\n",
       "    </tr>\n",
       "    <tr>\n",
       "      <th>2</th>\n",
       "      <td>3</td>\n",
       "      <td>6.0</td>\n",
       "      <td>2.0</td>\n",
       "      <td>1.0</td>\n",
       "      <td>3.0</td>\n",
       "      <td>0.0</td>\n",
       "      <td>0.0</td>\n",
       "      <td>0.0</td>\n",
       "      <td>dow_0</td>\n",
       "    </tr>\n",
       "    <tr>\n",
       "      <th>3</th>\n",
       "      <td>4</td>\n",
       "      <td>0.0</td>\n",
       "      <td>0.0</td>\n",
       "      <td>0.0</td>\n",
       "      <td>0.0</td>\n",
       "      <td>2.0</td>\n",
       "      <td>2.0</td>\n",
       "      <td>1.0</td>\n",
       "      <td>dow_4</td>\n",
       "    </tr>\n",
       "    <tr>\n",
       "      <th>4</th>\n",
       "      <td>5</td>\n",
       "      <td>1.0</td>\n",
       "      <td>1.0</td>\n",
       "      <td>0.0</td>\n",
       "      <td>2.0</td>\n",
       "      <td>0.0</td>\n",
       "      <td>0.0</td>\n",
       "      <td>0.0</td>\n",
       "      <td>dow_3</td>\n",
       "    </tr>\n",
       "  </tbody>\n",
       "</table>\n",
       "</div>"
      ],
      "text/plain": [
       "   user_id  dow_0  dow_1  dow_2  dow_3  dow_4  dow_5  dow_6 most_dow\n",
       "0  1        0.0    3.0    2.0    2.0    3.0    0.0    0.0    dow_1  \n",
       "1  2        0.0    5.0    5.0    2.0    1.0    1.0    0.0    dow_1  \n",
       "2  3        6.0    2.0    1.0    3.0    0.0    0.0    0.0    dow_0  \n",
       "3  4        0.0    0.0    0.0    0.0    2.0    2.0    1.0    dow_4  \n",
       "4  5        1.0    1.0    0.0    2.0    0.0    0.0    0.0    dow_3  "
      ]
     },
     "execution_count": 20,
     "metadata": {},
     "output_type": "execute_result"
    }
   ],
   "source": [
    "user_dow.head()"
   ]
  },
  {
   "cell_type": "markdown",
   "metadata": {
    "deletable": true,
    "editable": true
   },
   "source": [
    "- number of orders by day time (sleeping, morning, noon, afternoon, evening, night)"
   ]
  },
  {
   "cell_type": "code",
   "execution_count": 21,
   "metadata": {
    "collapsed": true,
    "deletable": true,
    "editable": true
   },
   "outputs": [],
   "source": [
    "bins = [0, 6, 10, 13, 17, 20, 24]\n",
    "group_names = ['sleeping', 'morning', 'noon', 'afternoon', 'evening', 'night']"
   ]
  },
  {
   "cell_type": "code",
   "execution_count": 22,
   "metadata": {
    "collapsed": false,
    "deletable": true,
    "editable": true
   },
   "outputs": [
    {
     "name": "stderr",
     "output_type": "stream",
     "text": [
      "c:\\users\\jpzha\\appdata\\local\\programs\\python\\python35\\lib\\site-packages\\ipykernel\\__main__.py:1: SettingWithCopyWarning: \n",
      "A value is trying to be set on a copy of a slice from a DataFrame.\n",
      "Try using .loc[row_indexer,col_indexer] = value instead\n",
      "\n",
      "See the caveats in the documentation: http://pandas.pydata.org/pandas-docs/stable/indexing.html#indexing-view-versus-copy\n",
      "  if __name__ == '__main__':\n"
     ]
    }
   ],
   "source": [
    "orders_prior_info['daytime'] = pd.cut(orders_prior_info['order_hour_of_day'], bins = bins, labels= group_names, include_lowest=True)"
   ]
  },
  {
   "cell_type": "code",
   "execution_count": 23,
   "metadata": {
    "collapsed": false,
    "deletable": true,
    "editable": true
   },
   "outputs": [
    {
     "data": {
      "text/html": [
       "<div>\n",
       "<table border=\"1\" class=\"dataframe\">\n",
       "  <thead>\n",
       "    <tr style=\"text-align: right;\">\n",
       "      <th></th>\n",
       "      <th>order_id</th>\n",
       "      <th>user_id</th>\n",
       "      <th>eval_set</th>\n",
       "      <th>order_number</th>\n",
       "      <th>order_dow</th>\n",
       "      <th>order_hour_of_day</th>\n",
       "      <th>days_since_prior_order</th>\n",
       "      <th>daytime</th>\n",
       "    </tr>\n",
       "  </thead>\n",
       "  <tbody>\n",
       "    <tr>\n",
       "      <th>0</th>\n",
       "      <td>2539329</td>\n",
       "      <td>1</td>\n",
       "      <td>prior</td>\n",
       "      <td>1</td>\n",
       "      <td>2</td>\n",
       "      <td>8</td>\n",
       "      <td>NaN</td>\n",
       "      <td>morning</td>\n",
       "    </tr>\n",
       "    <tr>\n",
       "      <th>1</th>\n",
       "      <td>2398795</td>\n",
       "      <td>1</td>\n",
       "      <td>prior</td>\n",
       "      <td>2</td>\n",
       "      <td>3</td>\n",
       "      <td>7</td>\n",
       "      <td>15.0</td>\n",
       "      <td>morning</td>\n",
       "    </tr>\n",
       "    <tr>\n",
       "      <th>2</th>\n",
       "      <td>473747</td>\n",
       "      <td>1</td>\n",
       "      <td>prior</td>\n",
       "      <td>3</td>\n",
       "      <td>3</td>\n",
       "      <td>12</td>\n",
       "      <td>21.0</td>\n",
       "      <td>noon</td>\n",
       "    </tr>\n",
       "    <tr>\n",
       "      <th>3</th>\n",
       "      <td>2254736</td>\n",
       "      <td>1</td>\n",
       "      <td>prior</td>\n",
       "      <td>4</td>\n",
       "      <td>4</td>\n",
       "      <td>7</td>\n",
       "      <td>29.0</td>\n",
       "      <td>morning</td>\n",
       "    </tr>\n",
       "    <tr>\n",
       "      <th>4</th>\n",
       "      <td>431534</td>\n",
       "      <td>1</td>\n",
       "      <td>prior</td>\n",
       "      <td>5</td>\n",
       "      <td>4</td>\n",
       "      <td>15</td>\n",
       "      <td>28.0</td>\n",
       "      <td>afternoon</td>\n",
       "    </tr>\n",
       "  </tbody>\n",
       "</table>\n",
       "</div>"
      ],
      "text/plain": [
       "   order_id  user_id eval_set  order_number  order_dow  order_hour_of_day  \\\n",
       "0  2539329   1        prior    1             2          8                   \n",
       "1  2398795   1        prior    2             3          7                   \n",
       "2  473747    1        prior    3             3          12                  \n",
       "3  2254736   1        prior    4             4          7                   \n",
       "4  431534    1        prior    5             4          15                  \n",
       "\n",
       "   days_since_prior_order    daytime  \n",
       "0 NaN                      morning    \n",
       "1  15.0                    morning    \n",
       "2  21.0                    noon       \n",
       "3  29.0                    morning    \n",
       "4  28.0                    afternoon  "
      ]
     },
     "execution_count": 23,
     "metadata": {},
     "output_type": "execute_result"
    }
   ],
   "source": [
    "orders_prior_info.head()"
   ]
  },
  {
   "cell_type": "code",
   "execution_count": 24,
   "metadata": {
    "collapsed": true,
    "deletable": true,
    "editable": true
   },
   "outputs": [],
   "source": [
    "user_daytime = orders_prior_info.groupby(['user_id', 'daytime'])['order_id'].count().reset_index().\\\n",
    "            rename(columns = {'order_id': 'cnt_daytime'}).\\\n",
    "            pivot(index = \"user_id\", columns = \"daytime\", values = \"cnt_daytime\").fillna(0)"
   ]
  },
  {
   "cell_type": "code",
   "execution_count": 25,
   "metadata": {
    "collapsed": false,
    "deletable": true,
    "editable": true
   },
   "outputs": [
    {
     "data": {
      "text/html": [
       "<div>\n",
       "<table border=\"1\" class=\"dataframe\">\n",
       "  <thead>\n",
       "    <tr style=\"text-align: right;\">\n",
       "      <th></th>\n",
       "      <th>user_id</th>\n",
       "      <th>daytime_sleeping</th>\n",
       "      <th>daytime_morning</th>\n",
       "      <th>daytime_noon</th>\n",
       "      <th>daytime_afternoon</th>\n",
       "      <th>daytime_evening</th>\n",
       "      <th>daytime_night</th>\n",
       "    </tr>\n",
       "  </thead>\n",
       "  <tbody>\n",
       "    <tr>\n",
       "      <th>0</th>\n",
       "      <td>1</td>\n",
       "      <td>0.0</td>\n",
       "      <td>6.0</td>\n",
       "      <td>1.0</td>\n",
       "      <td>3.0</td>\n",
       "      <td>0.0</td>\n",
       "      <td>0.0</td>\n",
       "    </tr>\n",
       "    <tr>\n",
       "      <th>1</th>\n",
       "      <td>2</td>\n",
       "      <td>0.0</td>\n",
       "      <td>8.0</td>\n",
       "      <td>5.0</td>\n",
       "      <td>1.0</td>\n",
       "      <td>0.0</td>\n",
       "      <td>0.0</td>\n",
       "    </tr>\n",
       "    <tr>\n",
       "      <th>2</th>\n",
       "      <td>3</td>\n",
       "      <td>0.0</td>\n",
       "      <td>0.0</td>\n",
       "      <td>0.0</td>\n",
       "      <td>9.0</td>\n",
       "      <td>3.0</td>\n",
       "      <td>0.0</td>\n",
       "    </tr>\n",
       "    <tr>\n",
       "      <th>3</th>\n",
       "      <td>4</td>\n",
       "      <td>0.0</td>\n",
       "      <td>0.0</td>\n",
       "      <td>4.0</td>\n",
       "      <td>1.0</td>\n",
       "      <td>0.0</td>\n",
       "      <td>0.0</td>\n",
       "    </tr>\n",
       "    <tr>\n",
       "      <th>4</th>\n",
       "      <td>5</td>\n",
       "      <td>0.0</td>\n",
       "      <td>0.0</td>\n",
       "      <td>1.0</td>\n",
       "      <td>1.0</td>\n",
       "      <td>2.0</td>\n",
       "      <td>0.0</td>\n",
       "    </tr>\n",
       "  </tbody>\n",
       "</table>\n",
       "</div>"
      ],
      "text/plain": [
       "   user_id  daytime_sleeping  daytime_morning  daytime_noon  \\\n",
       "0  1        0.0               6.0              1.0            \n",
       "1  2        0.0               8.0              5.0            \n",
       "2  3        0.0               0.0              0.0            \n",
       "3  4        0.0               0.0              4.0            \n",
       "4  5        0.0               0.0              1.0            \n",
       "\n",
       "   daytime_afternoon  daytime_evening  daytime_night  \n",
       "0  3.0                0.0              0.0            \n",
       "1  1.0                0.0              0.0            \n",
       "2  9.0                3.0              0.0            \n",
       "3  1.0                0.0              0.0            \n",
       "4  1.0                2.0              0.0            "
      ]
     },
     "execution_count": 25,
     "metadata": {},
     "output_type": "execute_result"
    }
   ],
   "source": [
    "user_daytime.columns.name = None\n",
    "user_daytime = user_daytime.add_prefix('daytime_').reset_index().fillna(0)\n",
    "user_daytime.head()"
   ]
  },
  {
   "cell_type": "markdown",
   "metadata": {
    "deletable": true,
    "editable": true
   },
   "source": [
    "- most often shopping daytime"
   ]
  },
  {
   "cell_type": "code",
   "execution_count": 26,
   "metadata": {
    "collapsed": true,
    "deletable": true,
    "editable": true
   },
   "outputs": [],
   "source": [
    "user_daytime['most_daytime'] = user_daytime.ix[:, 1:].idxmax(axis=1)"
   ]
  },
  {
   "cell_type": "code",
   "execution_count": 27,
   "metadata": {
    "collapsed": false,
    "deletable": true,
    "editable": true
   },
   "outputs": [
    {
     "data": {
      "text/html": [
       "<div>\n",
       "<table border=\"1\" class=\"dataframe\">\n",
       "  <thead>\n",
       "    <tr style=\"text-align: right;\">\n",
       "      <th></th>\n",
       "      <th>user_id</th>\n",
       "      <th>daytime_sleeping</th>\n",
       "      <th>daytime_morning</th>\n",
       "      <th>daytime_noon</th>\n",
       "      <th>daytime_afternoon</th>\n",
       "      <th>daytime_evening</th>\n",
       "      <th>daytime_night</th>\n",
       "      <th>most_daytime</th>\n",
       "    </tr>\n",
       "  </thead>\n",
       "  <tbody>\n",
       "    <tr>\n",
       "      <th>0</th>\n",
       "      <td>1</td>\n",
       "      <td>0.0</td>\n",
       "      <td>6.0</td>\n",
       "      <td>1.0</td>\n",
       "      <td>3.0</td>\n",
       "      <td>0.0</td>\n",
       "      <td>0.0</td>\n",
       "      <td>daytime_morning</td>\n",
       "    </tr>\n",
       "    <tr>\n",
       "      <th>1</th>\n",
       "      <td>2</td>\n",
       "      <td>0.0</td>\n",
       "      <td>8.0</td>\n",
       "      <td>5.0</td>\n",
       "      <td>1.0</td>\n",
       "      <td>0.0</td>\n",
       "      <td>0.0</td>\n",
       "      <td>daytime_morning</td>\n",
       "    </tr>\n",
       "    <tr>\n",
       "      <th>2</th>\n",
       "      <td>3</td>\n",
       "      <td>0.0</td>\n",
       "      <td>0.0</td>\n",
       "      <td>0.0</td>\n",
       "      <td>9.0</td>\n",
       "      <td>3.0</td>\n",
       "      <td>0.0</td>\n",
       "      <td>daytime_afternoon</td>\n",
       "    </tr>\n",
       "    <tr>\n",
       "      <th>3</th>\n",
       "      <td>4</td>\n",
       "      <td>0.0</td>\n",
       "      <td>0.0</td>\n",
       "      <td>4.0</td>\n",
       "      <td>1.0</td>\n",
       "      <td>0.0</td>\n",
       "      <td>0.0</td>\n",
       "      <td>daytime_noon</td>\n",
       "    </tr>\n",
       "    <tr>\n",
       "      <th>4</th>\n",
       "      <td>5</td>\n",
       "      <td>0.0</td>\n",
       "      <td>0.0</td>\n",
       "      <td>1.0</td>\n",
       "      <td>1.0</td>\n",
       "      <td>2.0</td>\n",
       "      <td>0.0</td>\n",
       "      <td>daytime_evening</td>\n",
       "    </tr>\n",
       "  </tbody>\n",
       "</table>\n",
       "</div>"
      ],
      "text/plain": [
       "   user_id  daytime_sleeping  daytime_morning  daytime_noon  \\\n",
       "0  1        0.0               6.0              1.0            \n",
       "1  2        0.0               8.0              5.0            \n",
       "2  3        0.0               0.0              0.0            \n",
       "3  4        0.0               0.0              4.0            \n",
       "4  5        0.0               0.0              1.0            \n",
       "\n",
       "   daytime_afternoon  daytime_evening  daytime_night       most_daytime  \n",
       "0  3.0                0.0              0.0            daytime_morning    \n",
       "1  1.0                0.0              0.0            daytime_morning    \n",
       "2  9.0                3.0              0.0            daytime_afternoon  \n",
       "3  1.0                0.0              0.0            daytime_noon       \n",
       "4  1.0                2.0              0.0            daytime_evening    "
      ]
     },
     "execution_count": 27,
     "metadata": {},
     "output_type": "execute_result"
    }
   ],
   "source": [
    "user_daytime.head()"
   ]
  },
  {
   "cell_type": "markdown",
   "metadata": {
    "deletable": true,
    "editable": true
   },
   "source": [
    "- average of days_since_prior_order per user"
   ]
  },
  {
   "cell_type": "code",
   "execution_count": 28,
   "metadata": {
    "collapsed": true,
    "deletable": true,
    "editable": true
   },
   "outputs": [],
   "source": [
    "user_days_since_po = orders_prior_info.groupby('user_id')['days_since_prior_order'].mean().reset_index().\\\n",
    "                        rename(columns = {'days_since_prior_order': 'avg_days_since_prior_order'})"
   ]
  },
  {
   "cell_type": "code",
   "execution_count": 29,
   "metadata": {
    "collapsed": false,
    "deletable": true,
    "editable": true
   },
   "outputs": [
    {
     "data": {
      "text/html": [
       "<div>\n",
       "<table border=\"1\" class=\"dataframe\">\n",
       "  <thead>\n",
       "    <tr style=\"text-align: right;\">\n",
       "      <th></th>\n",
       "      <th>user_id</th>\n",
       "      <th>avg_days_since_prior_order</th>\n",
       "    </tr>\n",
       "  </thead>\n",
       "  <tbody>\n",
       "    <tr>\n",
       "      <th>0</th>\n",
       "      <td>1</td>\n",
       "      <td>19.555556</td>\n",
       "    </tr>\n",
       "    <tr>\n",
       "      <th>1</th>\n",
       "      <td>2</td>\n",
       "      <td>15.230769</td>\n",
       "    </tr>\n",
       "    <tr>\n",
       "      <th>2</th>\n",
       "      <td>3</td>\n",
       "      <td>12.090909</td>\n",
       "    </tr>\n",
       "    <tr>\n",
       "      <th>3</th>\n",
       "      <td>4</td>\n",
       "      <td>13.750000</td>\n",
       "    </tr>\n",
       "    <tr>\n",
       "      <th>4</th>\n",
       "      <td>5</td>\n",
       "      <td>13.333333</td>\n",
       "    </tr>\n",
       "  </tbody>\n",
       "</table>\n",
       "</div>"
      ],
      "text/plain": [
       "   user_id  avg_days_since_prior_order\n",
       "0  1        19.555556                 \n",
       "1  2        15.230769                 \n",
       "2  3        12.090909                 \n",
       "3  4        13.750000                 \n",
       "4  5        13.333333                 "
      ]
     },
     "execution_count": 29,
     "metadata": {},
     "output_type": "execute_result"
    }
   ],
   "source": [
    "user_days_since_po.head()"
   ]
  },
  {
   "cell_type": "markdown",
   "metadata": {
    "deletable": true,
    "editable": true
   },
   "source": [
    "## Product Aggregated statistics features"
   ]
  },
  {
   "cell_type": "code",
   "execution_count": 30,
   "metadata": {
    "collapsed": true,
    "deletable": true,
    "editable": true
   },
   "outputs": [],
   "source": [
    "products_df = pd.read_csv(\"../data/raw/products.csv\")\n",
    "aisles_df = pd.read_csv(\"../data/raw/aisles.csv\")\n",
    "departments_df = pd.read_csv(\"../data/raw/departments.csv\")"
   ]
  },
  {
   "cell_type": "code",
   "execution_count": 31,
   "metadata": {
    "collapsed": false,
    "deletable": true,
    "editable": true
   },
   "outputs": [],
   "source": [
    "products_df = pd.merge(pd.merge(products_df, aisles_df, on = \"aisle_id\"), departments_df, on = \"department_id\")"
   ]
  },
  {
   "cell_type": "code",
   "execution_count": 32,
   "metadata": {
    "collapsed": false,
    "deletable": true,
    "editable": true
   },
   "outputs": [
    {
     "data": {
      "text/html": [
       "<div>\n",
       "<table border=\"1\" class=\"dataframe\">\n",
       "  <thead>\n",
       "    <tr style=\"text-align: right;\">\n",
       "      <th></th>\n",
       "      <th>product_id</th>\n",
       "      <th>product_name</th>\n",
       "      <th>aisle_id</th>\n",
       "      <th>department_id</th>\n",
       "      <th>aisle</th>\n",
       "      <th>department</th>\n",
       "    </tr>\n",
       "  </thead>\n",
       "  <tbody>\n",
       "    <tr>\n",
       "      <th>0</th>\n",
       "      <td>1</td>\n",
       "      <td>Chocolate Sandwich Cookies</td>\n",
       "      <td>61</td>\n",
       "      <td>19</td>\n",
       "      <td>cookies cakes</td>\n",
       "      <td>snacks</td>\n",
       "    </tr>\n",
       "    <tr>\n",
       "      <th>1</th>\n",
       "      <td>78</td>\n",
       "      <td>Nutter Butter Cookie Bites Go-Pak</td>\n",
       "      <td>61</td>\n",
       "      <td>19</td>\n",
       "      <td>cookies cakes</td>\n",
       "      <td>snacks</td>\n",
       "    </tr>\n",
       "    <tr>\n",
       "      <th>2</th>\n",
       "      <td>102</td>\n",
       "      <td>Danish Butter Cookies</td>\n",
       "      <td>61</td>\n",
       "      <td>19</td>\n",
       "      <td>cookies cakes</td>\n",
       "      <td>snacks</td>\n",
       "    </tr>\n",
       "    <tr>\n",
       "      <th>3</th>\n",
       "      <td>172</td>\n",
       "      <td>Gluten Free All Natural Chocolate Chip Cookies</td>\n",
       "      <td>61</td>\n",
       "      <td>19</td>\n",
       "      <td>cookies cakes</td>\n",
       "      <td>snacks</td>\n",
       "    </tr>\n",
       "    <tr>\n",
       "      <th>4</th>\n",
       "      <td>285</td>\n",
       "      <td>Mini Nilla Wafers Munch Pack</td>\n",
       "      <td>61</td>\n",
       "      <td>19</td>\n",
       "      <td>cookies cakes</td>\n",
       "      <td>snacks</td>\n",
       "    </tr>\n",
       "  </tbody>\n",
       "</table>\n",
       "</div>"
      ],
      "text/plain": [
       "   product_id                                    product_name  aisle_id  \\\n",
       "0  1           Chocolate Sandwich Cookies                      61         \n",
       "1  78          Nutter Butter Cookie Bites Go-Pak               61         \n",
       "2  102         Danish Butter Cookies                           61         \n",
       "3  172         Gluten Free All Natural Chocolate Chip Cookies  61         \n",
       "4  285         Mini Nilla Wafers Munch Pack                    61         \n",
       "\n",
       "   department_id          aisle department  \n",
       "0  19             cookies cakes  snacks     \n",
       "1  19             cookies cakes  snacks     \n",
       "2  19             cookies cakes  snacks     \n",
       "3  19             cookies cakes  snacks     \n",
       "4  19             cookies cakes  snacks     "
      ]
     },
     "execution_count": 32,
     "metadata": {},
     "output_type": "execute_result"
    }
   ],
   "source": [
    "products_df.head()"
   ]
  },
  {
   "cell_type": "code",
   "execution_count": 33,
   "metadata": {
    "collapsed": false,
    "deletable": true,
    "editable": true
   },
   "outputs": [
    {
     "data": {
      "text/plain": [
       "134"
      ]
     },
     "execution_count": 33,
     "metadata": {},
     "output_type": "execute_result"
    }
   ],
   "source": [
    "products_df.aisle.nunique()"
   ]
  },
  {
   "cell_type": "code",
   "execution_count": 34,
   "metadata": {
    "collapsed": false,
    "deletable": true,
    "editable": true
   },
   "outputs": [
    {
     "data": {
      "text/plain": [
       "21"
      ]
     },
     "execution_count": 34,
     "metadata": {},
     "output_type": "execute_result"
    }
   ],
   "source": [
    "products_df.department.nunique()"
   ]
  },
  {
   "cell_type": "code",
   "execution_count": 35,
   "metadata": {
    "collapsed": false,
    "deletable": true,
    "editable": true
   },
   "outputs": [],
   "source": [
    "prior_uid_pid_df = pd.merge(prior_uid_pid_df, products_df[[\"product_id\", \"aisle_id\", \"department_id\"]],\\\n",
    "                            how = \"inner\", on = \"product_id\")"
   ]
  },
  {
   "cell_type": "code",
   "execution_count": 36,
   "metadata": {
    "collapsed": false,
    "deletable": true,
    "editable": true
   },
   "outputs": [
    {
     "data": {
      "text/html": [
       "<div>\n",
       "<table border=\"1\" class=\"dataframe\">\n",
       "  <thead>\n",
       "    <tr style=\"text-align: right;\">\n",
       "      <th></th>\n",
       "      <th>user_id</th>\n",
       "      <th>order_id</th>\n",
       "      <th>product_id</th>\n",
       "      <th>add_to_cart_order</th>\n",
       "      <th>reordered</th>\n",
       "      <th>aisle_id</th>\n",
       "      <th>department_id</th>\n",
       "    </tr>\n",
       "  </thead>\n",
       "  <tbody>\n",
       "    <tr>\n",
       "      <th>0</th>\n",
       "      <td>1</td>\n",
       "      <td>2539329</td>\n",
       "      <td>196</td>\n",
       "      <td>1</td>\n",
       "      <td>0</td>\n",
       "      <td>77</td>\n",
       "      <td>7</td>\n",
       "    </tr>\n",
       "    <tr>\n",
       "      <th>1</th>\n",
       "      <td>1</td>\n",
       "      <td>2398795</td>\n",
       "      <td>196</td>\n",
       "      <td>1</td>\n",
       "      <td>1</td>\n",
       "      <td>77</td>\n",
       "      <td>7</td>\n",
       "    </tr>\n",
       "    <tr>\n",
       "      <th>2</th>\n",
       "      <td>1</td>\n",
       "      <td>473747</td>\n",
       "      <td>196</td>\n",
       "      <td>1</td>\n",
       "      <td>1</td>\n",
       "      <td>77</td>\n",
       "      <td>7</td>\n",
       "    </tr>\n",
       "    <tr>\n",
       "      <th>3</th>\n",
       "      <td>1</td>\n",
       "      <td>2254736</td>\n",
       "      <td>196</td>\n",
       "      <td>1</td>\n",
       "      <td>1</td>\n",
       "      <td>77</td>\n",
       "      <td>7</td>\n",
       "    </tr>\n",
       "    <tr>\n",
       "      <th>4</th>\n",
       "      <td>1</td>\n",
       "      <td>431534</td>\n",
       "      <td>196</td>\n",
       "      <td>1</td>\n",
       "      <td>1</td>\n",
       "      <td>77</td>\n",
       "      <td>7</td>\n",
       "    </tr>\n",
       "  </tbody>\n",
       "</table>\n",
       "</div>"
      ],
      "text/plain": [
       "   user_id  order_id  product_id  add_to_cart_order  reordered  aisle_id  \\\n",
       "0  1        2539329   196         1                  0          77         \n",
       "1  1        2398795   196         1                  1          77         \n",
       "2  1        473747    196         1                  1          77         \n",
       "3  1        2254736   196         1                  1          77         \n",
       "4  1        431534    196         1                  1          77         \n",
       "\n",
       "   department_id  \n",
       "0  7              \n",
       "1  7              \n",
       "2  7              \n",
       "3  7              \n",
       "4  7              "
      ]
     },
     "execution_count": 36,
     "metadata": {},
     "output_type": "execute_result"
    }
   ],
   "source": [
    "prior_uid_pid_df.head()"
   ]
  },
  {
   "cell_type": "markdown",
   "metadata": {
    "deletable": true,
    "editable": true
   },
   "source": [
    "- most often reordered product"
   ]
  },
  {
   "cell_type": "code",
   "execution_count": 37,
   "metadata": {
    "collapsed": true,
    "deletable": true,
    "editable": true
   },
   "outputs": [],
   "source": [
    "def get_most_reorder_pids(grouped_df, top = 3):\n",
    "    top3_pids = grouped_df['product_id'].value_counts().nlargest(top).index\n",
    "    top1 = int(top3_pids[0])\n",
    "    try: \n",
    "        top2 = int(top3_pids[1])\n",
    "    except:\n",
    "        top2 = np.nan\n",
    "    try:\n",
    "        top3 = int(top3_pids[2])\n",
    "    except:\n",
    "        top3 = np.nan\n",
    "    return pd.Series({'top1_reordered_pid': top1, \n",
    "                      'top2_reordered_pid': top2, \n",
    "                      'top3_reordered_pid': top3})"
   ]
  },
  {
   "cell_type": "code",
   "execution_count": 38,
   "metadata": {
    "collapsed": false,
    "deletable": true,
    "editable": true
   },
   "outputs": [
    {
     "name": "stdout",
     "output_type": "stream",
     "text": [
      "Wall time: 3min 16s\n"
     ]
    }
   ],
   "source": [
    "%time top3_reordered_pids_user = prior_uid_pid_df[prior_uid_pid_df.reordered == 1].groupby('user_id').apply(get_most_reorder_pids)"
   ]
  },
  {
   "cell_type": "code",
   "execution_count": 39,
   "metadata": {
    "collapsed": false,
    "deletable": true,
    "editable": true
   },
   "outputs": [
    {
     "data": {
      "text/html": [
       "<div>\n",
       "<table border=\"1\" class=\"dataframe\">\n",
       "  <thead>\n",
       "    <tr style=\"text-align: right;\">\n",
       "      <th></th>\n",
       "      <th>user_id</th>\n",
       "      <th>top1_reordered_pid</th>\n",
       "      <th>top2_reordered_pid</th>\n",
       "      <th>top3_reordered_pid</th>\n",
       "    </tr>\n",
       "  </thead>\n",
       "  <tbody>\n",
       "    <tr>\n",
       "      <th>0</th>\n",
       "      <td>1</td>\n",
       "      <td>12427.0</td>\n",
       "      <td>196.0</td>\n",
       "      <td>10258.0</td>\n",
       "    </tr>\n",
       "    <tr>\n",
       "      <th>1</th>\n",
       "      <td>2</td>\n",
       "      <td>32792.0</td>\n",
       "      <td>47209.0</td>\n",
       "      <td>24852.0</td>\n",
       "    </tr>\n",
       "    <tr>\n",
       "      <th>2</th>\n",
       "      <td>3</td>\n",
       "      <td>39190.0</td>\n",
       "      <td>47766.0</td>\n",
       "      <td>21903.0</td>\n",
       "    </tr>\n",
       "    <tr>\n",
       "      <th>3</th>\n",
       "      <td>4</td>\n",
       "      <td>35469.0</td>\n",
       "      <td>NaN</td>\n",
       "      <td>NaN</td>\n",
       "    </tr>\n",
       "    <tr>\n",
       "      <th>4</th>\n",
       "      <td>5</td>\n",
       "      <td>26604.0</td>\n",
       "      <td>11777.0</td>\n",
       "      <td>43693.0</td>\n",
       "    </tr>\n",
       "  </tbody>\n",
       "</table>\n",
       "</div>"
      ],
      "text/plain": [
       "   user_id  top1_reordered_pid  top2_reordered_pid  top3_reordered_pid\n",
       "0  1        12427.0             196.0               10258.0           \n",
       "1  2        32792.0             47209.0             24852.0           \n",
       "2  3        39190.0             47766.0             21903.0           \n",
       "3  4        35469.0            NaN                 NaN                \n",
       "4  5        26604.0             11777.0             43693.0           "
      ]
     },
     "execution_count": 39,
     "metadata": {},
     "output_type": "execute_result"
    }
   ],
   "source": [
    "top3_reordered_pids_user = top3_reordered_pids_user.reset_index()\n",
    "top3_reordered_pids_user.head()"
   ]
  },
  {
   "cell_type": "markdown",
   "metadata": {
    "deletable": true,
    "editable": true
   },
   "source": [
    "- most often reordered aiesle"
   ]
  },
  {
   "cell_type": "code",
   "execution_count": 40,
   "metadata": {
    "collapsed": true,
    "deletable": true,
    "editable": true
   },
   "outputs": [],
   "source": [
    "# def get_most_reordered_aiesle(grouped_df):\n",
    "#     top1 = grouped_df['aisle_id'].value_counts().nlargest(1).index[0]\n",
    "#     return pd.Series({'most_reordered_aiesle':top1})\n",
    "def get_most_reordered_aiesle(grouped_df):\n",
    "    top1 = grouped_df['aisle_id'].value_counts().nlargest(1).index[0]\n",
    "    return top1"
   ]
  },
  {
   "cell_type": "code",
   "execution_count": 42,
   "metadata": {
    "collapsed": false,
    "deletable": true,
    "editable": true
   },
   "outputs": [
    {
     "name": "stdout",
     "output_type": "stream",
     "text": [
      "Wall time: 2min 51s\n"
     ]
    }
   ],
   "source": [
    "%time top1_reordered_aiesle_user = pd.DataFrame.from_records([ (g, get_most_reordered_aiesle(grp))\\\n",
    "                                           for g, grp in prior_uid_pid_df[prior_uid_pid_df.reordered == 1].groupby('user_id')],\\\n",
    "                                        columns = ['user_id', 'most_reordered_aiesle'])"
   ]
  },
  {
   "cell_type": "code",
   "execution_count": 43,
   "metadata": {
    "collapsed": false,
    "deletable": true,
    "editable": true
   },
   "outputs": [
    {
     "data": {
      "text/html": [
       "<div>\n",
       "<table border=\"1\" class=\"dataframe\">\n",
       "  <thead>\n",
       "    <tr style=\"text-align: right;\">\n",
       "      <th></th>\n",
       "      <th>user_id</th>\n",
       "      <th>most_reordered_aiesle</th>\n",
       "    </tr>\n",
       "  </thead>\n",
       "  <tbody>\n",
       "    <tr>\n",
       "      <th>0</th>\n",
       "      <td>1</td>\n",
       "      <td>77</td>\n",
       "    </tr>\n",
       "    <tr>\n",
       "      <th>1</th>\n",
       "      <td>2</td>\n",
       "      <td>120</td>\n",
       "    </tr>\n",
       "    <tr>\n",
       "      <th>2</th>\n",
       "      <td>3</td>\n",
       "      <td>24</td>\n",
       "    </tr>\n",
       "    <tr>\n",
       "      <th>3</th>\n",
       "      <td>4</td>\n",
       "      <td>38</td>\n",
       "    </tr>\n",
       "    <tr>\n",
       "      <th>4</th>\n",
       "      <td>5</td>\n",
       "      <td>123</td>\n",
       "    </tr>\n",
       "  </tbody>\n",
       "</table>\n",
       "</div>"
      ],
      "text/plain": [
       "   user_id  most_reordered_aiesle\n",
       "0  1        77                   \n",
       "1  2        120                  \n",
       "2  3        24                   \n",
       "3  4        38                   \n",
       "4  5        123                  "
      ]
     },
     "execution_count": 43,
     "metadata": {},
     "output_type": "execute_result"
    }
   ],
   "source": [
    "top1_reordered_aiesle_user.head()"
   ]
  },
  {
   "cell_type": "markdown",
   "metadata": {
    "deletable": true,
    "editable": true
   },
   "source": [
    "- most often reordered department"
   ]
  },
  {
   "cell_type": "code",
   "execution_count": 46,
   "metadata": {
    "collapsed": true,
    "deletable": true,
    "editable": true
   },
   "outputs": [],
   "source": [
    "def get_most_reordered_dpmt(grouped_df):\n",
    "    top1 = grouped_df['department_id'].value_counts().nlargest(1).index[0]\n",
    "    return top1"
   ]
  },
  {
   "cell_type": "code",
   "execution_count": 47,
   "metadata": {
    "collapsed": false,
    "deletable": true,
    "editable": true
   },
   "outputs": [
    {
     "name": "stdout",
     "output_type": "stream",
     "text": [
      "Wall time: 2min 40s\n"
     ]
    }
   ],
   "source": [
    "%time top1_reordered_dpmt_user = pd.DataFrame.from_records([(g, get_most_reordered_dpmt(grp))\\\n",
    "                                           for g, grp in prior_uid_pid_df[prior_uid_pid_df.reordered == 1].groupby('user_id')],\\\n",
    "                                                          columns = ['user_id', 'most_reordered_dpmt'])"
   ]
  },
  {
   "cell_type": "code",
   "execution_count": 48,
   "metadata": {
    "collapsed": false,
    "deletable": true,
    "editable": true
   },
   "outputs": [
    {
     "data": {
      "text/html": [
       "<div>\n",
       "<table border=\"1\" class=\"dataframe\">\n",
       "  <thead>\n",
       "    <tr style=\"text-align: right;\">\n",
       "      <th></th>\n",
       "      <th>user_id</th>\n",
       "      <th>most_reordered_dpmt</th>\n",
       "    </tr>\n",
       "  </thead>\n",
       "  <tbody>\n",
       "    <tr>\n",
       "      <th>0</th>\n",
       "      <td>1</td>\n",
       "      <td>19</td>\n",
       "    </tr>\n",
       "    <tr>\n",
       "      <th>1</th>\n",
       "      <td>2</td>\n",
       "      <td>16</td>\n",
       "    </tr>\n",
       "    <tr>\n",
       "      <th>2</th>\n",
       "      <td>3</td>\n",
       "      <td>4</td>\n",
       "    </tr>\n",
       "    <tr>\n",
       "      <th>3</th>\n",
       "      <td>4</td>\n",
       "      <td>1</td>\n",
       "    </tr>\n",
       "    <tr>\n",
       "      <th>4</th>\n",
       "      <td>5</td>\n",
       "      <td>4</td>\n",
       "    </tr>\n",
       "  </tbody>\n",
       "</table>\n",
       "</div>"
      ],
      "text/plain": [
       "   user_id  most_reordered_dpmt\n",
       "0  1        19                 \n",
       "1  2        16                 \n",
       "2  3        4                  \n",
       "3  4        1                  \n",
       "4  5        4                  "
      ]
     },
     "execution_count": 48,
     "metadata": {},
     "output_type": "execute_result"
    }
   ],
   "source": [
    "top1_reordered_dpmt_user.head()"
   ]
  },
  {
   "cell_type": "markdown",
   "metadata": {
    "deletable": true,
    "editable": true
   },
   "source": [
    "## Product embedding features "
   ]
  },
  {
   "cell_type": "code",
   "execution_count": 49,
   "metadata": {
    "collapsed": false,
    "deletable": true,
    "editable": true
   },
   "outputs": [
    {
     "name": "stderr",
     "output_type": "stream",
     "text": [
      "c:\\users\\jpzha\\appdata\\local\\programs\\python\\python35\\lib\\site-packages\\gensim\\utils.py:860: UserWarning: detected Windows; aliasing chunkize to chunkize_serial\n",
      "  warnings.warn(\"detected Windows; aliasing chunkize to chunkize_serial\")\n"
     ]
    }
   ],
   "source": [
    "import gensim"
   ]
  },
  {
   "cell_type": "markdown",
   "metadata": {
    "deletable": true,
    "editable": true
   },
   "source": [
    "- user purchased product frequency vector"
   ]
  },
  {
   "cell_type": "code",
   "execution_count": 50,
   "metadata": {
    "collapsed": true,
    "deletable": true,
    "editable": true
   },
   "outputs": [],
   "source": [
    "prior_uid_pid_cnt_df = prior_uid_pid_df[['user_id', 'product_id']].groupby(['user_id','product_id']).size()"
   ]
  },
  {
   "cell_type": "code",
   "execution_count": 51,
   "metadata": {
    "collapsed": false,
    "deletable": true,
    "editable": true
   },
   "outputs": [],
   "source": [
    "prior_uid_pid_cnt_df = prior_uid_pid_cnt_df.reset_index().rename(columns = {0:'count'})"
   ]
  },
  {
   "cell_type": "code",
   "execution_count": 52,
   "metadata": {
    "collapsed": false,
    "deletable": true,
    "editable": true
   },
   "outputs": [
    {
     "data": {
      "text/html": [
       "<div>\n",
       "<table border=\"1\" class=\"dataframe\">\n",
       "  <thead>\n",
       "    <tr style=\"text-align: right;\">\n",
       "      <th></th>\n",
       "      <th>user_id</th>\n",
       "      <th>product_id</th>\n",
       "      <th>count</th>\n",
       "    </tr>\n",
       "  </thead>\n",
       "  <tbody>\n",
       "    <tr>\n",
       "      <th>0</th>\n",
       "      <td>1</td>\n",
       "      <td>196</td>\n",
       "      <td>10</td>\n",
       "    </tr>\n",
       "    <tr>\n",
       "      <th>1</th>\n",
       "      <td>1</td>\n",
       "      <td>10258</td>\n",
       "      <td>9</td>\n",
       "    </tr>\n",
       "    <tr>\n",
       "      <th>2</th>\n",
       "      <td>1</td>\n",
       "      <td>10326</td>\n",
       "      <td>1</td>\n",
       "    </tr>\n",
       "    <tr>\n",
       "      <th>3</th>\n",
       "      <td>1</td>\n",
       "      <td>12427</td>\n",
       "      <td>10</td>\n",
       "    </tr>\n",
       "    <tr>\n",
       "      <th>4</th>\n",
       "      <td>1</td>\n",
       "      <td>13032</td>\n",
       "      <td>3</td>\n",
       "    </tr>\n",
       "  </tbody>\n",
       "</table>\n",
       "</div>"
      ],
      "text/plain": [
       "   user_id  product_id  count\n",
       "0  1        196         10   \n",
       "1  1        10258       9    \n",
       "2  1        10326       1    \n",
       "3  1        12427       10   \n",
       "4  1        13032       3    "
      ]
     },
     "execution_count": 52,
     "metadata": {},
     "output_type": "execute_result"
    }
   ],
   "source": [
    "prior_uid_pid_cnt_df.head()"
   ]
  },
  {
   "cell_type": "code",
   "execution_count": 53,
   "metadata": {
    "collapsed": false,
    "deletable": true,
    "editable": true
   },
   "outputs": [],
   "source": [
    "uid_pid_cnt_dict = [{'user_id': k, 'pid_freq_dict': dict(zip(g['product_id'], g['count'])) }\\\n",
    "                    for k,g in prior_uid_pid_cnt_df.groupby('user_id')]\n",
    "uid_pid_freq_df = pd.DataFrame(uid_pid_cnt_dict)"
   ]
  },
  {
   "cell_type": "code",
   "execution_count": 54,
   "metadata": {
    "collapsed": false,
    "deletable": true,
    "editable": true
   },
   "outputs": [
    {
     "data": {
      "text/html": [
       "<div>\n",
       "<table border=\"1\" class=\"dataframe\">\n",
       "  <thead>\n",
       "    <tr style=\"text-align: right;\">\n",
       "      <th></th>\n",
       "      <th>pid_freq_dict</th>\n",
       "      <th>user_id</th>\n",
       "    </tr>\n",
       "  </thead>\n",
       "  <tbody>\n",
       "    <tr>\n",
       "      <th>0</th>\n",
       "      <td>{17122: 1, 41787: 1, 196: 10, 26405: 2, 26088: 2, 39657: 1, 12427: 10, 25133: 8, 35951: 1, 38928: 1, 13032: 3, 10258: 9, 49235: 2, 10326: 1, 13176: 2, 14084: 1, 30450: 1, 46149: 3}</td>\n",
       "      <td>1</td>\n",
       "    </tr>\n",
       "    <tr>\n",
       "      <th>1</th>\n",
       "      <td>{38656: 1, 34688: 3, 40198: 2, 45066: 3, 2573: 2, 37646: 1, 44303: 1, 18961: 1, 5907: 1, 24852: 7, 27413: 1, 23: 1, 32792: 9, 30489: 1, 7963: 1, 8479: 1, 46886: 2, 13351: 2, 19240: 1, 22825: 1, 49451: 1, 22829: 1, 20785: 1, 32052: 3, 17758: 2, 41787: 2, 27966: 2, 10305: 1, 32139: 4, 15841: 1, 17224: 1, 5450: 1, 14306: 1, 3151: 1, 48210: 1, 46676: 1, 5322: 1, 27737: 1, 18523: 6, 5212: 1, 4957: 1, 20574: 2, 7781: 3, 42342: 1, 8296: 1, 47209: 8, 19051: 4, 22124: 4, 35917: 1, 22474: 3, 19057: 1, 42356: 1, 13176: 1, 49273: 1, 24954: 1, 40571: 1, 45948: 1, 36735: 3, 21376: 2, 16521: 1, 1559: 6, 47766: 4, 16797: 1, 24990: 1, 9124: 1, 33957: 1, 47526: 1, 13742: 1, 47792: 1, 22963: 2, 21150: 1, 20084: 1, 22559: 1, 30908: 1, 28874: 1, 36287: 1, 24768: 1, 47553: 1, 39877: 1, 8138: 1, 21709: 2, 16589: 5, 27344: 2, 9681: 2, 2002: 4, 19156: 6, 14553: 1, 33754: 5, 79: 1, 45613: 2, 12000: 5, 17872: 3, 12258: 1, 48099: 1, 4071: 1, 21227: 1, 5869: 1, 48110: 2, 47144: 1, 28918: 1, ...}</td>\n",
       "      <td>2</td>\n",
       "    </tr>\n",
       "    <tr>\n",
       "      <th>2</th>\n",
       "      <td>{18370: 1, 9387: 5, 17668: 5, 16965: 2, 24010: 2, 44683: 2, 12845: 1, 14992: 2, 21137: 1, 32402: 3, 22035: 3, 8021: 1, 39190: 10, 42265: 1, 38596: 1, 7503: 1, 40604: 1, 16797: 3, 23650: 2, 1819: 3, 15143: 1, 24810: 3, 18599: 4, 1005: 1, 47766: 9, 39922: 1, 49683: 1, 21903: 8, 248: 1, 43961: 4, 48523: 2, 42557: 1, 28373: 2}</td>\n",
       "      <td>3</td>\n",
       "    </tr>\n",
       "    <tr>\n",
       "      <th>3</th>\n",
       "      <td>{42329: 1, 26576: 1, 43704: 1, 21573: 1, 17769: 1, 22199: 1, 35469: 2, 37646: 1, 1200: 1, 19057: 1, 2707: 1, 7350: 1, 25623: 1, 7160: 1, 11865: 1, 25146: 1, 36606: 1}</td>\n",
       "      <td>4</td>\n",
       "    </tr>\n",
       "    <tr>\n",
       "      <th>4</th>\n",
       "      <td>{11777: 4, 40706: 2, 8518: 2, 28289: 1, 18761: 1, 22475: 1, 27344: 1, 20754: 1, 24535: 3, 6808: 1, 31717: 1, 3376: 1, 13988: 2, 21413: 2, 24231: 1, 16168: 1, 48775: 1, 26604: 4, 43693: 3, 13870: 1, 5999: 1, 21616: 1, 15349: 1}</td>\n",
       "      <td>5</td>\n",
       "    </tr>\n",
       "  </tbody>\n",
       "</table>\n",
       "</div>"
      ],
      "text/plain": [
       "                                                                                                                                                                                                                                                                                                                                                                                                                                                                                                                                                                                                                                                                                                                                                                                                                                                                                                                                                                                                           pid_freq_dict  \\\n",
       "0  {17122: 1, 41787: 1, 196: 10, 26405: 2, 26088: 2, 39657: 1, 12427: 10, 25133: 8, 35951: 1, 38928: 1, 13032: 3, 10258: 9, 49235: 2, 10326: 1, 13176: 2, 14084: 1, 30450: 1, 46149: 3}                                                                                                                                                                                                                                                                                                                                                                                                                                                                                                                                                                                                                                                                                                                                                                                                                                    \n",
       "1  {38656: 1, 34688: 3, 40198: 2, 45066: 3, 2573: 2, 37646: 1, 44303: 1, 18961: 1, 5907: 1, 24852: 7, 27413: 1, 23: 1, 32792: 9, 30489: 1, 7963: 1, 8479: 1, 46886: 2, 13351: 2, 19240: 1, 22825: 1, 49451: 1, 22829: 1, 20785: 1, 32052: 3, 17758: 2, 41787: 2, 27966: 2, 10305: 1, 32139: 4, 15841: 1, 17224: 1, 5450: 1, 14306: 1, 3151: 1, 48210: 1, 46676: 1, 5322: 1, 27737: 1, 18523: 6, 5212: 1, 4957: 1, 20574: 2, 7781: 3, 42342: 1, 8296: 1, 47209: 8, 19051: 4, 22124: 4, 35917: 1, 22474: 3, 19057: 1, 42356: 1, 13176: 1, 49273: 1, 24954: 1, 40571: 1, 45948: 1, 36735: 3, 21376: 2, 16521: 1, 1559: 6, 47766: 4, 16797: 1, 24990: 1, 9124: 1, 33957: 1, 47526: 1, 13742: 1, 47792: 1, 22963: 2, 21150: 1, 20084: 1, 22559: 1, 30908: 1, 28874: 1, 36287: 1, 24768: 1, 47553: 1, 39877: 1, 8138: 1, 21709: 2, 16589: 5, 27344: 2, 9681: 2, 2002: 4, 19156: 6, 14553: 1, 33754: 5, 79: 1, 45613: 2, 12000: 5, 17872: 3, 12258: 1, 48099: 1, 4071: 1, 21227: 1, 5869: 1, 48110: 2, 47144: 1, 28918: 1, ...}   \n",
       "2  {18370: 1, 9387: 5, 17668: 5, 16965: 2, 24010: 2, 44683: 2, 12845: 1, 14992: 2, 21137: 1, 32402: 3, 22035: 3, 8021: 1, 39190: 10, 42265: 1, 38596: 1, 7503: 1, 40604: 1, 16797: 3, 23650: 2, 1819: 3, 15143: 1, 24810: 3, 18599: 4, 1005: 1, 47766: 9, 39922: 1, 49683: 1, 21903: 8, 248: 1, 43961: 4, 48523: 2, 42557: 1, 28373: 2}                                                                                                                                                                                                                                                                                                                                                                                                                                                                                                                                                                                                                                                                                    \n",
       "3  {42329: 1, 26576: 1, 43704: 1, 21573: 1, 17769: 1, 22199: 1, 35469: 2, 37646: 1, 1200: 1, 19057: 1, 2707: 1, 7350: 1, 25623: 1, 7160: 1, 11865: 1, 25146: 1, 36606: 1}                                                                                                                                                                                                                                                                                                                                                                                                                                                                                                                                                                                                                                                                                                                                                                                                                                                  \n",
       "4  {11777: 4, 40706: 2, 8518: 2, 28289: 1, 18761: 1, 22475: 1, 27344: 1, 20754: 1, 24535: 3, 6808: 1, 31717: 1, 3376: 1, 13988: 2, 21413: 2, 24231: 1, 16168: 1, 48775: 1, 26604: 4, 43693: 3, 13870: 1, 5999: 1, 21616: 1, 15349: 1}                                                                                                                                                                                                                                                                                                                                                                                                                                                                                                                                                                                                                                                                                                                                                                                      \n",
       "\n",
       "   user_id  \n",
       "0  1        \n",
       "1  2        \n",
       "2  3        \n",
       "3  4        \n",
       "4  5        "
      ]
     },
     "execution_count": 54,
     "metadata": {},
     "output_type": "execute_result"
    }
   ],
   "source": [
    "uid_pid_freq_df.head()"
   ]
  },
  {
   "cell_type": "code",
   "execution_count": 203,
   "metadata": {
    "collapsed": false
   },
   "outputs": [
    {
     "data": {
      "text/plain": [
       "(206209, 2)"
      ]
     },
     "execution_count": 203,
     "metadata": {},
     "output_type": "execute_result"
    }
   ],
   "source": [
    "uid_pid_freq_df.shape"
   ]
  },
  {
   "cell_type": "code",
   "execution_count": 204,
   "metadata": {
    "collapsed": true
   },
   "outputs": [],
   "source": [
    "# save the product count feature for all users \n",
    "with open(\"../data/processed/user_prods_cnt_dict_features.pickle\", \"wb\") as handle:\n",
    "    pickle.dump(uid_pid_freq_df, handle)"
   ]
  },
  {
   "cell_type": "code",
   "execution_count": 55,
   "metadata": {
    "collapsed": true,
    "deletable": true,
    "editable": true
   },
   "outputs": [],
   "source": [
    "del uid_pid_cnt_dict, prior_uid_pid_cnt_df"
   ]
  },
  {
   "cell_type": "markdown",
   "metadata": {
    "deletable": true,
    "editable": true
   },
   "source": [
    "- calculate the purchase embedding vector"
   ]
  },
  {
   "cell_type": "code",
   "execution_count": 56,
   "metadata": {
    "collapsed": true,
    "deletable": true,
    "editable": true
   },
   "outputs": [],
   "source": [
    "product_emd = gensim.models.Word2Vec.load(\"../data/interim/product2vec.model\")"
   ]
  },
  {
   "cell_type": "code",
   "execution_count": 57,
   "metadata": {
    "collapsed": true,
    "deletable": true,
    "editable": true
   },
   "outputs": [],
   "source": [
    "def get_purchase_embedding(pid_freq_dict_series, product_emd):\n",
    "    all_uids_purchase_emd = []\n",
    "    for pfreq_d in pid_freq_dict_series:\n",
    "        uid_purchase_emd_ls = []\n",
    "        for pid, freq in pfreq_d.items():\n",
    "            try:\n",
    "                temp_vec = product_emd[str(pid)]*freq\n",
    "                uid_purchase_emd_ls.append(temp_vec)\n",
    "            except:\n",
    "                continue\n",
    "        one_uid_purchase_emd = np.stack(uid_purchase_emd_ls).sum(axis = 0)\n",
    "        all_uids_purchase_emd.append(one_uid_purchase_emd)\n",
    "    return np.stack(all_uids_purchase_emd)"
   ]
  },
  {
   "cell_type": "code",
   "execution_count": 58,
   "metadata": {
    "collapsed": false,
    "deletable": true,
    "editable": true
   },
   "outputs": [],
   "source": [
    "uids_purchase_emd = get_purchase_embedding(uid_pid_freq_df['pid_freq_dict'], product_emd)\n",
    "uid_pid_emb_df = pd.DataFrame(data = uids_purchase_emd, index = uid_pid_freq_df['user_id'])\n",
    "uid_pid_emb_df = uid_pid_emb_df.add_prefix('emb_')"
   ]
  },
  {
   "cell_type": "code",
   "execution_count": 59,
   "metadata": {
    "collapsed": false,
    "deletable": true,
    "editable": true
   },
   "outputs": [
    {
     "data": {
      "text/html": [
       "<div>\n",
       "<table border=\"1\" class=\"dataframe\">\n",
       "  <thead>\n",
       "    <tr style=\"text-align: right;\">\n",
       "      <th></th>\n",
       "      <th>user_id</th>\n",
       "      <th>emb_0</th>\n",
       "      <th>emb_1</th>\n",
       "      <th>emb_2</th>\n",
       "      <th>emb_3</th>\n",
       "      <th>emb_4</th>\n",
       "      <th>emb_5</th>\n",
       "      <th>emb_6</th>\n",
       "      <th>emb_7</th>\n",
       "      <th>emb_8</th>\n",
       "      <th>...</th>\n",
       "      <th>emb_90</th>\n",
       "      <th>emb_91</th>\n",
       "      <th>emb_92</th>\n",
       "      <th>emb_93</th>\n",
       "      <th>emb_94</th>\n",
       "      <th>emb_95</th>\n",
       "      <th>emb_96</th>\n",
       "      <th>emb_97</th>\n",
       "      <th>emb_98</th>\n",
       "      <th>emb_99</th>\n",
       "    </tr>\n",
       "  </thead>\n",
       "  <tbody>\n",
       "    <tr>\n",
       "      <th>0</th>\n",
       "      <td>1</td>\n",
       "      <td>-26.714828</td>\n",
       "      <td>10.802811</td>\n",
       "      <td>-25.158247</td>\n",
       "      <td>0.034250</td>\n",
       "      <td>-13.170386</td>\n",
       "      <td>37.165924</td>\n",
       "      <td>-57.506771</td>\n",
       "      <td>-67.410599</td>\n",
       "      <td>46.844711</td>\n",
       "      <td>...</td>\n",
       "      <td>-9.796089</td>\n",
       "      <td>31.366833</td>\n",
       "      <td>36.130058</td>\n",
       "      <td>23.546530</td>\n",
       "      <td>10.425104</td>\n",
       "      <td>-45.494610</td>\n",
       "      <td>-41.286137</td>\n",
       "      <td>-15.234282</td>\n",
       "      <td>-27.943871</td>\n",
       "      <td>-1.224820</td>\n",
       "    </tr>\n",
       "    <tr>\n",
       "      <th>1</th>\n",
       "      <td>2</td>\n",
       "      <td>81.621399</td>\n",
       "      <td>38.889706</td>\n",
       "      <td>82.688820</td>\n",
       "      <td>-102.128090</td>\n",
       "      <td>-19.691454</td>\n",
       "      <td>287.458893</td>\n",
       "      <td>-180.793015</td>\n",
       "      <td>35.621387</td>\n",
       "      <td>-54.345078</td>\n",
       "      <td>...</td>\n",
       "      <td>120.507309</td>\n",
       "      <td>-108.388176</td>\n",
       "      <td>1.776031</td>\n",
       "      <td>23.358995</td>\n",
       "      <td>-148.381149</td>\n",
       "      <td>88.404236</td>\n",
       "      <td>-56.325516</td>\n",
       "      <td>-31.194061</td>\n",
       "      <td>18.958136</td>\n",
       "      <td>25.864012</td>\n",
       "    </tr>\n",
       "    <tr>\n",
       "      <th>2</th>\n",
       "      <td>3</td>\n",
       "      <td>40.915524</td>\n",
       "      <td>-18.381775</td>\n",
       "      <td>75.038582</td>\n",
       "      <td>-1.873290</td>\n",
       "      <td>-58.543594</td>\n",
       "      <td>93.821640</td>\n",
       "      <td>-24.789171</td>\n",
       "      <td>79.996437</td>\n",
       "      <td>-30.540491</td>\n",
       "      <td>...</td>\n",
       "      <td>27.517372</td>\n",
       "      <td>-92.990982</td>\n",
       "      <td>48.024872</td>\n",
       "      <td>-35.506332</td>\n",
       "      <td>-128.823105</td>\n",
       "      <td>77.397263</td>\n",
       "      <td>16.856283</td>\n",
       "      <td>-16.234632</td>\n",
       "      <td>28.117483</td>\n",
       "      <td>46.908470</td>\n",
       "    </tr>\n",
       "    <tr>\n",
       "      <th>3</th>\n",
       "      <td>4</td>\n",
       "      <td>1.429444</td>\n",
       "      <td>2.203788</td>\n",
       "      <td>-0.556785</td>\n",
       "      <td>-11.420183</td>\n",
       "      <td>-6.547275</td>\n",
       "      <td>0.305758</td>\n",
       "      <td>0.160394</td>\n",
       "      <td>-8.673797</td>\n",
       "      <td>-5.231474</td>\n",
       "      <td>...</td>\n",
       "      <td>3.262614</td>\n",
       "      <td>18.981794</td>\n",
       "      <td>-9.738063</td>\n",
       "      <td>21.261660</td>\n",
       "      <td>2.639111</td>\n",
       "      <td>2.720276</td>\n",
       "      <td>-2.564438</td>\n",
       "      <td>4.853611</td>\n",
       "      <td>-3.863805</td>\n",
       "      <td>9.918034</td>\n",
       "    </tr>\n",
       "    <tr>\n",
       "      <th>4</th>\n",
       "      <td>5</td>\n",
       "      <td>7.796177</td>\n",
       "      <td>-11.155602</td>\n",
       "      <td>12.636064</td>\n",
       "      <td>37.787033</td>\n",
       "      <td>11.076339</td>\n",
       "      <td>43.303268</td>\n",
       "      <td>3.458212</td>\n",
       "      <td>15.993218</td>\n",
       "      <td>-27.569876</td>\n",
       "      <td>...</td>\n",
       "      <td>-9.303144</td>\n",
       "      <td>-57.355591</td>\n",
       "      <td>-3.194045</td>\n",
       "      <td>-31.843639</td>\n",
       "      <td>-23.899057</td>\n",
       "      <td>35.830971</td>\n",
       "      <td>18.920025</td>\n",
       "      <td>3.286705</td>\n",
       "      <td>26.969088</td>\n",
       "      <td>18.922802</td>\n",
       "    </tr>\n",
       "  </tbody>\n",
       "</table>\n",
       "<p>5 rows × 101 columns</p>\n",
       "</div>"
      ],
      "text/plain": [
       "   user_id      emb_0      emb_1      emb_2       emb_3      emb_4  \\\n",
       "0  1       -26.714828  10.802811 -25.158247  0.034250   -13.170386   \n",
       "1  2        81.621399  38.889706  82.688820 -102.128090 -19.691454   \n",
       "2  3        40.915524 -18.381775  75.038582 -1.873290   -58.543594   \n",
       "3  4        1.429444   2.203788  -0.556785  -11.420183  -6.547275    \n",
       "4  5        7.796177  -11.155602  12.636064  37.787033   11.076339   \n",
       "\n",
       "        emb_5       emb_6      emb_7      emb_8    ...          emb_90  \\\n",
       "0  37.165924  -57.506771  -67.410599  46.844711    ...     -9.796089     \n",
       "1  287.458893 -180.793015  35.621387 -54.345078    ...      120.507309   \n",
       "2  93.821640  -24.789171   79.996437 -30.540491    ...      27.517372    \n",
       "3  0.305758    0.160394   -8.673797  -5.231474     ...      3.262614     \n",
       "4  43.303268   3.458212    15.993218 -27.569876    ...     -9.303144     \n",
       "\n",
       "       emb_91     emb_92     emb_93      emb_94     emb_95     emb_96  \\\n",
       "0  31.366833   36.130058  23.546530  10.425104  -45.494610 -41.286137   \n",
       "1 -108.388176  1.776031   23.358995 -148.381149  88.404236 -56.325516   \n",
       "2 -92.990982   48.024872 -35.506332 -128.823105  77.397263  16.856283   \n",
       "3  18.981794  -9.738063   21.261660  2.639111    2.720276  -2.564438    \n",
       "4 -57.355591  -3.194045  -31.843639 -23.899057   35.830971  18.920025   \n",
       "\n",
       "      emb_97     emb_98     emb_99  \n",
       "0 -15.234282 -27.943871 -1.224820   \n",
       "1 -31.194061  18.958136  25.864012  \n",
       "2 -16.234632  28.117483  46.908470  \n",
       "3  4.853611  -3.863805   9.918034   \n",
       "4  3.286705   26.969088  18.922802  \n",
       "\n",
       "[5 rows x 101 columns]"
      ]
     },
     "execution_count": 59,
     "metadata": {},
     "output_type": "execute_result"
    }
   ],
   "source": [
    "uid_pid_emb_df = uid_pid_emb_df.reset_index()\n",
    "uid_pid_emb_df.head()"
   ]
  },
  {
   "cell_type": "markdown",
   "metadata": {
    "deletable": true,
    "editable": true
   },
   "source": [
    "## Prepare the training set\n",
    "\n",
    "joining all the features tables and the train set by user id\n",
    "\n",
    "All the feature tables:\n",
    "- num_orders_per_uid\n",
    "- num_product_per_user\n",
    "- user_dow\n",
    "- user_daytime\n",
    "- user_days_since_po\n",
    "- top3_reordered_pids_user\n",
    "- top1_reordered_aiesle_user\n",
    "- top1_reordered_dpmt_user\n",
    "- uid_pid_emb_df\n",
    "\n",
    "train set orders info:\n",
    "- orders_df[orders_df.eval_set = \"train\"]\n",
    "\n",
    "train set labels info:\n",
    "- \"../data/interim/train_labels.csv\""
   ]
  },
  {
   "cell_type": "code",
   "execution_count": 60,
   "metadata": {
    "collapsed": true,
    "deletable": true,
    "editable": true
   },
   "outputs": [],
   "source": [
    "X_features = pd.concat([num_orders_per_uid, num_product_per_user, user_dow, user_daytime, user_days_since_po,\\\n",
    "          top3_reordered_pids_user, top1_reordered_aiesle_user, top1_reordered_dpmt_user, uid_pid_emb_df], axis = 1)"
   ]
  },
  {
   "cell_type": "code",
   "execution_count": 61,
   "metadata": {
    "collapsed": false,
    "deletable": true,
    "editable": true
   },
   "outputs": [
    {
     "data": {
      "text/plain": [
       "(206209, 134)"
      ]
     },
     "execution_count": 61,
     "metadata": {},
     "output_type": "execute_result"
    }
   ],
   "source": [
    "X_features.shape"
   ]
  },
  {
   "cell_type": "code",
   "execution_count": 62,
   "metadata": {
    "collapsed": true,
    "deletable": true,
    "editable": true
   },
   "outputs": [],
   "source": [
    "X_features = X_features.loc[:, ~ X_features.columns.duplicated()]"
   ]
  },
  {
   "cell_type": "code",
   "execution_count": 63,
   "metadata": {
    "collapsed": false,
    "deletable": true,
    "editable": true
   },
   "outputs": [
    {
     "data": {
      "text/html": [
       "<div>\n",
       "<table border=\"1\" class=\"dataframe\">\n",
       "  <thead>\n",
       "    <tr style=\"text-align: right;\">\n",
       "      <th></th>\n",
       "      <th>user_id</th>\n",
       "      <th>num_orders</th>\n",
       "      <th>avg_num_reordered</th>\n",
       "      <th>avg_num_pids</th>\n",
       "      <th>perc_reordered</th>\n",
       "      <th>dow_0</th>\n",
       "      <th>dow_1</th>\n",
       "      <th>dow_2</th>\n",
       "      <th>dow_3</th>\n",
       "      <th>dow_4</th>\n",
       "      <th>...</th>\n",
       "      <th>emb_90</th>\n",
       "      <th>emb_91</th>\n",
       "      <th>emb_92</th>\n",
       "      <th>emb_93</th>\n",
       "      <th>emb_94</th>\n",
       "      <th>emb_95</th>\n",
       "      <th>emb_96</th>\n",
       "      <th>emb_97</th>\n",
       "      <th>emb_98</th>\n",
       "      <th>emb_99</th>\n",
       "    </tr>\n",
       "  </thead>\n",
       "  <tbody>\n",
       "    <tr>\n",
       "      <th>0</th>\n",
       "      <td>1</td>\n",
       "      <td>10</td>\n",
       "      <td>4.10</td>\n",
       "      <td>5.90</td>\n",
       "      <td>0.69</td>\n",
       "      <td>0.0</td>\n",
       "      <td>3.0</td>\n",
       "      <td>2.0</td>\n",
       "      <td>2.0</td>\n",
       "      <td>3.0</td>\n",
       "      <td>...</td>\n",
       "      <td>-9.796089</td>\n",
       "      <td>31.366833</td>\n",
       "      <td>36.130058</td>\n",
       "      <td>23.546530</td>\n",
       "      <td>10.425104</td>\n",
       "      <td>-45.494610</td>\n",
       "      <td>-41.286137</td>\n",
       "      <td>-15.234282</td>\n",
       "      <td>-27.943871</td>\n",
       "      <td>-1.224820</td>\n",
       "    </tr>\n",
       "    <tr>\n",
       "      <th>1</th>\n",
       "      <td>2</td>\n",
       "      <td>14</td>\n",
       "      <td>6.64</td>\n",
       "      <td>13.93</td>\n",
       "      <td>0.48</td>\n",
       "      <td>0.0</td>\n",
       "      <td>5.0</td>\n",
       "      <td>5.0</td>\n",
       "      <td>2.0</td>\n",
       "      <td>1.0</td>\n",
       "      <td>...</td>\n",
       "      <td>120.507309</td>\n",
       "      <td>-108.388176</td>\n",
       "      <td>1.776031</td>\n",
       "      <td>23.358995</td>\n",
       "      <td>-148.381149</td>\n",
       "      <td>88.404236</td>\n",
       "      <td>-56.325516</td>\n",
       "      <td>-31.194061</td>\n",
       "      <td>18.958136</td>\n",
       "      <td>25.864012</td>\n",
       "    </tr>\n",
       "    <tr>\n",
       "      <th>2</th>\n",
       "      <td>3</td>\n",
       "      <td>12</td>\n",
       "      <td>4.58</td>\n",
       "      <td>7.33</td>\n",
       "      <td>0.62</td>\n",
       "      <td>6.0</td>\n",
       "      <td>2.0</td>\n",
       "      <td>1.0</td>\n",
       "      <td>3.0</td>\n",
       "      <td>0.0</td>\n",
       "      <td>...</td>\n",
       "      <td>27.517372</td>\n",
       "      <td>-92.990982</td>\n",
       "      <td>48.024872</td>\n",
       "      <td>-35.506332</td>\n",
       "      <td>-128.823105</td>\n",
       "      <td>77.397263</td>\n",
       "      <td>16.856283</td>\n",
       "      <td>-16.234632</td>\n",
       "      <td>28.117483</td>\n",
       "      <td>46.908470</td>\n",
       "    </tr>\n",
       "    <tr>\n",
       "      <th>3</th>\n",
       "      <td>4</td>\n",
       "      <td>5</td>\n",
       "      <td>0.20</td>\n",
       "      <td>3.60</td>\n",
       "      <td>0.06</td>\n",
       "      <td>0.0</td>\n",
       "      <td>0.0</td>\n",
       "      <td>0.0</td>\n",
       "      <td>0.0</td>\n",
       "      <td>2.0</td>\n",
       "      <td>...</td>\n",
       "      <td>3.262614</td>\n",
       "      <td>18.981794</td>\n",
       "      <td>-9.738063</td>\n",
       "      <td>21.261660</td>\n",
       "      <td>2.639111</td>\n",
       "      <td>2.720276</td>\n",
       "      <td>-2.564438</td>\n",
       "      <td>4.853611</td>\n",
       "      <td>-3.863805</td>\n",
       "      <td>9.918034</td>\n",
       "    </tr>\n",
       "    <tr>\n",
       "      <th>4</th>\n",
       "      <td>5</td>\n",
       "      <td>4</td>\n",
       "      <td>3.50</td>\n",
       "      <td>9.25</td>\n",
       "      <td>0.38</td>\n",
       "      <td>1.0</td>\n",
       "      <td>1.0</td>\n",
       "      <td>0.0</td>\n",
       "      <td>2.0</td>\n",
       "      <td>0.0</td>\n",
       "      <td>...</td>\n",
       "      <td>-9.303144</td>\n",
       "      <td>-57.355591</td>\n",
       "      <td>-3.194045</td>\n",
       "      <td>-31.843639</td>\n",
       "      <td>-23.899057</td>\n",
       "      <td>35.830971</td>\n",
       "      <td>18.920025</td>\n",
       "      <td>3.286705</td>\n",
       "      <td>26.969088</td>\n",
       "      <td>18.922802</td>\n",
       "    </tr>\n",
       "  </tbody>\n",
       "</table>\n",
       "<p>5 rows × 126 columns</p>\n",
       "</div>"
      ],
      "text/plain": [
       "   user_id  num_orders  avg_num_reordered  avg_num_pids  perc_reordered  \\\n",
       "0  1        10          4.10               5.90          0.69             \n",
       "1  2        14          6.64               13.93         0.48             \n",
       "2  3        12          4.58               7.33          0.62             \n",
       "3  4        5           0.20               3.60          0.06             \n",
       "4  5        4           3.50               9.25          0.38             \n",
       "\n",
       "   dow_0  dow_1  dow_2  dow_3  dow_4    ...          emb_90      emb_91  \\\n",
       "0  0.0    3.0    2.0    2.0    3.0      ...     -9.796089    31.366833    \n",
       "1  0.0    5.0    5.0    2.0    1.0      ...      120.507309 -108.388176   \n",
       "2  6.0    2.0    1.0    3.0    0.0      ...      27.517372  -92.990982    \n",
       "3  0.0    0.0    0.0    0.0    2.0      ...      3.262614    18.981794    \n",
       "4  1.0    1.0    0.0    2.0    0.0      ...     -9.303144   -57.355591    \n",
       "\n",
       "      emb_92     emb_93      emb_94     emb_95     emb_96     emb_97  \\\n",
       "0  36.130058  23.546530  10.425104  -45.494610 -41.286137 -15.234282   \n",
       "1  1.776031   23.358995 -148.381149  88.404236 -56.325516 -31.194061   \n",
       "2  48.024872 -35.506332 -128.823105  77.397263  16.856283 -16.234632   \n",
       "3 -9.738063   21.261660  2.639111    2.720276  -2.564438   4.853611    \n",
       "4 -3.194045  -31.843639 -23.899057   35.830971  18.920025  3.286705    \n",
       "\n",
       "      emb_98     emb_99  \n",
       "0 -27.943871 -1.224820   \n",
       "1  18.958136  25.864012  \n",
       "2  28.117483  46.908470  \n",
       "3 -3.863805   9.918034   \n",
       "4  26.969088  18.922802  \n",
       "\n",
       "[5 rows x 126 columns]"
      ]
     },
     "execution_count": 63,
     "metadata": {},
     "output_type": "execute_result"
    }
   ],
   "source": [
    "X_features.head()"
   ]
  },
  {
   "cell_type": "code",
   "execution_count": 64,
   "metadata": {
    "collapsed": false,
    "deletable": true,
    "editable": true
   },
   "outputs": [],
   "source": [
    "# save the feature matrix for all users \n",
    "with open(\"../data/processed/all_users_features.pickle\", \"wb\") as handle:\n",
    "    pickle.dump(X_features, handle)"
   ]
  },
  {
   "cell_type": "markdown",
   "metadata": {
    "deletable": true,
    "editable": true
   },
   "source": [
    "- Get the train feature matrix"
   ]
  },
  {
   "cell_type": "code",
   "execution_count": 65,
   "metadata": {
    "collapsed": false,
    "deletable": true,
    "editable": true
   },
   "outputs": [],
   "source": [
    "X_train_orders = orders_df[orders_df.eval_set == \"train\"]"
   ]
  },
  {
   "cell_type": "code",
   "execution_count": 66,
   "metadata": {
    "collapsed": false,
    "deletable": true,
    "editable": true
   },
   "outputs": [
    {
     "data": {
      "text/plain": [
       "(131209, 7)"
      ]
     },
     "execution_count": 66,
     "metadata": {},
     "output_type": "execute_result"
    }
   ],
   "source": [
    "X_train_orders.shape"
   ]
  },
  {
   "cell_type": "code",
   "execution_count": 67,
   "metadata": {
    "collapsed": false,
    "deletable": true,
    "editable": true
   },
   "outputs": [
    {
     "data": {
      "text/html": [
       "<div>\n",
       "<table border=\"1\" class=\"dataframe\">\n",
       "  <thead>\n",
       "    <tr style=\"text-align: right;\">\n",
       "      <th></th>\n",
       "      <th>order_id</th>\n",
       "      <th>user_id</th>\n",
       "      <th>eval_set</th>\n",
       "      <th>order_number</th>\n",
       "      <th>order_dow</th>\n",
       "      <th>order_hour_of_day</th>\n",
       "      <th>days_since_prior_order</th>\n",
       "    </tr>\n",
       "  </thead>\n",
       "  <tbody>\n",
       "    <tr>\n",
       "      <th>10</th>\n",
       "      <td>1187899</td>\n",
       "      <td>1</td>\n",
       "      <td>train</td>\n",
       "      <td>11</td>\n",
       "      <td>4</td>\n",
       "      <td>8</td>\n",
       "      <td>14.0</td>\n",
       "    </tr>\n",
       "    <tr>\n",
       "      <th>25</th>\n",
       "      <td>1492625</td>\n",
       "      <td>2</td>\n",
       "      <td>train</td>\n",
       "      <td>15</td>\n",
       "      <td>1</td>\n",
       "      <td>11</td>\n",
       "      <td>30.0</td>\n",
       "    </tr>\n",
       "    <tr>\n",
       "      <th>49</th>\n",
       "      <td>2196797</td>\n",
       "      <td>5</td>\n",
       "      <td>train</td>\n",
       "      <td>5</td>\n",
       "      <td>0</td>\n",
       "      <td>11</td>\n",
       "      <td>6.0</td>\n",
       "    </tr>\n",
       "    <tr>\n",
       "      <th>74</th>\n",
       "      <td>525192</td>\n",
       "      <td>7</td>\n",
       "      <td>train</td>\n",
       "      <td>21</td>\n",
       "      <td>2</td>\n",
       "      <td>11</td>\n",
       "      <td>6.0</td>\n",
       "    </tr>\n",
       "    <tr>\n",
       "      <th>78</th>\n",
       "      <td>880375</td>\n",
       "      <td>8</td>\n",
       "      <td>train</td>\n",
       "      <td>4</td>\n",
       "      <td>1</td>\n",
       "      <td>14</td>\n",
       "      <td>10.0</td>\n",
       "    </tr>\n",
       "  </tbody>\n",
       "</table>\n",
       "</div>"
      ],
      "text/plain": [
       "    order_id  user_id eval_set  order_number  order_dow  order_hour_of_day  \\\n",
       "10  1187899   1        train    11            4          8                   \n",
       "25  1492625   2        train    15            1          11                  \n",
       "49  2196797   5        train    5             0          11                  \n",
       "74  525192    7        train    21            2          11                  \n",
       "78  880375    8        train    4             1          14                  \n",
       "\n",
       "    days_since_prior_order  \n",
       "10  14.0                    \n",
       "25  30.0                    \n",
       "49  6.0                     \n",
       "74  6.0                     \n",
       "78  10.0                    "
      ]
     },
     "execution_count": 67,
     "metadata": {},
     "output_type": "execute_result"
    }
   ],
   "source": [
    "X_train_orders.head()"
   ]
  },
  {
   "cell_type": "code",
   "execution_count": 68,
   "metadata": {
    "collapsed": false,
    "deletable": true,
    "editable": true
   },
   "outputs": [],
   "source": [
    "# combine with the train set order info with features info\n",
    "X_train = pd.merge(X_train_orders, X_features, how = \"inner\", on = \"user_id\")"
   ]
  },
  {
   "cell_type": "markdown",
   "metadata": {
    "deletable": true,
    "editable": true
   },
   "source": [
    "- join the train label information to keep the order consistent"
   ]
  },
  {
   "cell_type": "code",
   "execution_count": 69,
   "metadata": {
    "collapsed": true,
    "deletable": true,
    "editable": true
   },
   "outputs": [],
   "source": [
    "y_train_df = pd.read_csv(\"../data/interim/train_labels.csv\")"
   ]
  },
  {
   "cell_type": "code",
   "execution_count": 70,
   "metadata": {
    "collapsed": false,
    "deletable": true,
    "editable": true
   },
   "outputs": [
    {
     "data": {
      "text/html": [
       "<div>\n",
       "<table border=\"1\" class=\"dataframe\">\n",
       "  <thead>\n",
       "    <tr style=\"text-align: right;\">\n",
       "      <th></th>\n",
       "      <th>order_id</th>\n",
       "      <th>products</th>\n",
       "    </tr>\n",
       "  </thead>\n",
       "  <tbody>\n",
       "    <tr>\n",
       "      <th>0</th>\n",
       "      <td>1</td>\n",
       "      <td>49302 11109 43633 22035</td>\n",
       "    </tr>\n",
       "    <tr>\n",
       "      <th>1</th>\n",
       "      <td>36</td>\n",
       "      <td>19660 43086 46620 34497 48679 46979</td>\n",
       "    </tr>\n",
       "    <tr>\n",
       "      <th>2</th>\n",
       "      <td>38</td>\n",
       "      <td>21616</td>\n",
       "    </tr>\n",
       "    <tr>\n",
       "      <th>3</th>\n",
       "      <td>96</td>\n",
       "      <td>20574 40706 27966 24489 39275</td>\n",
       "    </tr>\n",
       "    <tr>\n",
       "      <th>4</th>\n",
       "      <td>98</td>\n",
       "      <td>8859 19731 43654 13176 4357 37664 34065 35951 43560 9896 27509 15455 27966 47601 40396 35042 40986 1939 46313 329 30776 36695 27683 15995 27344 47333 48287 45204 24964 18117 46413 34126 9373 22935 46720 44479 790 18441 45007 20520 7461 26317 3880 41387 17747</td>\n",
       "    </tr>\n",
       "  </tbody>\n",
       "</table>\n",
       "</div>"
      ],
      "text/plain": [
       "   order_id  \\\n",
       "0  1          \n",
       "1  36         \n",
       "2  38         \n",
       "3  96         \n",
       "4  98         \n",
       "\n",
       "                                                                                                                                                                                                                                                             products  \n",
       "0  49302 11109 43633 22035                                                                                                                                                                                                                                             \n",
       "1  19660 43086 46620 34497 48679 46979                                                                                                                                                                                                                                 \n",
       "2  21616                                                                                                                                                                                                                                                               \n",
       "3  20574 40706 27966 24489 39275                                                                                                                                                                                                                                       \n",
       "4  8859 19731 43654 13176 4357 37664 34065 35951 43560 9896 27509 15455 27966 47601 40396 35042 40986 1939 46313 329 30776 36695 27683 15995 27344 47333 48287 45204 24964 18117 46413 34126 9373 22935 46720 44479 790 18441 45007 20520 7461 26317 3880 41387 17747  "
      ]
     },
     "execution_count": 70,
     "metadata": {},
     "output_type": "execute_result"
    }
   ],
   "source": [
    "y_train_df.head()"
   ]
  },
  {
   "cell_type": "code",
   "execution_count": 71,
   "metadata": {
    "collapsed": false,
    "deletable": true,
    "editable": true
   },
   "outputs": [
    {
     "data": {
      "text/plain": [
       "(8602, 2)"
      ]
     },
     "execution_count": 71,
     "metadata": {},
     "output_type": "execute_result"
    }
   ],
   "source": [
    "y_train_df[y_train_df.products == \"None\"].shape"
   ]
  },
  {
   "cell_type": "code",
   "execution_count": 183,
   "metadata": {
    "collapsed": true,
    "deletable": true,
    "editable": true
   },
   "outputs": [],
   "source": [
    "# number of unique reordered pid outcomes\n",
    "pid_ls_str= ' '.join([pid_ls for pid_ls in y_train_df['products']])\n",
    "num_reordered_pids = len(set(pid_ls_str.split(' ')))"
   ]
  },
  {
   "cell_type": "code",
   "execution_count": 184,
   "metadata": {
    "collapsed": false,
    "deletable": true,
    "editable": true
   },
   "outputs": [
    {
     "data": {
      "text/plain": [
       "30177"
      ]
     },
     "execution_count": 184,
     "metadata": {},
     "output_type": "execute_result"
    }
   ],
   "source": [
    "num_reordered_pids"
   ]
  },
  {
   "cell_type": "markdown",
   "metadata": {},
   "source": [
    "- check the unique pids in the purchase history of users in the test set"
   ]
  },
  {
   "cell_type": "code",
   "execution_count": 73,
   "metadata": {
    "collapsed": false
   },
   "outputs": [],
   "source": [
    "test_user_ids = orders_df[orders_df.eval_set==\"test\"]['user_id'].tolist()"
   ]
  },
  {
   "cell_type": "code",
   "execution_count": 115,
   "metadata": {
    "collapsed": true
   },
   "outputs": [],
   "source": [
    "def products_concat(series):\n",
    "    out = ''\n",
    "    for product in series:\n",
    "        if product > 0:\n",
    "            out = out + str(int(product)) + ' '\n",
    "    \n",
    "    if out != '':\n",
    "        return out.rstrip()\n",
    "    else:\n",
    "        return 'None'"
   ]
  },
  {
   "cell_type": "code",
   "execution_count": 122,
   "metadata": {
    "collapsed": false
   },
   "outputs": [],
   "source": [
    "test_uid_prev_prods = orders_df[(orders_df.user_id.isin(test_user_ids)) & (orders_df.eval_set=='prior')].merge(op_prior_df, on = \"order_id\")"
   ]
  },
  {
   "cell_type": "code",
   "execution_count": 124,
   "metadata": {
    "collapsed": false
   },
   "outputs": [],
   "source": [
    "test_users_prev_orders_prods = test_uid_prev_prods.groupby('user_id')['product_id'].apply(products_concat).reset_index()"
   ]
  },
  {
   "cell_type": "code",
   "execution_count": 131,
   "metadata": {
    "collapsed": false
   },
   "outputs": [
    {
     "data": {
      "text/html": [
       "<div>\n",
       "<table border=\"1\" class=\"dataframe\">\n",
       "  <thead>\n",
       "    <tr style=\"text-align: right;\">\n",
       "      <th></th>\n",
       "      <th>user_id</th>\n",
       "      <th>product_id</th>\n",
       "    </tr>\n",
       "  </thead>\n",
       "  <tbody>\n",
       "    <tr>\n",
       "      <th>0</th>\n",
       "      <td>3</td>\n",
       "      <td>9387 17668 15143 16797 39190 47766 21903 39922 24810 32402 38596 21903 248 40604 8021 17668 21137 23650 32402 39190 47766 21903 49683 28373 7503 1819 12845 9387 16965 24010 39190 9387 17668 47766 16965 28373 21903 22035 42265 18370 44683 22035 39190 9387 47766 1819 24810 14992 44683 39190 1819 21903 43961 16797 24010 14992 18599 9387 39190 22035 43961 18599 21903 47766 42557 48523 39190 47766 16797 43961 48523 18599 17668 47766 39190 1005 32402 39190 47766 21903 43961 17668 39190 18599 23650 21903 47766 24810</td>\n",
       "    </tr>\n",
       "    <tr>\n",
       "      <th>1</th>\n",
       "      <td>4</td>\n",
       "      <td>36606 7350 35469 2707 42329 7160 1200 17769 43704 37646 11865 35469 19057 22199 25146 26576 25623 21573</td>\n",
       "    </tr>\n",
       "    <tr>\n",
       "      <th>2</th>\n",
       "      <td>6</td>\n",
       "      <td>27521 38293 21903 48679 38293 20323 40992 21903 45007 11068 10644 49401 25659 8424</td>\n",
       "    </tr>\n",
       "    <tr>\n",
       "      <th>3</th>\n",
       "      <td>11</td>\n",
       "      <td>47912 8309 28465 42585 36070 2002 16869 35765 35738 18987 10644 38456 35640 47601 18465 35640 35948 8670 14947 42585 41290 34658 33731 27959 36070 23400 41290 14947 35948 27959 8197 8670 33731 35640 33572 42585 16869 34658 8309 38456 19543 35948 8309 8670 5605 95 19769 14947 12384 28465 26209 38970 10644 42736 27451 20383 30855 44632 43352 44987 27959 35948 8230 30480 22950 34551 44632 15261 33037 20383 35321 27959 40738 41319 28465 8309 14947 34658 40055 24799 17706 33572 27959 48697 49374 8309 30563 5989 41909 17794 13176 4799 33021 21040</td>\n",
       "    </tr>\n",
       "    <tr>\n",
       "      <th>4</th>\n",
       "      <td>12</td>\n",
       "      <td>17159 21616 40377 13176 10863 17766 7076 28134 46157 20350 48835 33761 28985 5876 34358 11845 21198 27243 12206 14992 5746 47672 8239 38164 42450 12872 44683 10863 7076 20350 16589 34216 13176 14992 42736 21616 19895 18761 45056 37646 38693 47144 8239 44661 22935 35345 12797 10978 33443 28342 20144 5746 13176 14992 44422 11520 31506 22959 7120 37687 19006 39667 17794 28134 10863 7076 30489 49683 24390 47509 34243 48364 16185 248</td>\n",
       "    </tr>\n",
       "  </tbody>\n",
       "</table>\n",
       "</div>"
      ],
      "text/plain": [
       "   user_id  \\\n",
       "0  3         \n",
       "1  4         \n",
       "2  6         \n",
       "3  11        \n",
       "4  12        \n",
       "\n",
       "                                                                                                                                                                                                                                                                                                                                                                                                                                                                                                                                                           product_id  \n",
       "0  9387 17668 15143 16797 39190 47766 21903 39922 24810 32402 38596 21903 248 40604 8021 17668 21137 23650 32402 39190 47766 21903 49683 28373 7503 1819 12845 9387 16965 24010 39190 9387 17668 47766 16965 28373 21903 22035 42265 18370 44683 22035 39190 9387 47766 1819 24810 14992 44683 39190 1819 21903 43961 16797 24010 14992 18599 9387 39190 22035 43961 18599 21903 47766 42557 48523 39190 47766 16797 43961 48523 18599 17668 47766 39190 1005 32402 39190 47766 21903 43961 17668 39190 18599 23650 21903 47766 24810                                  \n",
       "1  36606 7350 35469 2707 42329 7160 1200 17769 43704 37646 11865 35469 19057 22199 25146 26576 25623 21573                                                                                                                                                                                                                                                                                                                                                                                                                                                             \n",
       "2  27521 38293 21903 48679 38293 20323 40992 21903 45007 11068 10644 49401 25659 8424                                                                                                                                                                                                                                                                                                                                                                                                                                                                                  \n",
       "3  47912 8309 28465 42585 36070 2002 16869 35765 35738 18987 10644 38456 35640 47601 18465 35640 35948 8670 14947 42585 41290 34658 33731 27959 36070 23400 41290 14947 35948 27959 8197 8670 33731 35640 33572 42585 16869 34658 8309 38456 19543 35948 8309 8670 5605 95 19769 14947 12384 28465 26209 38970 10644 42736 27451 20383 30855 44632 43352 44987 27959 35948 8230 30480 22950 34551 44632 15261 33037 20383 35321 27959 40738 41319 28465 8309 14947 34658 40055 24799 17706 33572 27959 48697 49374 8309 30563 5989 41909 17794 13176 4799 33021 21040  \n",
       "4  17159 21616 40377 13176 10863 17766 7076 28134 46157 20350 48835 33761 28985 5876 34358 11845 21198 27243 12206 14992 5746 47672 8239 38164 42450 12872 44683 10863 7076 20350 16589 34216 13176 14992 42736 21616 19895 18761 45056 37646 38693 47144 8239 44661 22935 35345 12797 10978 33443 28342 20144 5746 13176 14992 44422 11520 31506 22959 7120 37687 19006 39667 17794 28134 10863 7076 30489 49683 24390 47509 34243 48364 16185 248                                                                                                                    "
      ]
     },
     "execution_count": 131,
     "metadata": {},
     "output_type": "execute_result"
    }
   ],
   "source": [
    "test_users_prev_orders_prods.head()"
   ]
  },
  {
   "cell_type": "code",
   "execution_count": 132,
   "metadata": {
    "collapsed": true
   },
   "outputs": [],
   "source": [
    "test_users_prev_orders_prods.to_csv(\"../data/interim/test_users_pids_bought.csv\")"
   ]
  },
  {
   "cell_type": "code",
   "execution_count": 128,
   "metadata": {
    "collapsed": false
   },
   "outputs": [
    {
     "data": {
      "text/plain": [
       "48457"
      ]
     },
     "execution_count": 128,
     "metadata": {},
     "output_type": "execute_result"
    }
   ],
   "source": [
    "# number of products for users in the test set \n",
    "test_pid_ls_str= ' '.join([pid_ls for pid_ls in test_users_prev_orders_prods['product_id']])\n",
    "len(set(test_pid_ls_str.split(' ')))"
   ]
  },
  {
   "cell_type": "code",
   "execution_count": 135,
   "metadata": {
    "collapsed": false
   },
   "outputs": [
    {
     "data": {
      "text/plain": [
       "49688"
      ]
     },
     "execution_count": 135,
     "metadata": {},
     "output_type": "execute_result"
    }
   ],
   "source": [
    "products_df.product_id.nunique()"
   ]
  },
  {
   "cell_type": "markdown",
   "metadata": {},
   "source": [
    "So it seems there are unseen product in the test set. It's better to represent the label to be a 49688 length of indicator vector."
   ]
  },
  {
   "cell_type": "code",
   "execution_count": 136,
   "metadata": {
    "collapsed": true,
    "deletable": true,
    "editable": true
   },
   "outputs": [],
   "source": [
    "X_train = pd.merge(X_train, y_train_df, how = \"inner\", on = \"order_id\")"
   ]
  },
  {
   "cell_type": "code",
   "execution_count": 137,
   "metadata": {
    "collapsed": false,
    "deletable": true,
    "editable": true
   },
   "outputs": [
    {
     "data": {
      "text/html": [
       "<div>\n",
       "<table border=\"1\" class=\"dataframe\">\n",
       "  <thead>\n",
       "    <tr style=\"text-align: right;\">\n",
       "      <th></th>\n",
       "      <th>order_id</th>\n",
       "      <th>user_id</th>\n",
       "      <th>eval_set</th>\n",
       "      <th>order_number</th>\n",
       "      <th>order_dow</th>\n",
       "      <th>order_hour_of_day</th>\n",
       "      <th>days_since_prior_order</th>\n",
       "      <th>num_orders</th>\n",
       "      <th>avg_num_reordered</th>\n",
       "      <th>avg_num_pids</th>\n",
       "      <th>...</th>\n",
       "      <th>emb_91</th>\n",
       "      <th>emb_92</th>\n",
       "      <th>emb_93</th>\n",
       "      <th>emb_94</th>\n",
       "      <th>emb_95</th>\n",
       "      <th>emb_96</th>\n",
       "      <th>emb_97</th>\n",
       "      <th>emb_98</th>\n",
       "      <th>emb_99</th>\n",
       "      <th>products</th>\n",
       "    </tr>\n",
       "  </thead>\n",
       "  <tbody>\n",
       "    <tr>\n",
       "      <th>0</th>\n",
       "      <td>1187899</td>\n",
       "      <td>1</td>\n",
       "      <td>train</td>\n",
       "      <td>11</td>\n",
       "      <td>4</td>\n",
       "      <td>8</td>\n",
       "      <td>14.0</td>\n",
       "      <td>10</td>\n",
       "      <td>4.10</td>\n",
       "      <td>5.90</td>\n",
       "      <td>...</td>\n",
       "      <td>31.366833</td>\n",
       "      <td>36.130058</td>\n",
       "      <td>23.546530</td>\n",
       "      <td>10.425104</td>\n",
       "      <td>-45.494610</td>\n",
       "      <td>-41.286137</td>\n",
       "      <td>-15.234282</td>\n",
       "      <td>-27.943871</td>\n",
       "      <td>-1.224820</td>\n",
       "      <td>196 25133 38928 26405 39657 10258 13032 26088 49235 46149</td>\n",
       "    </tr>\n",
       "    <tr>\n",
       "      <th>1</th>\n",
       "      <td>1492625</td>\n",
       "      <td>2</td>\n",
       "      <td>train</td>\n",
       "      <td>15</td>\n",
       "      <td>1</td>\n",
       "      <td>11</td>\n",
       "      <td>30.0</td>\n",
       "      <td>14</td>\n",
       "      <td>6.64</td>\n",
       "      <td>13.93</td>\n",
       "      <td>...</td>\n",
       "      <td>-108.388176</td>\n",
       "      <td>1.776031</td>\n",
       "      <td>23.358995</td>\n",
       "      <td>-148.381149</td>\n",
       "      <td>88.404236</td>\n",
       "      <td>-56.325516</td>\n",
       "      <td>-31.194061</td>\n",
       "      <td>18.958136</td>\n",
       "      <td>25.864012</td>\n",
       "      <td>22963 7963 16589 32792 41787 22825 24852 45066 5450 22559 45613 33957</td>\n",
       "    </tr>\n",
       "    <tr>\n",
       "      <th>2</th>\n",
       "      <td>2196797</td>\n",
       "      <td>5</td>\n",
       "      <td>train</td>\n",
       "      <td>5</td>\n",
       "      <td>0</td>\n",
       "      <td>11</td>\n",
       "      <td>6.0</td>\n",
       "      <td>4</td>\n",
       "      <td>3.50</td>\n",
       "      <td>9.25</td>\n",
       "      <td>...</td>\n",
       "      <td>-57.355591</td>\n",
       "      <td>-3.194045</td>\n",
       "      <td>-31.843639</td>\n",
       "      <td>-23.899057</td>\n",
       "      <td>35.830971</td>\n",
       "      <td>18.920025</td>\n",
       "      <td>3.286705</td>\n",
       "      <td>26.969088</td>\n",
       "      <td>18.922802</td>\n",
       "      <td>15349 21413 40706 21616</td>\n",
       "    </tr>\n",
       "    <tr>\n",
       "      <th>3</th>\n",
       "      <td>525192</td>\n",
       "      <td>7</td>\n",
       "      <td>train</td>\n",
       "      <td>21</td>\n",
       "      <td>2</td>\n",
       "      <td>11</td>\n",
       "      <td>6.0</td>\n",
       "      <td>20</td>\n",
       "      <td>6.90</td>\n",
       "      <td>10.30</td>\n",
       "      <td>...</td>\n",
       "      <td>-231.748123</td>\n",
       "      <td>153.659866</td>\n",
       "      <td>-317.609009</td>\n",
       "      <td>-251.143356</td>\n",
       "      <td>128.311203</td>\n",
       "      <td>74.937943</td>\n",
       "      <td>62.291996</td>\n",
       "      <td>195.875809</td>\n",
       "      <td>28.809772</td>\n",
       "      <td>47272 37999 13198 43967 40852 17638 29894 45066</td>\n",
       "    </tr>\n",
       "    <tr>\n",
       "      <th>4</th>\n",
       "      <td>880375</td>\n",
       "      <td>8</td>\n",
       "      <td>train</td>\n",
       "      <td>4</td>\n",
       "      <td>1</td>\n",
       "      <td>14</td>\n",
       "      <td>10.0</td>\n",
       "      <td>3</td>\n",
       "      <td>4.33</td>\n",
       "      <td>16.33</td>\n",
       "      <td>...</td>\n",
       "      <td>-77.055519</td>\n",
       "      <td>8.204720</td>\n",
       "      <td>-58.113785</td>\n",
       "      <td>-44.359272</td>\n",
       "      <td>59.807442</td>\n",
       "      <td>53.728695</td>\n",
       "      <td>-11.124917</td>\n",
       "      <td>-11.276837</td>\n",
       "      <td>11.506551</td>\n",
       "      <td>15937 23165 21903 41540</td>\n",
       "    </tr>\n",
       "  </tbody>\n",
       "</table>\n",
       "<p>5 rows × 133 columns</p>\n",
       "</div>"
      ],
      "text/plain": [
       "   order_id  user_id eval_set  order_number  order_dow  order_hour_of_day  \\\n",
       "0  1187899   1        train    11            4          8                   \n",
       "1  1492625   2        train    15            1          11                  \n",
       "2  2196797   5        train    5             0          11                  \n",
       "3  525192    7        train    21            2          11                  \n",
       "4  880375    8        train    4             1          14                  \n",
       "\n",
       "   days_since_prior_order  num_orders  avg_num_reordered  avg_num_pids  \\\n",
       "0  14.0                    10          4.10               5.90           \n",
       "1  30.0                    14          6.64               13.93          \n",
       "2  6.0                     4           3.50               9.25           \n",
       "3  6.0                     20          6.90               10.30          \n",
       "4  10.0                    3           4.33               16.33          \n",
       "\n",
       "                                   ...                                    \\\n",
       "0                                  ...                                     \n",
       "1                                  ...                                     \n",
       "2                                  ...                                     \n",
       "3                                  ...                                     \n",
       "4                                  ...                                     \n",
       "\n",
       "       emb_91      emb_92      emb_93      emb_94      emb_95     emb_96  \\\n",
       "0  31.366833   36.130058   23.546530   10.425104  -45.494610  -41.286137   \n",
       "1 -108.388176  1.776031    23.358995  -148.381149  88.404236  -56.325516   \n",
       "2 -57.355591  -3.194045   -31.843639  -23.899057   35.830971   18.920025   \n",
       "3 -231.748123  153.659866 -317.609009 -251.143356  128.311203  74.937943   \n",
       "4 -77.055519   8.204720   -58.113785  -44.359272   59.807442   53.728695   \n",
       "\n",
       "      emb_97      emb_98     emb_99  \\\n",
       "0 -15.234282 -27.943871  -1.224820    \n",
       "1 -31.194061  18.958136   25.864012   \n",
       "2  3.286705   26.969088   18.922802   \n",
       "3  62.291996  195.875809  28.809772   \n",
       "4 -11.124917 -11.276837   11.506551   \n",
       "\n",
       "                                                                products  \n",
       "0  196 25133 38928 26405 39657 10258 13032 26088 49235 46149              \n",
       "1  22963 7963 16589 32792 41787 22825 24852 45066 5450 22559 45613 33957  \n",
       "2  15349 21413 40706 21616                                                \n",
       "3  47272 37999 13198 43967 40852 17638 29894 45066                        \n",
       "4  15937 23165 21903 41540                                                \n",
       "\n",
       "[5 rows x 133 columns]"
      ]
     },
     "execution_count": 137,
     "metadata": {},
     "output_type": "execute_result"
    }
   ],
   "source": [
    "X_train.head()"
   ]
  },
  {
   "cell_type": "code",
   "execution_count": 223,
   "metadata": {
    "collapsed": false,
    "deletable": true,
    "editable": true
   },
   "outputs": [
    {
     "data": {
      "text/html": [
       "<div>\n",
       "<table border=\"1\" class=\"dataframe\">\n",
       "  <thead>\n",
       "    <tr style=\"text-align: right;\">\n",
       "      <th></th>\n",
       "      <th>order_id</th>\n",
       "      <th>user_id</th>\n",
       "      <th>eval_set</th>\n",
       "      <th>order_number</th>\n",
       "      <th>order_dow</th>\n",
       "      <th>order_hour_of_day</th>\n",
       "      <th>days_since_prior_order</th>\n",
       "      <th>num_orders</th>\n",
       "      <th>avg_num_reordered</th>\n",
       "      <th>avg_num_pids</th>\n",
       "      <th>...</th>\n",
       "      <th>emb_91</th>\n",
       "      <th>emb_92</th>\n",
       "      <th>emb_93</th>\n",
       "      <th>emb_94</th>\n",
       "      <th>emb_95</th>\n",
       "      <th>emb_96</th>\n",
       "      <th>emb_97</th>\n",
       "      <th>emb_98</th>\n",
       "      <th>emb_99</th>\n",
       "      <th>products</th>\n",
       "    </tr>\n",
       "  </thead>\n",
       "  <tbody>\n",
       "    <tr>\n",
       "      <th>6</th>\n",
       "      <td>1822501</td>\n",
       "      <td>10</td>\n",
       "      <td>train</td>\n",
       "      <td>6</td>\n",
       "      <td>0</td>\n",
       "      <td>19</td>\n",
       "      <td>30.0</td>\n",
       "      <td>5</td>\n",
       "      <td>9.800000</td>\n",
       "      <td>28.600000</td>\n",
       "      <td>...</td>\n",
       "      <td>-230.211487</td>\n",
       "      <td>5.730721</td>\n",
       "      <td>-106.121880</td>\n",
       "      <td>-142.539398</td>\n",
       "      <td>160.519669</td>\n",
       "      <td>101.908089</td>\n",
       "      <td>-38.074680</td>\n",
       "      <td>69.347435</td>\n",
       "      <td>4.375209</td>\n",
       "      <td>None</td>\n",
       "    </tr>\n",
       "    <tr>\n",
       "      <th>23</th>\n",
       "      <td>2436259</td>\n",
       "      <td>44</td>\n",
       "      <td>train</td>\n",
       "      <td>4</td>\n",
       "      <td>0</td>\n",
       "      <td>12</td>\n",
       "      <td>30.0</td>\n",
       "      <td>3</td>\n",
       "      <td>2.333333</td>\n",
       "      <td>12.333333</td>\n",
       "      <td>...</td>\n",
       "      <td>19.159031</td>\n",
       "      <td>-1.656268</td>\n",
       "      <td>5.061689</td>\n",
       "      <td>28.789291</td>\n",
       "      <td>-2.363226</td>\n",
       "      <td>3.690811</td>\n",
       "      <td>-17.018866</td>\n",
       "      <td>-2.435671</td>\n",
       "      <td>-4.854250</td>\n",
       "      <td>None</td>\n",
       "    </tr>\n",
       "    <tr>\n",
       "      <th>25</th>\n",
       "      <td>2906490</td>\n",
       "      <td>47</td>\n",
       "      <td>train</td>\n",
       "      <td>6</td>\n",
       "      <td>4</td>\n",
       "      <td>22</td>\n",
       "      <td>16.0</td>\n",
       "      <td>5</td>\n",
       "      <td>1.000000</td>\n",
       "      <td>5.200000</td>\n",
       "      <td>...</td>\n",
       "      <td>-7.445229</td>\n",
       "      <td>10.061296</td>\n",
       "      <td>-16.668764</td>\n",
       "      <td>8.518276</td>\n",
       "      <td>4.098104</td>\n",
       "      <td>8.319317</td>\n",
       "      <td>-2.216025</td>\n",
       "      <td>-2.315904</td>\n",
       "      <td>-4.365201</td>\n",
       "      <td>None</td>\n",
       "    </tr>\n",
       "    <tr>\n",
       "      <th>58</th>\n",
       "      <td>1179185</td>\n",
       "      <td>93</td>\n",
       "      <td>train</td>\n",
       "      <td>15</td>\n",
       "      <td>1</td>\n",
       "      <td>10</td>\n",
       "      <td>5.0</td>\n",
       "      <td>14</td>\n",
       "      <td>0.357143</td>\n",
       "      <td>2.214286</td>\n",
       "      <td>...</td>\n",
       "      <td>27.313814</td>\n",
       "      <td>-18.379974</td>\n",
       "      <td>11.125583</td>\n",
       "      <td>2.677087</td>\n",
       "      <td>7.727707</td>\n",
       "      <td>-9.927894</td>\n",
       "      <td>-14.212251</td>\n",
       "      <td>-13.137720</td>\n",
       "      <td>3.635296</td>\n",
       "      <td>None</td>\n",
       "    </tr>\n",
       "    <tr>\n",
       "      <th>72</th>\n",
       "      <td>3032922</td>\n",
       "      <td>112</td>\n",
       "      <td>train</td>\n",
       "      <td>27</td>\n",
       "      <td>2</td>\n",
       "      <td>18</td>\n",
       "      <td>6.0</td>\n",
       "      <td>26</td>\n",
       "      <td>3.538462</td>\n",
       "      <td>6.076923</td>\n",
       "      <td>...</td>\n",
       "      <td>-123.882759</td>\n",
       "      <td>-23.177948</td>\n",
       "      <td>-42.518337</td>\n",
       "      <td>-171.473160</td>\n",
       "      <td>89.357986</td>\n",
       "      <td>78.872139</td>\n",
       "      <td>35.444054</td>\n",
       "      <td>140.189163</td>\n",
       "      <td>-4.364416</td>\n",
       "      <td>None</td>\n",
       "    </tr>\n",
       "  </tbody>\n",
       "</table>\n",
       "<p>5 rows × 132 columns</p>\n",
       "</div>"
      ],
      "text/plain": [
       "    order_id  user_id eval_set  order_number  order_dow  order_hour_of_day  \\\n",
       "6   1822501   10       train    6             0          19                  \n",
       "23  2436259   44       train    4             0          12                  \n",
       "25  2906490   47       train    6             4          22                  \n",
       "58  1179185   93       train    15            1          10                  \n",
       "72  3032922   112      train    27            2          18                  \n",
       "\n",
       "    days_since_prior_order  num_orders  avg_num_reordered  avg_num_pids  \\\n",
       "6   30.0                    5           9.800000           28.600000      \n",
       "23  30.0                    3           2.333333           12.333333      \n",
       "25  16.0                    5           1.000000           5.200000       \n",
       "58  5.0                     14          0.357143           2.214286       \n",
       "72  6.0                     26          3.538462           6.076923       \n",
       "\n",
       "      ...         emb_91     emb_92      emb_93      emb_94      emb_95  \\\n",
       "6     ...    -230.211487  5.730721  -106.121880 -142.539398  160.519669   \n",
       "23    ...     19.159031  -1.656268   5.061689    28.789291  -2.363226     \n",
       "25    ...    -7.445229    10.061296 -16.668764   8.518276    4.098104     \n",
       "58    ...     27.313814  -18.379974  11.125583   2.677087    7.727707     \n",
       "72    ...    -123.882759 -23.177948 -42.518337  -171.473160  89.357986    \n",
       "\n",
       "        emb_96     emb_97      emb_98    emb_99  products  \n",
       "6   101.908089 -38.074680  69.347435   4.375209  None      \n",
       "23  3.690811   -17.018866 -2.435671   -4.854250  None      \n",
       "25  8.319317   -2.216025  -2.315904   -4.365201  None      \n",
       "58 -9.927894   -14.212251 -13.137720   3.635296  None      \n",
       "72  78.872139   35.444054  140.189163 -4.364416  None      \n",
       "\n",
       "[5 rows x 132 columns]"
      ]
     },
     "execution_count": 223,
     "metadata": {},
     "output_type": "execute_result"
    }
   ],
   "source": [
    "X_train[X_train.products == \"None\"].head()"
   ]
  },
  {
   "cell_type": "code",
   "execution_count": 140,
   "metadata": {
    "collapsed": false
   },
   "outputs": [
    {
     "data": {
      "text/plain": [
       "49688"
      ]
     },
     "execution_count": 140,
     "metadata": {},
     "output_type": "execute_result"
    }
   ],
   "source": [
    "list(set(products_df.product_id))"
   ]
  },
  {
   "cell_type": "code",
   "execution_count": 173,
   "metadata": {
    "collapsed": false
   },
   "outputs": [],
   "source": [
    "all_outcomes = ['None'] + list(set(products_df.product_id.astype('str')))"
   ]
  },
  {
   "cell_type": "code",
   "execution_count": 174,
   "metadata": {
    "collapsed": false
   },
   "outputs": [
    {
     "data": {
      "text/plain": [
       "49689"
      ]
     },
     "execution_count": 174,
     "metadata": {},
     "output_type": "execute_result"
    }
   ],
   "source": [
    "len(all_outcomes)"
   ]
  },
  {
   "cell_type": "code",
   "execution_count": 175,
   "metadata": {
    "collapsed": true,
    "deletable": true,
    "editable": true
   },
   "outputs": [],
   "source": [
    "labels_tuple_ls = [tuple(label.split(' ')) for label in X_train['products']]"
   ]
  },
  {
   "cell_type": "code",
   "execution_count": 176,
   "metadata": {
    "collapsed": false,
    "deletable": true,
    "editable": true
   },
   "outputs": [
    {
     "data": {
      "text/plain": [
       "('None',)"
      ]
     },
     "execution_count": 176,
     "metadata": {},
     "output_type": "execute_result"
    }
   ],
   "source": [
    "labels_tuple_ls[6] #double check"
   ]
  },
  {
   "cell_type": "code",
   "execution_count": 177,
   "metadata": {
    "collapsed": true,
    "deletable": true,
    "editable": true
   },
   "outputs": [],
   "source": [
    "mlb = MultiLabelBinarizer(sparse_output=True)"
   ]
  },
  {
   "cell_type": "code",
   "execution_count": 178,
   "metadata": {
    "collapsed": false,
    "deletable": true,
    "editable": true
   },
   "outputs": [
    {
     "data": {
      "text/plain": [
       "MultiLabelBinarizer(classes=None, sparse_output=True)"
      ]
     },
     "execution_count": 178,
     "metadata": {},
     "output_type": "execute_result"
    }
   ],
   "source": [
    "mlb.fit([all_outcomes])"
   ]
  },
  {
   "cell_type": "code",
   "execution_count": 179,
   "metadata": {
    "collapsed": false
   },
   "outputs": [
    {
     "data": {
      "text/plain": [
       "array(['1', '10', '100', ..., '9998', '9999', 'None'], dtype=object)"
      ]
     },
     "execution_count": 179,
     "metadata": {},
     "output_type": "execute_result"
    }
   ],
   "source": [
    "mlb.classes_"
   ]
  },
  {
   "cell_type": "code",
   "execution_count": 180,
   "metadata": {
    "collapsed": false
   },
   "outputs": [],
   "source": [
    "y_train = mlb.transform(labels_tuple_ls)"
   ]
  },
  {
   "cell_type": "code",
   "execution_count": 181,
   "metadata": {
    "collapsed": false,
    "deletable": true,
    "editable": true
   },
   "outputs": [
    {
     "data": {
      "text/plain": [
       "scipy.sparse.csr.csr_matrix"
      ]
     },
     "execution_count": 181,
     "metadata": {},
     "output_type": "execute_result"
    }
   ],
   "source": [
    "type(y_train)"
   ]
  },
  {
   "cell_type": "code",
   "execution_count": 182,
   "metadata": {
    "collapsed": false
   },
   "outputs": [
    {
     "data": {
      "text/plain": [
       "(131209, 49689)"
      ]
     },
     "execution_count": 182,
     "metadata": {},
     "output_type": "execute_result"
    }
   ],
   "source": [
    "y_train.shape"
   ]
  },
  {
   "cell_type": "code",
   "execution_count": 183,
   "metadata": {
    "collapsed": false,
    "deletable": true,
    "editable": true
   },
   "outputs": [
    {
     "data": {
      "text/plain": [
       "3349704"
      ]
     },
     "execution_count": 183,
     "metadata": {},
     "output_type": "execute_result"
    }
   ],
   "source": [
    "y_train.data.nbytes # 3.35 MB"
   ]
  },
  {
   "cell_type": "code",
   "execution_count": 184,
   "metadata": {
    "collapsed": true,
    "deletable": true,
    "editable": true
   },
   "outputs": [],
   "source": [
    "#save the transformed train lables \n",
    "with open(\"../data/processed/y_train.pickle\", \"wb\") as handle:\n",
    "    pickle.dump(y_train, handle)"
   ]
  },
  {
   "cell_type": "markdown",
   "metadata": {
    "deletable": true,
    "editable": true
   },
   "source": [
    "- reduce the data memory usage"
   ]
  },
  {
   "cell_type": "code",
   "execution_count": 185,
   "metadata": {
    "collapsed": false,
    "deletable": true,
    "editable": true
   },
   "outputs": [
    {
     "name": "stdout",
     "output_type": "stream",
     "text": [
      "<class 'pandas.core.frame.DataFrame'>\n",
      "Int64Index: 131209 entries, 0 to 131208\n",
      "Columns: 133 entries, order_id to products\n",
      "dtypes: float32(100), float64(23), int64(6), object(4)\n",
      "memory usage: 116.2 MB\n"
     ]
    }
   ],
   "source": [
    "X_train.info(memory_usage= \"deep\")"
   ]
  },
  {
   "cell_type": "code",
   "execution_count": 186,
   "metadata": {
    "collapsed": false,
    "deletable": true,
    "editable": true
   },
   "outputs": [],
   "source": [
    "# preprocess the data\n",
    "features = X_train.columns\n",
    "drop_cols = ['order_id', 'eval_set', 'products']\n",
    "uint8_cols = features[features.str.startswith(\"dow_\")].tolist() +\\\n",
    "             features[features.str.startswith(\"daytime_\")].tolist() +\\\n",
    "             features[features.str.startswith(\"order_\")].tolist() +\\\n",
    "             features[features.str.startswith(\"avg_\")].tolist() +\\\n",
    "             [\"days_since_prior_order\", \"avg_days_since_prior_order\"]\n",
    "uint8_cols.remove('order_id')\n",
    "str_cat_cols = features[features.str.startswith(\"top\")].tolist() + \\\n",
    "               features[features.str.startswith(\"most_reordered_\")].tolist() +\\\n",
    "                ['most_daytime', 'most_dow']\n",
    "round_cols = features[features.str.startswith(\"emb\")].tolist()"
   ]
  },
  {
   "cell_type": "code",
   "execution_count": 187,
   "metadata": {
    "collapsed": true,
    "deletable": true,
    "editable": true
   },
   "outputs": [],
   "source": [
    "def clean_data_type(df, convert_ls, float_round_ls = None, drop_cols_ls = None):\n",
    "    df = df.copy()\n",
    "    df = df.drop(drop_cols_ls, axis = 1)\n",
    "    \n",
    "    for ct in convert_ls:\n",
    "        convert_type = ct[0]\n",
    "        convert_cols = ct[1]\n",
    "        for col in convert_cols:\n",
    "            df[col] = df[col].astype(convert_type)\n",
    "    \n",
    "    df[float_round_ls] = np.round(df[float_round_ls], 2)\n",
    "    \n",
    "    return df"
   ]
  },
  {
   "cell_type": "code",
   "execution_count": 188,
   "metadata": {
    "collapsed": false,
    "deletable": true,
    "editable": true
   },
   "outputs": [],
   "source": [
    "convert_cols = [('uint8', uint8_cols), ('str', str_cat_cols)]\n",
    "X_train = clean_data_type(X_train, convert_ls = convert_cols, float_round_ls = round_cols, drop_cols_ls = drop_cols)"
   ]
  },
  {
   "cell_type": "code",
   "execution_count": 189,
   "metadata": {
    "collapsed": false,
    "deletable": true,
    "editable": true
   },
   "outputs": [
    {
     "name": "stdout",
     "output_type": "stream",
     "text": [
      "<class 'pandas.core.frame.DataFrame'>\n",
      "Int64Index: 131209 entries, 0 to 131208\n",
      "Columns: 130 entries, user_id to emb_99\n",
      "dtypes: float32(100), float64(1), int64(2), object(7), uint8(20)\n",
      "memory usage: 112.4 MB\n"
     ]
    }
   ],
   "source": [
    "X_train.info(memory_usage= \"deep\")"
   ]
  },
  {
   "cell_type": "code",
   "execution_count": 191,
   "metadata": {
    "collapsed": true,
    "deletable": true,
    "editable": true
   },
   "outputs": [],
   "source": [
    "# save the cleaned and transformed training set - ready for modeling\n",
    "with open(\"../data/processed/X_train.pickle\", \"wb\") as handle:\n",
    "    pickle.dump(X_train, handle)"
   ]
  },
  {
   "cell_type": "code",
   "execution_count": 192,
   "metadata": {
    "collapsed": false,
    "deletable": true,
    "editable": true
   },
   "outputs": [
    {
     "data": {
      "text/plain": [
       "0"
      ]
     },
     "execution_count": 192,
     "metadata": {},
     "output_type": "execute_result"
    }
   ],
   "source": [
    "X_train.isnull().sum().sort_values(ascending=False)[0] #no missing values"
   ]
  },
  {
   "cell_type": "markdown",
   "metadata": {
    "deletable": true,
    "editable": true
   },
   "source": [
    "## Prepare the test feature matrix"
   ]
  },
  {
   "cell_type": "code",
   "execution_count": 193,
   "metadata": {
    "collapsed": true,
    "deletable": true,
    "editable": true
   },
   "outputs": [],
   "source": [
    "test_orders = orders_df[orders_df.eval_set == \"test\"]"
   ]
  },
  {
   "cell_type": "code",
   "execution_count": 194,
   "metadata": {
    "collapsed": false,
    "deletable": true,
    "editable": true
   },
   "outputs": [
    {
     "data": {
      "text/plain": [
       "(75000, 7)"
      ]
     },
     "execution_count": 194,
     "metadata": {},
     "output_type": "execute_result"
    }
   ],
   "source": [
    "test_orders.shape"
   ]
  },
  {
   "cell_type": "code",
   "execution_count": 195,
   "metadata": {
    "collapsed": true,
    "deletable": true,
    "editable": true
   },
   "outputs": [],
   "source": [
    "X_test = pd.merge(test_orders, X_features, how = \"inner\", on = \"user_id\")"
   ]
  },
  {
   "cell_type": "code",
   "execution_count": 196,
   "metadata": {
    "collapsed": false,
    "deletable": true,
    "editable": true
   },
   "outputs": [
    {
     "data": {
      "text/plain": [
       "(75000, 132)"
      ]
     },
     "execution_count": 196,
     "metadata": {},
     "output_type": "execute_result"
    }
   ],
   "source": [
    "X_test.shape #double check"
   ]
  },
  {
   "cell_type": "code",
   "execution_count": 197,
   "metadata": {
    "collapsed": false,
    "deletable": true,
    "editable": true
   },
   "outputs": [],
   "source": [
    "drop_cols = ['order_id', 'eval_set']\n",
    "X_test = clean_data_type(X_test, convert_ls = convert_cols, float_round_ls = round_cols, drop_cols_ls = drop_cols)"
   ]
  },
  {
   "cell_type": "code",
   "execution_count": 198,
   "metadata": {
    "collapsed": false,
    "deletable": true,
    "editable": true
   },
   "outputs": [
    {
     "data": {
      "text/plain": [
       "(75000, 130)"
      ]
     },
     "execution_count": 198,
     "metadata": {},
     "output_type": "execute_result"
    }
   ],
   "source": [
    "X_test.shape"
   ]
  },
  {
   "cell_type": "code",
   "execution_count": 199,
   "metadata": {
    "collapsed": false,
    "deletable": true,
    "editable": true
   },
   "outputs": [
    {
     "name": "stdout",
     "output_type": "stream",
     "text": [
      "<class 'pandas.core.frame.DataFrame'>\n",
      "Int64Index: 75000 entries, 0 to 74999\n",
      "Columns: 130 entries, user_id to emb_99\n",
      "dtypes: float32(100), float64(1), int64(2), object(7), uint8(20)\n",
      "memory usage: 64.3 MB\n"
     ]
    }
   ],
   "source": [
    "X_test.info(memory_usage=\"deep\")"
   ]
  },
  {
   "cell_type": "code",
   "execution_count": 200,
   "metadata": {
    "collapsed": true,
    "deletable": true,
    "editable": true
   },
   "outputs": [],
   "source": [
    "# save the cleaned and transformed test set - ready for prediction\n",
    "with open(\"../data/processed/X_test.pickle\", \"wb\") as handle:\n",
    "    pickle.dump(X_test, handle)"
   ]
  },
  {
   "cell_type": "code",
   "execution_count": 201,
   "metadata": {
    "collapsed": false,
    "deletable": true,
    "editable": true
   },
   "outputs": [
    {
     "data": {
      "text/plain": [
       "0"
      ]
     },
     "execution_count": 201,
     "metadata": {},
     "output_type": "execute_result"
    }
   ],
   "source": [
    "X_test.isnull().sum().sort_values(ascending=False)[0] #no missing values"
   ]
  },
  {
   "cell_type": "code",
   "execution_count": null,
   "metadata": {
    "collapsed": true
   },
   "outputs": [],
   "source": []
  }
 ],
 "metadata": {
  "kernelspec": {
   "display_name": "Python 3",
   "language": "python",
   "name": "python3"
  },
  "language_info": {
   "codemirror_mode": {
    "name": "ipython",
    "version": 3
   },
   "file_extension": ".py",
   "mimetype": "text/x-python",
   "name": "python",
   "nbconvert_exporter": "python",
   "pygments_lexer": "ipython3",
   "version": "3.5.2"
  }
 },
 "nbformat": 4,
 "nbformat_minor": 2
}
